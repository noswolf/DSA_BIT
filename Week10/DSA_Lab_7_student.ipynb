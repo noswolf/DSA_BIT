{
 "cells": [
  {
   "cell_type": "markdown",
   "metadata": {},
   "source": [
    "# Lab 7: Searching"
   ]
  },
  {
   "cell_type": "markdown",
   "metadata": {},
   "source": [
    "Instructor: Sirasit Lochanachit\n",
    "\n",
    "Course: 01526102 Data Sturctures and Algorithms"
   ]
  },
  {
   "cell_type": "markdown",
   "metadata": {},
   "source": [
    "## Gentle reminder of Big-O of data structures' operations\n",
    "\n",
    "Array or list:\n",
    "- Searching (indexing): __*O(1)*__\n",
    "- Appending: __*O(1)*__\n",
    "- Linear Search (unsorted data): __*O(N)*__\n",
    "- Binary Search (sorted data): __*O(log N)*__\n",
    "- Insertion/Deletion: __*O(N)*__\n",
    "\n",
    "Linkedlist:\n",
    "- Searching: __*O(N)*__\n",
    "- Appending: __*O(1)*__\n",
    "- Insertion/Deletion: __*O(1)*__"
   ]
  },
  {
   "cell_type": "markdown",
   "metadata": {},
   "source": [
    "## Lab 7-1: Implement Linear/Sequential Search and Binary Search"
   ]
  },
  {
   "cell_type": "markdown",
   "metadata": {},
   "source": [
    "Write a linear/sequential search function to search for a target in a given list\n",
    "- If a target is found, print an __index__ of the target and return `True`\n",
    "- If a target is not found, return `False`"
   ]
  },
  {
   "cell_type": "code",
   "execution_count": 1,
   "metadata": {},
   "outputs": [],
   "source": [
    "def linear_search(data, target): \n",
    "    ########################\n",
    "    ## Add your code here\n",
    "    ########################\n",
    "    pass"
   ]
  },
  {
   "cell_type": "code",
   "execution_count": 2,
   "metadata": {},
   "outputs": [
    {
     "name": "stdout",
     "output_type": "stream",
     "text": [
      "Found target at index: 2\n"
     ]
    },
    {
     "data": {
      "text/plain": [
       "True"
      ]
     },
     "execution_count": 2,
     "metadata": {},
     "output_type": "execute_result"
    }
   ],
   "source": [
    "data = [10,20,40,50]\n",
    "linear_search(data,40)"
   ]
  },
  {
   "cell_type": "code",
   "execution_count": 3,
   "metadata": {},
   "outputs": [
    {
     "data": {
      "text/plain": [
       "False"
      ]
     },
     "execution_count": 3,
     "metadata": {},
     "output_type": "execute_result"
    }
   ],
   "source": [
    "linear_search(data,100)"
   ]
  },
  {
   "cell_type": "markdown",
   "metadata": {},
   "source": [
    "Write a binary search function to search for a target in a given list\n",
    "- If a target is found, print an __index__ of the target and return `True`\n",
    "- If a target is not found, return `False`"
   ]
  },
  {
   "cell_type": "code",
   "execution_count": 11,
   "metadata": {},
   "outputs": [],
   "source": [
    "# Non-recursive version\n",
    "def binary_search_iterative(data, target):\n",
    "    ########################\n",
    "    ## Add your code here\n",
    "    ########################\n",
    "    pass"
   ]
  },
  {
   "cell_type": "code",
   "execution_count": 12,
   "metadata": {},
   "outputs": [
    {
     "name": "stdout",
     "output_type": "stream",
     "text": [
      "Found target at index: 2\n"
     ]
    },
    {
     "data": {
      "text/plain": [
       "True"
      ]
     },
     "execution_count": 12,
     "metadata": {},
     "output_type": "execute_result"
    }
   ],
   "source": [
    "binary_search_iterative(data,40)"
   ]
  },
  {
   "cell_type": "code",
   "execution_count": 7,
   "metadata": {},
   "outputs": [
    {
     "data": {
      "text/plain": [
       "False"
      ]
     },
     "execution_count": 7,
     "metadata": {},
     "output_type": "execute_result"
    }
   ],
   "source": [
    "binary_search_iterative(data,100)"
   ]
  },
  {
   "cell_type": "markdown",
   "metadata": {},
   "source": [
    "## Comparison to <code>dict</code>\n",
    "\n",
    "The `dict` types don't support access by a positional value (i.e., by index), but do support lookup/search."
   ]
  },
  {
   "cell_type": "markdown",
   "metadata": {},
   "source": [
    "How fast do dict add & search operations fare compared to lists?"
   ]
  },
  {
   "cell_type": "code",
   "execution_count": null,
   "metadata": {},
   "outputs": [],
   "source": [
    "import timeit\n",
    "import matplotlib.pyplot as plt\n",
    "import numpy as np\n",
    "import random\n",
    "\n",
    "%matplotlib inline\n",
    "plt.rcParams['figure.figsize'] = [10, 6] # set size of plot\n",
    "\n",
    "ns = np.linspace(100, 10_000, 50, dtype=int)\n",
    "\n",
    "ts_linsearch = [timeit.timeit('linear_search(lst, lst[-1])',\n",
    "                              setup=f'lst = list(range({n}))',\n",
    "                              globals=globals(),\n",
    "                              number=100)\n",
    "                for n in ns]\n",
    "\n",
    "ts_binsearch = [timeit.timeit('binary_search_iterative(lst, 0)',\n",
    "                              setup=f'lst = list(range({n}))',\n",
    "                              globals=globals(),\n",
    "                              number=100)\n",
    "                for n in ns]\n",
    "\n",
    "ts_dctadd    = [timeit.timeit(f'dct[{n}] = 0',\n",
    "                              setup=f'dct = {{x:x for x in range({n})}}',\n",
    "                              globals=globals(),\n",
    "                              number=100)\n",
    "                for n in ns]\n",
    "\n",
    "ts_dctsearch = [timeit.timeit(f'{0} in dct', # try for other values\n",
    "                              setup=f'dct = {{x:x for x in range({n})}}',\n",
    "                              globals=globals(),\n",
    "                              number=100)\n",
    "                for n in ns]"
   ]
  },
  {
   "cell_type": "code",
   "execution_count": null,
   "metadata": {},
   "outputs": [],
   "source": [
    "plt.plot(ns, ts_linsearch, 'sr') # Square Red\n",
    "plt.plot(ns, ts_binsearch, 'sg') # Square Green\n",
    "\n",
    "plt.plot(ns, ts_dctadd, 'dm');   # Diamond Magenta\n",
    "plt.plot(ns, ts_dctsearch, 'ob'); # Circle Blue"
   ]
  },
  {
   "cell_type": "markdown",
   "metadata": {},
   "source": [
    " Dictionaries appear to be able to implement insertion and search in constant time even though it doesn't have an index to access elements"
   ]
  },
  {
   "cell_type": "markdown",
   "metadata": {},
   "source": [
    "## Direct lookups via Hashing"
   ]
  },
  {
   "cell_type": "markdown",
   "metadata": {},
   "source": [
    "Hashes (a.k.a. hash codes or hash values) are simply numerical values computed for objects."
   ]
  },
  {
   "cell_type": "code",
   "execution_count": null,
   "metadata": {},
   "outputs": [],
   "source": [
    "hash('hello')"
   ]
  },
  {
   "cell_type": "code",
   "execution_count": null,
   "metadata": {},
   "outputs": [],
   "source": [
    "hash('skywalker')"
   ]
  },
  {
   "cell_type": "code",
   "execution_count": null,
   "metadata": {},
   "outputs": [],
   "source": [
    "hash('skywalkers')"
   ]
  },
  {
   "cell_type": "code",
   "execution_count": null,
   "metadata": {},
   "outputs": [],
   "source": [
    "hash('skywalked')"
   ]
  },
  {
   "cell_type": "code",
   "execution_count": null,
   "metadata": {},
   "outputs": [],
   "source": [
    "[hash(s) for s in ['different', 'objects', 'have', 'very', 'different', 'hashes']]"
   ]
  },
  {
   "cell_type": "markdown",
   "metadata": {},
   "source": [
    "How about modulo division (i.e. bucket)?"
   ]
  },
  {
   "cell_type": "code",
   "execution_count": null,
   "metadata": {},
   "outputs": [],
   "source": [
    "[hash(s)%100 for s in ['different', 'objects', 'have', 'very', 'different', 'hashes']]"
   ]
  },
  {
   "cell_type": "markdown",
   "metadata": {},
   "source": [
    "### Random Hashing\n",
    "\n",
    "The `hash` function in Python is _randomized_ by default -- i.e., each time a Python interpreter is fired up, the implementation of `hash` will use a different \"seed\" for the random number generator used in computing hashes. \n",
    "\n",
    "- While hashcodes computed for a given value will be consistent for a given interpreter instance, they will not be across instances! \n",
    "- This means we shouldn't save hashcodes for values to disk, or save them to a database, as values will almost certainly hash to different hashcodes after we restart our software!"
   ]
  },
  {
   "cell_type": "markdown",
   "metadata": {},
   "source": [
    "## Hashtables\n",
    "\n",
    "A hashtable is an implementation of the \"map\" abstract data type (aka \"dictionary\"), which associate keys (must be unique) with values. \\\n",
    "\n",
    "A hashtable uses the hashcode for a key to compute an index into an array where the corresponding key/value pair will be stored."
   ]
  },
  {
   "cell_type": "code",
   "execution_count": 30,
   "metadata": {},
   "outputs": [],
   "source": [
    "class Hashtable:\n",
    "    def __init__(self, n_buckets):\n",
    "        self.buckets = [None] * n_buckets\n",
    "        \n",
    "    def __setitem__(self, key, val):\n",
    "        bidx = hash(key) % len(self.buckets)\n",
    "        self.buckets[bidx] = [key, val]\n",
    "    \n",
    "    def __getitem__(self, key):\n",
    "        bidx = hash(key) % len(self.buckets)\n",
    "        if self.buckets[bidx] is not None:\n",
    "            return self.buckets[bidx][1]\n",
    "        else:\n",
    "            raise KeyError(key)\n",
    "        \n",
    "    def __contains__(self, key):\n",
    "        try:\n",
    "            _ = self[key]\n",
    "            return True\n",
    "        except:\n",
    "            return False"
   ]
  },
  {
   "cell_type": "code",
   "execution_count": 40,
   "metadata": {},
   "outputs": [],
   "source": [
    "ht = Hashtable(75)\n",
    "ht[175] = 'Tony Stark'\n",
    "ht[100] = 'Steve Rogers'\n",
    "ht[275] = 'Peter Parker'"
   ]
  },
  {
   "cell_type": "code",
   "execution_count": 41,
   "metadata": {},
   "outputs": [
    {
     "data": {
      "text/plain": [
       "'Steve Rogers'"
      ]
     },
     "execution_count": 41,
     "metadata": {},
     "output_type": "execute_result"
    }
   ],
   "source": [
    "ht[175]"
   ]
  },
  {
   "cell_type": "code",
   "execution_count": 42,
   "metadata": {},
   "outputs": [
    {
     "data": {
      "text/plain": [
       "'Steve Rogers'"
      ]
     },
     "execution_count": 42,
     "metadata": {},
     "output_type": "execute_result"
    }
   ],
   "source": [
    "ht[100]"
   ]
  },
  {
   "cell_type": "markdown",
   "metadata": {},
   "source": [
    "Collision?"
   ]
  },
  {
   "cell_type": "code",
   "execution_count": null,
   "metadata": {},
   "outputs": [],
   "source": [
    "ht[275]"
   ]
  },
  {
   "cell_type": "code",
   "execution_count": null,
   "metadata": {},
   "outputs": [],
   "source": [
    "print(hash(175)%75)\n",
    "print(hash(100)%75)\n",
    "print(hash(275)%75)"
   ]
  },
  {
   "cell_type": "markdown",
   "metadata": {},
   "source": [
    "## Lab 7-2: Dealing with Collisions\n",
    "\n",
    "Implement insertData method in a Hastable class to insert a key/value pair\n",
    "- Calculate the hashkey to find out which bucket to insert the key/value pair using division modulo: $ hash(k) $ mod $n$, where $n$ is the number of buckets\n",
    "- Rehash the key if the collision occurs using Linear Probing\n",
    "  - If the number of collision is equal to the number of buckets, stop the insertion and return \"Bucket is Full\"\n",
    "- If cannot insert, return Error\n",
    "\n",
    "Implement searchData method in a Hashtable class to search for a given key\n",
    "- Calculate the hashkey to find out which bucket to search insert the key/value pair using division modulo: $ hash(k) $ mod $n$, where $n$ is the number of buckets\n",
    "- Rehash the key if the collision occurs using Linear Probing and continues the search\n",
    "  - If the number of collision is equal to the number of buckets, stop the search and return \"Not Found\"\n",
    "- If not found, return \"Not Found\""
   ]
  },
  {
   "cell_type": "code",
   "execution_count": null,
   "metadata": {},
   "outputs": [],
   "source": [
    "class Hashtable:\n",
    "    def __init__(self, n_buckets):\n",
    "        self.buckets = [None] * n_buckets\n",
    "        \n",
    "    def __setitem__(self, key, val):\n",
    "        bidx = hash(key) % len(self.buckets)\n",
    "        self.buckets[bidx] = [key, val]\n",
    "    \n",
    "    def __getitem__(self, key):\n",
    "        bidx = hash(key) % len(self.buckets)\n",
    "        if self.buckets[bidx] is not None:\n",
    "            return self.buckets[bidx][1]\n",
    "        else:\n",
    "            raise KeyError(key)\n",
    "        \n",
    "    def __contains__(self, key):\n",
    "        try:\n",
    "            _ = self[key]\n",
    "            return True\n",
    "        except:\n",
    "            return False\n",
    "    \n",
    "    def insertData(self, key, val):\n",
    "        no_collision = 0\n",
    "        ########################\n",
    "        ## Add your code here\n",
    "        ########################\n",
    "        pass\n",
    "\n",
    "    def searchData(self, key):\n",
    "        no_collision = 0\n",
    "        ########################\n",
    "        ## Add your code here\n",
    "        ########################\n",
    "        pass"
   ]
  },
  {
   "cell_type": "code",
   "execution_count": 52,
   "metadata": {},
   "outputs": [
    {
     "name": "stdout",
     "output_type": "stream",
     "text": [
      "Insert  175 at index 25\n",
      "Insert  100 at index 26\n",
      "Insert  275 at index 50\n"
     ]
    }
   ],
   "source": [
    "ht = Hashtable(75)\n",
    "ht.insertData(175, 'Tony Stark')\n",
    "ht.insertData(100, 'Steve Rogers')\n",
    "ht.insertData(275, 'Peter Parker')"
   ]
  },
  {
   "cell_type": "code",
   "execution_count": 53,
   "metadata": {},
   "outputs": [
    {
     "name": "stdout",
     "output_type": "stream",
     "text": [
      "Found  175 at index 25\n"
     ]
    },
    {
     "data": {
      "text/plain": [
       "'Tony Stark'"
      ]
     },
     "execution_count": 53,
     "metadata": {},
     "output_type": "execute_result"
    }
   ],
   "source": [
    "ht.searchData(175)"
   ]
  },
  {
   "cell_type": "code",
   "execution_count": 54,
   "metadata": {},
   "outputs": [
    {
     "name": "stdout",
     "output_type": "stream",
     "text": [
      "Found  100 at index 26\n"
     ]
    },
    {
     "data": {
      "text/plain": [
       "'Steve Rogers'"
      ]
     },
     "execution_count": 54,
     "metadata": {},
     "output_type": "execute_result"
    }
   ],
   "source": [
    "ht.searchData(100)"
   ]
  },
  {
   "cell_type": "code",
   "execution_count": 55,
   "metadata": {},
   "outputs": [
    {
     "name": "stdout",
     "output_type": "stream",
     "text": [
      "Found  275 at index 50\n"
     ]
    },
    {
     "data": {
      "text/plain": [
       "'Peter Parker'"
      ]
     },
     "execution_count": 55,
     "metadata": {},
     "output_type": "execute_result"
    }
   ],
   "source": [
    "ht.searchData(275)"
   ]
  },
  {
   "cell_type": "code",
   "execution_count": 56,
   "metadata": {},
   "outputs": [
    {
     "name": "stdout",
     "output_type": "stream",
     "text": [
      "300 does not exist.\n"
     ]
    },
    {
     "data": {
      "text/plain": [
       "False"
      ]
     },
     "execution_count": 56,
     "metadata": {},
     "output_type": "execute_result"
    }
   ],
   "source": [
    "ht.searchData(300)"
   ]
  }
 ],
 "metadata": {
  "kernelspec": {
   "display_name": "Python 3",
   "language": "python",
   "name": "python3"
  },
  "language_info": {
   "codemirror_mode": {
    "name": "ipython",
    "version": 3
   },
   "file_extension": ".py",
   "mimetype": "text/x-python",
   "name": "python",
   "nbconvert_exporter": "python",
   "pygments_lexer": "ipython3",
   "version": "3.10.2"
  },
  "orig_nbformat": 4
 },
 "nbformat": 4,
 "nbformat_minor": 2
}
