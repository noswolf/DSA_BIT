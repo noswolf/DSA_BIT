{
  "nbformat": 4,
  "nbformat_minor": 0,
  "metadata": {
    "colab": {
      "name": "DSA_Week1.ipynb",
      "provenance": [],
      "collapsed_sections": [
        "HtawGe-yM1JK",
        "s61y6fW0M9Vx",
        "hf9hB-M6akBO",
        "rChlwNPmNhRm",
        "8HqkTOj_Wo7v"
      ],
      "toc_visible": true,
      "authorship_tag": "ABX9TyO7caDX/uzd0oXg1kwPu4CU",
      "include_colab_link": true
    },
    "kernelspec": {
      "name": "python3",
      "display_name": "Python 3"
    }
  },
  "cells": [
    {
      "cell_type": "markdown",
      "metadata": {
        "id": "view-in-github",
        "colab_type": "text"
      },
      "source": [
        "<a href=\"https://colab.research.google.com/github/noswolf/DSA_BIT/blob/master/Week1/DSA_Week1.ipynb\" target=\"_parent\"><img src=\"https://colab.research.google.com/assets/colab-badge.svg\" alt=\"Open In Colab\"/></a>"
      ]
    },
    {
      "cell_type": "markdown",
      "metadata": {
        "id": "-fDxsauuLEsy",
        "colab_type": "text"
      },
      "source": [
        "Import required libraries"
      ]
    },
    {
      "cell_type": "code",
      "metadata": {
        "id": "mrLvTlCrKpjm",
        "colab_type": "code",
        "colab": {}
      },
      "source": [
        "import time\n",
        "import numpy as np\n",
        "import matplotlib.pyplot as plt\n"
      ],
      "execution_count": 1,
      "outputs": []
    },
    {
      "cell_type": "markdown",
      "metadata": {
        "id": "HtawGe-yM1JK",
        "colab_type": "text"
      },
      "source": [
        "# Benchmark Analysis"
      ]
    },
    {
      "cell_type": "markdown",
      "metadata": {
        "id": "dq3aS_MNLxqR",
        "colab_type": "text"
      },
      "source": [
        "Iterative version of sum function"
      ]
    },
    {
      "cell_type": "code",
      "metadata": {
        "id": "eGwD5HPHLMSu",
        "colab_type": "code",
        "colab": {}
      },
      "source": [
        "def sumOfN1(n):\n",
        "   theSum = 0\n",
        "   for i in range(1,n+1):\n",
        "      theSum = theSum + i\n",
        "   return theSum"
      ],
      "execution_count": 2,
      "outputs": []
    },
    {
      "cell_type": "code",
      "metadata": {
        "id": "sLGJV4J3LKLq",
        "colab_type": "code",
        "colab": {
          "base_uri": "https://localhost:8080/",
          "height": 51
        },
        "outputId": "640feeb9-f387-435c-de6c-aa2ec01edddf"
      },
      "source": [
        "# Start timer\n",
        "start = time.time()\n",
        "# Execute function\n",
        "total_sum = sumOfN1(10000)\n",
        "# Record time after function finishes\n",
        "end = time.time()\n",
        "\n",
        "# Take difference to record time used\n",
        "running_time = end-start\n",
        "\n",
        "print(\"Total Sum: %d\"%total_sum)\n",
        "print(\"Time executed: %10.7f seconds\"%running_time)"
      ],
      "execution_count": 3,
      "outputs": [
        {
          "output_type": "stream",
          "text": [
            "Total Sum: 50005000\n",
            "Time executed:  0.0010324 seconds\n"
          ],
          "name": "stdout"
        }
      ]
    },
    {
      "cell_type": "markdown",
      "metadata": {
        "id": "sz8UVqgPL33A",
        "colab_type": "text"
      },
      "source": [
        "Summation using equation"
      ]
    },
    {
      "cell_type": "code",
      "metadata": {
        "id": "1oaAGG4NLLHy",
        "colab_type": "code",
        "colab": {}
      },
      "source": [
        "def sumOfN2(n):\n",
        "   return (n*(n+1))/2"
      ],
      "execution_count": 4,
      "outputs": []
    },
    {
      "cell_type": "code",
      "metadata": {
        "id": "0Fri1kjgMJS5",
        "colab_type": "code",
        "colab": {
          "base_uri": "https://localhost:8080/",
          "height": 51
        },
        "outputId": "60f495ca-274f-4013-9dfa-93d00af7cf6f"
      },
      "source": [
        "# Start timer\n",
        "start = time.time()\n",
        "# Execute function\n",
        "total_sum = sumOfN2(10000)\n",
        "# Record time after function finishes\n",
        "end = time.time()\n",
        "\n",
        "# Take difference to record time used\n",
        "running_time = end-start\n",
        "\n",
        "print(\"Total Sum: %d\"%total_sum)\n",
        "print(\"Time executed: %10.7f seconds\"%running_time)"
      ],
      "execution_count": 5,
      "outputs": [
        {
          "output_type": "stream",
          "text": [
            "Total Sum: 50005000\n",
            "Time executed:  0.0000751 seconds\n"
          ],
          "name": "stdout"
        }
      ]
    },
    {
      "cell_type": "markdown",
      "metadata": {
        "id": "s61y6fW0M9Vx",
        "colab_type": "text"
      },
      "source": [
        "# Big-O notation"
      ]
    },
    {
      "cell_type": "markdown",
      "metadata": {
        "id": "lmPB2ZanWYu4",
        "colab_type": "text"
      },
      "source": [
        "Factorial - O(n)"
      ]
    },
    {
      "cell_type": "code",
      "metadata": {
        "id": "S5_AokQqMPJ5",
        "colab_type": "code",
        "colab": {}
      },
      "source": [
        "def factorial1(n):\n",
        "  if n <= 1:\n",
        "    return 1\n",
        "  else:\n",
        "    fact = 1\n",
        "    for num in range(2,n+1):\n",
        "      fact *= num\n",
        "    return fact"
      ],
      "execution_count": 6,
      "outputs": []
    },
    {
      "cell_type": "code",
      "metadata": {
        "id": "jV56n3L_JIlS",
        "colab_type": "code",
        "colab": {
          "base_uri": "https://localhost:8080/",
          "height": 34
        },
        "outputId": "2c67f172-5ba3-420e-9fd0-1a94da333900"
      },
      "source": [
        "factorial1(10)"
      ],
      "execution_count": 7,
      "outputs": [
        {
          "output_type": "execute_result",
          "data": {
            "text/plain": [
              "3628800"
            ]
          },
          "metadata": {
            "tags": []
          },
          "execution_count": 7
        }
      ]
    },
    {
      "cell_type": "markdown",
      "metadata": {
        "id": "6ZZQFXpbp_iF",
        "colab_type": "text"
      },
      "source": [
        "Separate loops are O(n)"
      ]
    },
    {
      "cell_type": "code",
      "metadata": {
        "id": "GqyiKSyup9Xf",
        "colab_type": "code",
        "colab": {}
      },
      "source": [
        "test = 0\n",
        "n = 100\n",
        "for i in range(n):\n",
        "   test = test + 1\n",
        "\n",
        "for j in range(n):\n",
        "   test = test - 1"
      ],
      "execution_count": 8,
      "outputs": []
    },
    {
      "cell_type": "markdown",
      "metadata": {
        "id": "fDQjzOV0qSEN",
        "colab_type": "text"
      },
      "source": [
        "Value i is cut in half each time through the loop so it is O(log n)"
      ]
    },
    {
      "cell_type": "code",
      "metadata": {
        "id": "J8AXBQapqRoN",
        "colab_type": "code",
        "colab": {}
      },
      "source": [
        "i = n\n",
        "while i > 0:\n",
        "   k = 2 + 2\n",
        "   i = i // 2"
      ],
      "execution_count": 9,
      "outputs": []
    },
    {
      "cell_type": "markdown",
      "metadata": {
        "id": "FApZBemaagzH",
        "colab_type": "text"
      },
      "source": [
        "## Nested Loops"
      ]
    },
    {
      "cell_type": "markdown",
      "metadata": {
        "id": "hf9hB-M6akBO",
        "colab_type": "text"
      },
      "source": [
        "### Simple - O(n<sup>2</sup>)"
      ]
    },
    {
      "cell_type": "code",
      "metadata": {
        "id": "pzI5g8gPa2S4",
        "colab_type": "code",
        "colab": {}
      },
      "source": [
        "def simple(n):\n",
        "  for i in range(n):\n",
        "    for j in range(n):\n",
        "      print(\"i: {0}, j: {1}\".format(i,j))"
      ],
      "execution_count": 10,
      "outputs": []
    },
    {
      "cell_type": "code",
      "metadata": {
        "id": "hCPOFOugbDIH",
        "colab_type": "code",
        "colab": {
          "base_uri": "https://localhost:8080/",
          "height": 0
        },
        "outputId": "7bb4c158-7f3e-4a5b-a1a0-7c2a770f40d4"
      },
      "source": [
        "simple(3)"
      ],
      "execution_count": 11,
      "outputs": [
        {
          "output_type": "stream",
          "text": [
            "i: 0, j: 0\n",
            "i: 0, j: 1\n",
            "i: 0, j: 2\n",
            "i: 1, j: 0\n",
            "i: 1, j: 1\n",
            "i: 1, j: 2\n",
            "i: 2, j: 0\n",
            "i: 2, j: 1\n",
            "i: 2, j: 2\n"
          ],
          "name": "stdout"
        }
      ]
    },
    {
      "cell_type": "markdown",
      "metadata": {
        "id": "rChlwNPmNhRm",
        "colab_type": "text"
      },
      "source": [
        "### Element Uniqueness"
      ]
    },
    {
      "cell_type": "markdown",
      "metadata": {
        "id": "OC5hw8NoRDj9",
        "colab_type": "text"
      },
      "source": [
        "First version - O(n<sup>2</sup>)"
      ]
    },
    {
      "cell_type": "code",
      "metadata": {
        "id": "OqrT83N_OM4H",
        "colab_type": "code",
        "colab": {}
      },
      "source": [
        "def unique1(s):\n",
        "  for i in range(len(s)):\n",
        "    for j in range(i+1, len(s)):\n",
        "      if s[i] == s[j]:\n",
        "        return False            # Found duplicate pair\n",
        "  return True                   # All elements are unique"
      ],
      "execution_count": 12,
      "outputs": []
    },
    {
      "cell_type": "code",
      "metadata": {
        "id": "MDKJBPxzOeau",
        "colab_type": "code",
        "colab": {
          "base_uri": "https://localhost:8080/",
          "height": 0
        },
        "outputId": "3f68342d-2b83-41d3-8c91-1a7eb8bd1807"
      },
      "source": [
        "print(unique1(['a','b','a']))\n",
        "print(unique1(['a','b','c']))"
      ],
      "execution_count": 13,
      "outputs": [
        {
          "output_type": "stream",
          "text": [
            "False\n",
            "True\n"
          ],
          "name": "stdout"
        }
      ]
    },
    {
      "cell_type": "markdown",
      "metadata": {
        "id": "Crmf32rFRGIV",
        "colab_type": "text"
      },
      "source": [
        "Second version - O(n log n)"
      ]
    },
    {
      "cell_type": "code",
      "metadata": {
        "id": "nY11ouyQRIGl",
        "colab_type": "code",
        "colab": {}
      },
      "source": [
        "def unique2(s):\n",
        "  temp = sorted(s)              # create a sorted copy of s - O(n log n)\n",
        "  for i in range(1, len(temp)):\n",
        "    if temp[i-1] == temp[i]:\n",
        "      return False              # Found duplicate pair\n",
        "  return True                   # All elements are unique"
      ],
      "execution_count": 14,
      "outputs": []
    },
    {
      "cell_type": "code",
      "metadata": {
        "id": "zebQO34yShnN",
        "colab_type": "code",
        "colab": {
          "base_uri": "https://localhost:8080/",
          "height": 0
        },
        "outputId": "6305ac58-165a-4de5-f657-bc5525286537"
      },
      "source": [
        "print(unique2(['a','b','a']))\n",
        "print(unique2(['a','b','c']))"
      ],
      "execution_count": 15,
      "outputs": [
        {
          "output_type": "stream",
          "text": [
            "False\n",
            "True\n"
          ],
          "name": "stdout"
        }
      ]
    },
    {
      "cell_type": "markdown",
      "metadata": {
        "id": "8HqkTOj_Wo7v",
        "colab_type": "text"
      },
      "source": [
        "### Prefix Averages\n",
        "\n",
        "- Example usage: Track average daily web usage over various time periods."
      ]
    },
    {
      "cell_type": "markdown",
      "metadata": {
        "id": "cqBqb-TuGH_P",
        "colab_type": "text"
      },
      "source": [
        "First version - O(n<sup>2</sup>)"
      ]
    },
    {
      "cell_type": "code",
      "metadata": {
        "id": "anbJdwHTWsx-",
        "colab_type": "code",
        "colab": {}
      },
      "source": [
        "def prefix_average1(s):\n",
        "  n = len(s)\n",
        "  a = [0] * n             # create list of n zeros\n",
        "  for i in range(n):\n",
        "    total = 0             # compute each element\n",
        "    for j in range(i+1):\n",
        "      total += s[j]\n",
        "    a[i] = total / (i+1)  # record the average\n",
        "  return a"
      ],
      "execution_count": 16,
      "outputs": []
    },
    {
      "cell_type": "code",
      "metadata": {
        "id": "uYZzebxwXnTm",
        "colab_type": "code",
        "colab": {
          "base_uri": "https://localhost:8080/",
          "height": 0
        },
        "outputId": "c5497d7c-bea2-448f-f20c-918ee7c0b338"
      },
      "source": [
        "prefix_average1([10,20,90,100])   # Average of 1 day, 2 days, 3 days, and so on."
      ],
      "execution_count": 17,
      "outputs": [
        {
          "output_type": "execute_result",
          "data": {
            "text/plain": [
              "[10.0, 15.0, 40.0, 55.0]"
            ]
          },
          "metadata": {
            "tags": []
          },
          "execution_count": 17
        }
      ]
    },
    {
      "cell_type": "markdown",
      "metadata": {
        "id": "5UjgWb6UGFKg",
        "colab_type": "text"
      },
      "source": [
        "Second version - O(n<sup>2</sup>)"
      ]
    },
    {
      "cell_type": "code",
      "metadata": {
        "id": "hh19wlxTXruu",
        "colab_type": "code",
        "colab": {}
      },
      "source": [
        "def prefix_average2(s):\n",
        "  n = len(s)\n",
        "  a = [0] * n                   # create list of n zeros\n",
        "  for i in range(n):\n",
        "    a[i] = sum(s[0:i+1])/(i+1)  # record the average\n",
        "  return a"
      ],
      "execution_count": 18,
      "outputs": []
    },
    {
      "cell_type": "code",
      "metadata": {
        "id": "fw3LMy9rGgIG",
        "colab_type": "code",
        "colab": {
          "base_uri": "https://localhost:8080/",
          "height": 0
        },
        "outputId": "60e2d345-d16d-46ad-a9f5-d917ab8a8488"
      },
      "source": [
        "prefix_average2([10,20,90,100])   # Average of 1 day, 2 days, 3 days, and so on."
      ],
      "execution_count": 19,
      "outputs": [
        {
          "output_type": "execute_result",
          "data": {
            "text/plain": [
              "[10.0, 15.0, 40.0, 55.0]"
            ]
          },
          "metadata": {
            "tags": []
          },
          "execution_count": 19
        }
      ]
    },
    {
      "cell_type": "markdown",
      "metadata": {
        "id": "TePZ2uDTII1f",
        "colab_type": "text"
      },
      "source": [
        "Third version (linear) - O(n)"
      ]
    },
    {
      "cell_type": "code",
      "metadata": {
        "id": "aYRrN77gGfgf",
        "colab_type": "code",
        "colab": {}
      },
      "source": [
        "def prefix_average3(s):\n",
        "  n = len(s)\n",
        "  a = [0] * n             # create list of n zeros\n",
        "  total = 0\n",
        "  for i in range(n):\n",
        "    total += s[i]         # update total sum to include s[i]\n",
        "    a[i] = total / (i+1)  # compute average based on current sum\n",
        "  return a"
      ],
      "execution_count": 20,
      "outputs": []
    },
    {
      "cell_type": "code",
      "metadata": {
        "id": "ySecafC7IZKZ",
        "colab_type": "code",
        "colab": {
          "base_uri": "https://localhost:8080/",
          "height": 0
        },
        "outputId": "7d76fb44-bb8e-4d65-b202-c88a5c56a69b"
      },
      "source": [
        "prefix_average3([10,20,90,100])   # Average of 1 day, 2 days, 3 days, and so on."
      ],
      "execution_count": 21,
      "outputs": [
        {
          "output_type": "execute_result",
          "data": {
            "text/plain": [
              "[10.0, 15.0, 40.0, 55.0]"
            ]
          },
          "metadata": {
            "tags": []
          },
          "execution_count": 21
        }
      ]
    },
    {
      "cell_type": "markdown",
      "metadata": {
        "id": "cEWgtkjnBMLU",
        "colab_type": "text"
      },
      "source": [
        "## Logarithmic loops O(log n)"
      ]
    },
    {
      "cell_type": "code",
      "metadata": {
        "id": "OpQ8NBrf50Wj",
        "colab_type": "code",
        "colab": {
          "base_uri": "https://localhost:8080/",
          "height": 187
        },
        "outputId": "0e93748f-0649-4090-ddc7-8d0610c1f2e8"
      },
      "source": [
        "i=1\n",
        "while i<1000:\n",
        "  print(i)\n",
        "  i *= 2"
      ],
      "execution_count": 38,
      "outputs": [
        {
          "output_type": "stream",
          "text": [
            "1\n",
            "2\n",
            "4\n",
            "8\n",
            "16\n",
            "32\n",
            "64\n",
            "128\n",
            "256\n",
            "512\n"
          ],
          "name": "stdout"
        }
      ]
    },
    {
      "cell_type": "code",
      "metadata": {
        "id": "SSMDBie6530H",
        "colab_type": "code",
        "colab": {
          "base_uri": "https://localhost:8080/",
          "height": 187
        },
        "outputId": "9a42f013-0cad-4784-e136-8295cf3a5d89"
      },
      "source": [
        "i = 1000\n",
        "while i>=1:\n",
        "  print(i)\n",
        "  i //= 2"
      ],
      "execution_count": 39,
      "outputs": [
        {
          "output_type": "stream",
          "text": [
            "1000\n",
            "500\n",
            "250\n",
            "125\n",
            "62\n",
            "31\n",
            "15\n",
            "7\n",
            "3\n",
            "1\n"
          ],
          "name": "stdout"
        }
      ]
    },
    {
      "cell_type": "code",
      "metadata": {
        "id": "zpoS3_Lr-ezf",
        "colab_type": "code",
        "colab": {
          "base_uri": "https://localhost:8080/",
          "height": 34
        },
        "outputId": "f10bb9e7-ba68-4346-d104-4be6d33face0"
      },
      "source": [
        "np.log2(1000)"
      ],
      "execution_count": 40,
      "outputs": [
        {
          "output_type": "execute_result",
          "data": {
            "text/plain": [
              "9.965784284662087"
            ]
          },
          "metadata": {
            "tags": []
          },
          "execution_count": 40
        }
      ]
    },
    {
      "cell_type": "markdown",
      "metadata": {
        "id": "AOmE5vnKUpHO",
        "colab_type": "text"
      },
      "source": [
        "# Exercises"
      ]
    },
    {
      "cell_type": "markdown",
      "metadata": {
        "id": "f3s8oO19VIkF",
        "colab_type": "text"
      },
      "source": [
        "**Example 1: O(?)**"
      ]
    },
    {
      "cell_type": "code",
      "metadata": {
        "id": "FAvwnRb5Unvm",
        "colab_type": "code",
        "colab": {}
      },
      "source": [
        "def example1(s):\n",
        "  n = len(s)\n",
        "  total = 0\n",
        "  for i in range(n):    # loop from 0 to n-1\n",
        "    total += s[i]\n",
        "  return total\n"
      ],
      "execution_count": 22,
      "outputs": []
    },
    {
      "cell_type": "markdown",
      "metadata": {
        "id": "frLGcjTlVLqN",
        "colab_type": "text"
      },
      "source": [
        "**Example 2: O(?)**"
      ]
    },
    {
      "cell_type": "code",
      "metadata": {
        "id": "-Rojh-UKVNBj",
        "colab_type": "code",
        "colab": {}
      },
      "source": [
        "def example2(s):\n",
        "  n = len(s)\n",
        "  total = 0\n",
        "  for i in range(0,n,2):  # Increment of 2\n",
        "    total += s[i]\n",
        "  return total"
      ],
      "execution_count": 23,
      "outputs": []
    },
    {
      "cell_type": "markdown",
      "metadata": {
        "id": "y3_IGG2YVuNu",
        "colab_type": "text"
      },
      "source": [
        "**Example 3: O(?)**"
      ]
    },
    {
      "cell_type": "code",
      "metadata": {
        "id": "ZDFqloUuVYOM",
        "colab_type": "code",
        "colab": {}
      },
      "source": [
        "def example3(s):\n",
        "  n = len(s)\n",
        "  total = 0\n",
        "  for i in range(n):      # loop from 0 to n-1\n",
        "    for k in range(1+i):  # loop from 0 to i\n",
        "      total += s[k]\n",
        "  return total"
      ],
      "execution_count": 24,
      "outputs": []
    },
    {
      "cell_type": "markdown",
      "metadata": {
        "id": "4m6V0mMiWG7e",
        "colab_type": "text"
      },
      "source": [
        "**Example 4: O(?)**"
      ]
    },
    {
      "cell_type": "code",
      "metadata": {
        "id": "HumEf6njWGnH",
        "colab_type": "code",
        "colab": {}
      },
      "source": [
        "def example4(s):\n",
        "  n = len(s)\n",
        "  prefix = 0\n",
        "  total = 0\n",
        "  for i in range(n): \n",
        "    prefix += s[i]\n",
        "    total += prefix\n",
        "  return total"
      ],
      "execution_count": 25,
      "outputs": []
    },
    {
      "cell_type": "markdown",
      "metadata": {
        "id": "-egMqoJMXEl9",
        "colab_type": "text"
      },
      "source": [
        "**Example 5: O(?)**"
      ]
    },
    {
      "cell_type": "code",
      "metadata": {
        "id": "TuRynzlKXGLT",
        "colab_type": "code",
        "colab": {}
      },
      "source": [
        "# Assume that A and B have equal length of n\n",
        "def example5(A,B):  \n",
        "  n = len(A)\n",
        "  count = 0\n",
        "  for i in range(n):        # loop from 0 to n-1\n",
        "    total = 0\n",
        "    for j in range(n):      # loop from 0 to n-1\n",
        "      for k in range(1+j):  # loop from 0 to j\n",
        "        total += A[k]\n",
        "    if B[i] == total:\n",
        "      count += 1\n",
        "  return count"
      ],
      "execution_count": 26,
      "outputs": []
    }
  ]
}