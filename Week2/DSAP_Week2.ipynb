{
  "nbformat": 4,
  "nbformat_minor": 0,
  "metadata": {
    "colab": {
      "provenance": []
    },
    "kernelspec": {
      "name": "python3",
      "display_name": "Python 3"
    },
    "language_info": {
      "name": "python"
    }
  },
  "cells": [
    {
      "cell_type": "code",
      "execution_count": null,
      "metadata": {
        "id": "dXv40oiqtg0T"
      },
      "outputs": [],
      "source": [
        "import time"
      ]
    },
    {
      "cell_type": "code",
      "source": [
        "def sumOfN(n:int):\n",
        "  total = 0\n",
        "  for i in range(1, n+1):\n",
        "    total = total + i\n",
        "  return total"
      ],
      "metadata": {
        "id": "taPda9aL0okQ"
      },
      "execution_count": null,
      "outputs": []
    },
    {
      "cell_type": "code",
      "source": [
        "sumOfN(1000000)"
      ],
      "metadata": {
        "colab": {
          "base_uri": "https://localhost:8080/"
        },
        "id": "plL7en7w1D42",
        "outputId": "e4572eab-ff79-431d-ecba-9a0a4735966f"
      },
      "execution_count": null,
      "outputs": [
        {
          "output_type": "execute_result",
          "data": {
            "text/plain": [
              "500000500000"
            ]
          },
          "metadata": {},
          "execution_count": 14
        }
      ]
    },
    {
      "cell_type": "code",
      "source": [
        "start_time = time.time() #record the starting time\n",
        "#run algorithm\n",
        "sumOfN(1000000)\n",
        "end_time = time.time() #record the ending time\n",
        "\n",
        "running_time = end_time - start_time\n",
        "\n",
        "print(f\"Time executed: {running_time:.5f} seconds\")"
      ],
      "metadata": {
        "id": "dqLkXjBYy00L",
        "colab": {
          "base_uri": "https://localhost:8080/"
        },
        "outputId": "14d3b444-f336-4cba-a7e9-40f041ff815f"
      },
      "execution_count": null,
      "outputs": [
        {
          "output_type": "stream",
          "name": "stdout",
          "text": [
            "Time executed: 0.05936 seconds\n"
          ]
        }
      ]
    },
    {
      "cell_type": "code",
      "source": [
        "def sumOfN2(n):\n",
        "   return (n*(n+1))/2"
      ],
      "metadata": {
        "id": "SbPyC5qwiilS"
      },
      "execution_count": null,
      "outputs": []
    },
    {
      "cell_type": "code",
      "source": [
        "# Start timer\n",
        "start = time.time()\n",
        "# Execute function\n",
        "total_sum = sumOfN2(10000)\n",
        "# Record time after function finishes\n",
        "end = time.time()\n",
        "\n",
        "# Take difference to record time used\n",
        "running_time = end-start\n",
        "\n",
        "print(\"Total Sum: %d\"%total_sum)\n",
        "print(\"Time executed: %.5f seconds\"%running_time)\n"
      ],
      "metadata": {
        "colab": {
          "base_uri": "https://localhost:8080/"
        },
        "id": "CTKcNMX5ipLJ",
        "outputId": "ef9dc00d-4f04-4b5a-975d-02e44c3d00f4"
      },
      "execution_count": null,
      "outputs": [
        {
          "output_type": "stream",
          "name": "stdout",
          "text": [
            "Total Sum: 50005000\n",
            "Time executed: 0.00008 seconds\n"
          ]
        }
      ]
    },
    {
      "cell_type": "code",
      "source": [],
      "metadata": {
        "colab": {
          "base_uri": "https://localhost:8080/"
        },
        "id": "0rTWl5b9zb0-",
        "outputId": "c0294e8d-da9e-4d2d-b2a8-c2c805b653a6"
      },
      "execution_count": null,
      "outputs": [
        {
          "output_type": "stream",
          "name": "stdout",
          "text": [
            "Time executed: 0.27999377250671387\n"
          ]
        }
      ]
    },
    {
      "cell_type": "code",
      "source": [
        "a = 500 #constant running time\n",
        "type(a) #constant running time\n",
        "a + 200 #constant running time\n",
        "a == 10 #constant running time\n",
        "list_a = [5,10,20]\n",
        "list[0] #constant running time"
      ],
      "metadata": {
        "id": "0i-5ESdZzmg0"
      },
      "execution_count": null,
      "outputs": []
    },
    {
      "cell_type": "code",
      "source": [
        "def coo(n):\n",
        "  print(\"Hello\")\n",
        "  print(\"World\")"
      ],
      "metadata": {
        "id": "RzW8Iv7b7ZCU"
      },
      "execution_count": null,
      "outputs": []
    },
    {
      "cell_type": "code",
      "source": [
        "coo(50)"
      ],
      "metadata": {
        "colab": {
          "base_uri": "https://localhost:8080/"
        },
        "id": "RPeEwuYt7dTw",
        "outputId": "c78e6854-84fa-4458-a58d-f2c498b75cea"
      },
      "execution_count": null,
      "outputs": [
        {
          "output_type": "stream",
          "name": "stdout",
          "text": [
            "Hello\n",
            "World\n"
          ]
        }
      ]
    },
    {
      "cell_type": "code",
      "source": [
        "coo(50000000)"
      ],
      "metadata": {
        "colab": {
          "base_uri": "https://localhost:8080/"
        },
        "id": "MSm-z2x37hN4",
        "outputId": "ff8ea471-faf4-4e2c-f857-6076e156221e"
      },
      "execution_count": null,
      "outputs": [
        {
          "output_type": "stream",
          "name": "stdout",
          "text": [
            "Hello\n",
            "World\n"
          ]
        }
      ]
    },
    {
      "cell_type": "code",
      "source": [
        "def co(data):\n",
        "  for num in data:\n",
        "    print(num)"
      ],
      "metadata": {
        "id": "o7vad-GJ7j43"
      },
      "execution_count": null,
      "outputs": []
    }
  ]
}