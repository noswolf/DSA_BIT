{
  "nbformat": 4,
  "nbformat_minor": 0,
  "metadata": {
    "colab": {
      "name": "DSA_Week6.ipynb",
      "provenance": [],
      "authorship_tag": "ABX9TyNZ2SWu6wj02wAHiTLOuLk9",
      "include_colab_link": true
    },
    "kernelspec": {
      "name": "python3",
      "display_name": "Python 3"
    }
  },
  "cells": [
    {
      "cell_type": "markdown",
      "metadata": {
        "id": "view-in-github",
        "colab_type": "text"
      },
      "source": [
        "<a href=\"https://colab.research.google.com/github/noswolf/DSA_BIT/blob/master/Week6/DSA_Week6.ipynb\" target=\"_parent\"><img src=\"https://colab.research.google.com/assets/colab-badge.svg\" alt=\"Open In Colab\"/></a>"
      ]
    },
    {
      "cell_type": "markdown",
      "metadata": {
        "id": "NpMpADBYyi6W",
        "colab_type": "text"
      },
      "source": [
        "# Implement a Tree using List of Lists (Array)."
      ]
    },
    {
      "cell_type": "markdown",
      "metadata": {
        "id": "K0GAPyFo0MUR",
        "colab_type": "text"
      },
      "source": [
        "[Small Tree](https://runestone.academy/runestone/books/published/pythonds/_images/smalltree.png)\n",
        "\n",
        "![Smalltree_snip.PNG](data:image/png;base64,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)"
      ]
    },
    {
      "cell_type": "code",
      "metadata": {
        "id": "_hWlugZpyTAh",
        "colab_type": "code",
        "colab": {}
      },
      "source": [
        "# A small tree with left and right subtrees\n",
        "# A subtree that has a root value and two empty lists is a leaf node\n",
        "smallTree = ['A',   #root \n",
        "             ['B',  #left subtree\n",
        "              ['D', [], []],\n",
        "              ['E', [], []] ],\n",
        "             ['C',  #right subtree\n",
        "              ['F', [], []],\n",
        "              []]\n",
        "             ]"
      ],
      "execution_count": null,
      "outputs": []
    },
    {
      "cell_type": "code",
      "metadata": {
        "id": "u-rKFOmY1QDE",
        "colab_type": "code",
        "colab": {
          "base_uri": "https://localhost:8080/",
          "height": 34
        },
        "outputId": "09503cc9-ea48-44ab-e4f5-8df6e0db5422"
      },
      "source": [
        "print(smallTree)"
      ],
      "execution_count": null,
      "outputs": [
        {
          "output_type": "stream",
          "text": [
            "['A', ['B', ['D', [], []], ['E', [], []]], ['C', ['F', [], []], []]]\n"
          ],
          "name": "stdout"
        }
      ]
    },
    {
      "cell_type": "code",
      "metadata": {
        "id": "lYO-Dy6u1RG7",
        "colab_type": "code",
        "colab": {
          "base_uri": "https://localhost:8080/",
          "height": 68
        },
        "outputId": "eec42a92-b9a9-4a24-9ff4-b9eb38b50e3d"
      },
      "source": [
        "print('root = ', smallTree[0])\n",
        "print('left subtree = ', smallTree[1])\n",
        "print('right subtree = ', smallTree[2])"
      ],
      "execution_count": null,
      "outputs": [
        {
          "output_type": "stream",
          "text": [
            "root =  A\n",
            "left subtree =  ['B', ['D', [], []], ['E', [], []]]\n",
            "right subtree =  ['C', ['F', [], []], []]\n"
          ],
          "name": "stdout"
        }
      ]
    },
    {
      "cell_type": "markdown",
      "metadata": {
        "id": "wimhzbbY1xlb",
        "colab_type": "text"
      },
      "source": [
        "A subtree that has a root value and two empty lists is a leaf node."
      ]
    },
    {
      "cell_type": "code",
      "metadata": {
        "id": "yt9iVNMc1jJy",
        "colab_type": "code",
        "colab": {
          "base_uri": "https://localhost:8080/",
          "height": 34
        },
        "outputId": "07b6951b-ffd5-4657-9df6-6c9029b7f38c"
      },
      "source": [
        "print('leaf node D =', smallTree[1][1] )"
      ],
      "execution_count": null,
      "outputs": [
        {
          "output_type": "stream",
          "text": [
            "leaf node D = ['D', [], []]\n"
          ],
          "name": "stdout"
        }
      ]
    },
    {
      "cell_type": "markdown",
      "metadata": {
        "id": "5Zs0JlKw2Zep",
        "colab_type": "text"
      },
      "source": [
        "The `BinaryTree` function creates a list with a root node and two empty sublists for the children.\n",
        "\n",
        "*   To add a left subtree to the root, a new list has to be inserted into the 2nd position of the root list.\n",
        "  * However, if there is already a node in that position, the new list needs to be pused down the tree as the left child of the list.\n",
        "*   Adding right subtree can be executed by inserting into the 3rd position of the root list.\n",
        "\n"
      ]
    },
    {
      "cell_type": "code",
      "metadata": {
        "id": "CJ_543mc1_Ci",
        "colab_type": "code",
        "colab": {}
      },
      "source": [
        "def BinaryTree(r):\n",
        "  return [r, [], []]\n",
        "\n",
        "\"\"\" Insertion methods \"\"\"\n",
        "def insertLeft(root, newBranch):\n",
        "  t = root.pop(1)                       # Obtain list that corresponds to the current left child of the root\n",
        "  if len(t) > 1:                        # If left child is not empty, push the old left child as the left child of the new node.\n",
        "    root.insert(1, [newBranch, t, []])\n",
        "  else:                                 # If left child is empty\n",
        "    root.insert(1, [newBranch,[],[]])\n",
        "  return root\n",
        "\n",
        "def insertRight(root, newBranch):\n",
        "  t = root.pop(2)                       # Obtain list that corresponds to the current right child of the root\n",
        "  if len(t) > 1:                        # If right child is not empty, push the old right child as the right child of the new node.\n",
        "    root.insert(2, [newBranch, [], t])\n",
        "  else:                                 # If right child is empty\n",
        "    root.insert(2, [newBranch, [], []]) \n",
        "  return root\n",
        "\n",
        "\"\"\" Accessor methods \"\"\"\n",
        "def getRootVal(root):\n",
        "  return root[0]\n",
        "\n",
        "def setRootVal(root, newVal):\n",
        "  root[0] = newVal\n",
        "\n",
        "def getLeftChild(root):\n",
        "  return root[1]\n",
        "\n",
        "def getRightChild(root):\n",
        "  return root[2]"
      ],
      "execution_count": null,
      "outputs": []
    },
    {
      "cell_type": "code",
      "metadata": {
        "id": "-C--J1hI2Y9S",
        "colab_type": "code",
        "colab": {
          "base_uri": "https://localhost:8080/",
          "height": 34
        },
        "outputId": "8bb0c43c-b1bf-4630-826a-1ec7fa85fa6a"
      },
      "source": [
        "r = BinaryTree(3)    # contents = [3, [], []]\n",
        "insertLeft(r,4)      # contents = [3, [4, [], []], []]\n",
        "insertLeft(r,5)      # contents = [3, [5, [4, [], []], []], []]\n",
        "insertRight(r,6)     # contents = [3, [5, [4, [], []], []], [6, [], []]]\n",
        "insertRight(r,7)     # contents = [3, [5, [4, [], []], []], [7, [], [6, [], []]]] \n",
        "l = getLeftChild(r)   # [5, [4, [], []], []]\n",
        "print(l)"
      ],
      "execution_count": null,
      "outputs": [
        {
          "output_type": "stream",
          "text": [
            "[5, [4, [], []], []]\n"
          ],
          "name": "stdout"
        }
      ]
    },
    {
      "cell_type": "code",
      "metadata": {
        "id": "5tHX9x675YCB",
        "colab_type": "code",
        "colab": {
          "base_uri": "https://localhost:8080/",
          "height": 68
        },
        "outputId": "256c5fc2-acac-472a-8eff-88aab3fb7557"
      },
      "source": [
        "setRootVal(l,9)      # contents = [3, [9, [4, [], []], []], [7, [], [6, [], []]]] \n",
        "print(r)\n",
        "insertLeft(l,11)     # contents = [3, [9, [11, [4, [], []], []], []], [7, [], [6, [], []]]] \n",
        "print(r)\n",
        "print(getRightChild(getRightChild(r)))  # [6, [], []]"
      ],
      "execution_count": null,
      "outputs": [
        {
          "output_type": "stream",
          "text": [
            "[3, [9, [4, [], []], []], [7, [], [6, [], []]]]\n",
            "[3, [9, [11, [4, [], []], []], []], [7, [], [6, [], []]]]\n",
            "[6, [], []]\n"
          ],
          "name": "stdout"
        }
      ]
    },
    {
      "cell_type": "markdown",
      "metadata": {
        "id": "LnYTmYevItYg",
        "colab_type": "text"
      },
      "source": [
        "# Implement a Tree using Nodes and References (Doubly Linked Lists)."
      ]
    },
    {
      "cell_type": "code",
      "metadata": {
        "id": "0CCqUmgH5PAR",
        "colab_type": "code",
        "colab": {}
      },
      "source": [
        "class BinaryTree:\n",
        "  \"\"\" Tree implementation using node and reference\"\"\"\n",
        "  def __init__(self, element):\n",
        "    self._element = element        # reference to user’s element\n",
        "    self._leftChild = None         # reference to left child\n",
        "    self._rightChild = None        # reference to right child\n",
        "\n",
        "  \"\"\" Insertion methods \"\"\"\n",
        "  def insertLeft(self, newNode):\n",
        "    new_node = BinaryTree(newNode)\n",
        "    if self._leftChild == None:    # No existing left child, add a node to the left\n",
        "      self._leftChild = new_node\n",
        "    else:                         # Insert a node and pust the old child down one level\n",
        "      new_node._leftChild = self._leftChild\n",
        "      self._leftChild = new_node\n",
        "    \n",
        "  \n",
        "  def insertRight(self, newNode):\n",
        "    new_node = BinaryTree(newNode)\n",
        "    if self._rightChild == None:    # No existing right child, add a node to the right\n",
        "      self._rightChild = new_node\n",
        "    else:                         # Insert a node and pust the old child down one level\n",
        "      new_node.rightChild = self._rightChild\n",
        "      self._rightChild = new_node\n",
        "\n",
        "\n",
        "  \"\"\" Accessor methods \"\"\"\n",
        "  def getRightChild(self):\n",
        "    return self._rightChild\n",
        "\n",
        "  def getLeftChild(self):\n",
        "    return self._leftChild\n",
        "\n",
        "  def setRootVal(self,e):\n",
        "    self._element = e\n",
        "\n",
        "  def getRootVal(self):\n",
        "    return self._element"
      ],
      "execution_count": null,
      "outputs": []
    },
    {
      "cell_type": "markdown",
      "metadata": {
        "id": "q5KEdSOOLM7D",
        "colab_type": "text"
      },
      "source": [
        "Small Tree represented by nodes and references \n",
        "\n",
        "![Smalltree_node_snip.PNG](data:image/png;base64,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)"
      ]
    },
    {
      "cell_type": "code",
      "metadata": {
        "id": "8eUO9M5kLbkx",
        "colab_type": "code",
        "colab": {
          "base_uri": "https://localhost:8080/",
          "height": 102
        },
        "outputId": "cffb41c6-dd26-494c-d5a2-ed59f798847a"
      },
      "source": [
        "r = BinaryTree('a')                   # contents = [a, [], []]\n",
        "print(r.getRootVal())\n",
        "print(r.getLeftChild())\n",
        "r.insertLeft('b')                     # contents = [a, [b, [], []], []]\n",
        "print(r.getLeftChild().getRootVal())\n",
        "r.insertRight('c')                    # contents = [a, [b, [], []], [c, [], []]]\n",
        "print(r.getRightChild().getRootVal())\n",
        "r.getRightChild().setRootVal('hello') # contents = [a, [b, [], []], [hello, [], []]]\n",
        "print(r.getRightChild().getRootVal())"
      ],
      "execution_count": null,
      "outputs": [
        {
          "output_type": "stream",
          "text": [
            "a\n",
            "None\n",
            "b\n",
            "c\n",
            "hello\n"
          ],
          "name": "stdout"
        }
      ]
    },
    {
      "cell_type": "markdown",
      "metadata": {
        "id": "1xZwmh0u7fm8",
        "colab_type": "text"
      },
      "source": [
        "Reference: Problem Solving with Algorithms and Data Structures using Python by Bradley N. Miller, David L. Ranum (CC BY-NC-SA 4.0)"
      ]
    },
    {
      "cell_type": "code",
      "metadata": {
        "id": "w89ubHdu7f_S",
        "colab_type": "code",
        "colab": {}
      },
      "source": [
        ""
      ],
      "execution_count": null,
      "outputs": []
    }
  ]
}