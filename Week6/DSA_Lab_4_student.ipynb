{
 "cells": [
  {
   "cell_type": "markdown",
   "metadata": {},
   "source": [
    "# Lab 4: Stacks & Queues"
   ]
  },
  {
   "cell_type": "markdown",
   "metadata": {},
   "source": [
    "Instructor: Sirasit Lochanachit\n",
    "\n",
    "Course: 01526102 Data Sturctures and Algorithms"
   ]
  },
  {
   "cell_type": "markdown",
   "metadata": {},
   "source": [
    "# Implementing a Stack using a Python list"
   ]
  },
  {
   "cell_type": "markdown",
   "metadata": {},
   "source": [
    "Create an ArrayStack class and its operations/methods"
   ]
  },
  {
   "cell_type": "code",
   "execution_count": 1,
   "metadata": {},
   "outputs": [],
   "source": [
    "class ArrayStack:\n",
    "  def __init__(self):\n",
    "    \"\"\" Create an empty stack. \"\"\"\n",
    "    self._data = []   # Initiate a nonpublic list instance\n",
    "  \n",
    "  def __len__(self):\n",
    "    \"\"\" Return the number of elements in the stack. \"\"\"\n",
    "    return len(self._data)\n",
    "  \n",
    "  def is_empty(self):\n",
    "    \"\"\" Return True if the stack is empty. \"\"\"\n",
    "    return len(self._data) == 0\n",
    "  \n",
    "  def push(self, element):\n",
    "    \"\"\" Add an element to the top of the stack. \"\"\"\n",
    "    self._data.append(element) # new item stored at end of list\n",
    "  \n",
    "  def top(self):\n",
    "    \"\"\" Return (but do not remove) the element at the top of the stack.\n",
    "    Raise an exception if the stack is empty. \"\"\"\n",
    "    if self.is_empty():\n",
    "      print('Stack is empty')\n",
    "      raise Empty('Stack is empty') # Calling subclass Empty\n",
    "    return self._data[-1] # the last item in the list\n",
    "\n",
    "  def pop(self):\n",
    "    \"\"\" Remove and return the element from the top of the stack.\n",
    "    Raise an exception if the stack is empty. \"\"\"\n",
    "    if self.is_empty():\n",
    "      print('Stack is empty')\n",
    "      raise Exception('Stack is empty') # Alternate way to call subclass Empty\n",
    "    return self._data.pop() # remove last item from the list\n"
   ]
  },
  {
   "cell_type": "code",
   "execution_count": 2,
   "metadata": {},
   "outputs": [],
   "source": [
    "class Empty(Exception):\n",
    "  \"\"\" Error attempting to access an element from an empty container. \"\"\"\n",
    "  pass"
   ]
  },
  {
   "cell_type": "markdown",
   "metadata": {},
   "source": [
    "## Sample Stack Operations"
   ]
  },
  {
   "cell_type": "code",
   "execution_count": null,
   "metadata": {},
   "outputs": [],
   "source": [
    "S = ArrayStack()  # contents: []\n",
    "S.push(4)         # contents: [4]\n",
    "S.push('car')         # contents: [4, 'car]\n",
    "\n",
    "print('Number of elements: {}'.format(len(S)))"
   ]
  },
  {
   "cell_type": "code",
   "execution_count": null,
   "metadata": {},
   "outputs": [],
   "source": [
    "S.top()          # contents: [4, 'car']\n",
    "print('Retrieve top item: {}'.format(S.top())) "
   ]
  },
  {
   "cell_type": "code",
   "execution_count": null,
   "metadata": {},
   "outputs": [],
   "source": [
    "S.push(7.5)      # contents: [4, 'car', 7.5]\n",
    "print('Number of elements: {}'.format(len(S)))"
   ]
  },
  {
   "cell_type": "code",
   "execution_count": null,
   "metadata": {},
   "outputs": [],
   "source": [
    "S.is_empty()    # contents: [4, 'car', 7.5]\n",
    "print('Is stack empty?: {}'.format(S.is_empty()))"
   ]
  },
  {
   "cell_type": "code",
   "execution_count": null,
   "metadata": {},
   "outputs": [],
   "source": [
    "S.pop()\n",
    "print('Remove item: {}'.format(S.pop()))   # contents: [4, 'car']\n",
    "print('Number of elements: {}'.format(len(S)))"
   ]
  },
  {
   "cell_type": "markdown",
   "metadata": {},
   "source": [
    "# Lab 4-1"
   ]
  },
  {
   "cell_type": "markdown",
   "metadata": {},
   "source": [
    "Given a Stack class as defined above, \n",
    "\n",
    "1. implement a **pop_all** method that removes all items in a stack using `pop()` operation\n",
    "2. implement a **printStack** method to print all data in the stack"
   ]
  },
  {
   "cell_type": "code",
   "execution_count": null,
   "metadata": {},
   "outputs": [],
   "source": [
    "class ArrayStack:\n",
    "  def __init__(self):\n",
    "    \"\"\" Create an empty stack. \"\"\"\n",
    "    self._data = []   # Initiate a nonpublic list instance\n",
    "  \n",
    "  def __len__(self):\n",
    "    \"\"\" Return the number of elements in the stack. \"\"\"\n",
    "    return len(self._data)\n",
    "  \n",
    "  def is_empty(self):\n",
    "    \"\"\" Return True if the stack is empty. \"\"\"\n",
    "    return len(self._data) == 0\n",
    "  \n",
    "  def push(self, element):\n",
    "    \"\"\" Add an element to the top of the stack. \"\"\"\n",
    "    self._data.append(element) # new item stored at end of list\n",
    "  \n",
    "  def top(self):\n",
    "    \"\"\" Return (but do not remove) the element at the top of the stack.\n",
    "    Raise an exception if the stack is empty. \"\"\"\n",
    "    if self.is_empty():\n",
    "      print('Stack is empty')\n",
    "      raise Empty('Stack is empty') # Calling subclass Empty\n",
    "    return self._data[-1] # the last item in the list\n",
    "\n",
    "  def pop(self):\n",
    "    \"\"\" Remove and return the element from the top of the stack.\n",
    "    Raise an exception if the stack is empty. \"\"\"\n",
    "    if self.is_empty():\n",
    "      print('Stack is empty')\n",
    "      raise Exception('Stack is empty') # Alternate way to call subclass Empty\n",
    "    return self._data.pop() # remove last item from the list\n",
    "  \n",
    "  def pop_all(self):\n",
    "    \n",
    "    ####################\n",
    "    # Add your code here\n",
    "    ####################\n",
    "    \n",
    "    pass\n",
    "  \n",
    "  def printStack(self):\n",
    "\n",
    "    ####################\n",
    "    # Add your code here\n",
    "    ####################\n",
    "    \n",
    "    pass    "
   ]
  },
  {
   "cell_type": "markdown",
   "metadata": {},
   "source": [
    "You can verify your code by pushing some items then call `pop_all()` method, then call a method that check if a stack is really empty."
   ]
  },
  {
   "cell_type": "code",
   "execution_count": 3,
   "metadata": {},
   "outputs": [],
   "source": [
    "# Your Test code here"
   ]
  },
  {
   "cell_type": "markdown",
   "metadata": {},
   "source": [
    "# Lab 4-2"
   ]
  },
  {
   "cell_type": "markdown",
   "metadata": {},
   "source": [
    "Write a Python function to solve a balanced grouping symbols problem (e.g. (), {}, and []) by using a __stack approach__ only\n",
    "\n",
    "* String manipulation are not allowed\n",
    "* If the given expression (string of symbols) is balanced, return True.\n",
    "  * Otherwise, return False\n",
    "* Example expression: ((]])) or ((A+B)*C)"
   ]
  },
  {
   "cell_type": "code",
   "execution_count": null,
   "metadata": {},
   "outputs": [],
   "source": [
    "def is_balanced(expression):\n",
    "   \"\"\" Return True if all delimiters are properly match; False otherwise.\"\"\"\n",
    "   lefty = '({['                                   # opening delimiters\n",
    "   righty = ')}]'                                  # respective closing delims\n",
    "   S = ArrayStack()\n",
    "   \n",
    "   ####################\n",
    "   ## Add your code here\n",
    "   #####################\n",
    "   \n",
    "   pass"
   ]
  },
  {
   "cell_type": "markdown",
   "metadata": {},
   "source": [
    "Test correct expressions"
   ]
  },
  {
   "cell_type": "code",
   "execution_count": null,
   "metadata": {},
   "outputs": [],
   "source": [
    "is_balanced('([])[]()')"
   ]
  },
  {
   "cell_type": "code",
   "execution_count": null,
   "metadata": {},
   "outputs": [],
   "source": [
    "is_balanced('()(()){([()])}')"
   ]
  },
  {
   "cell_type": "code",
   "execution_count": null,
   "metadata": {},
   "outputs": [],
   "source": [
    "is_balanced('((()(()){([()])}))')"
   ]
  },
  {
   "cell_type": "code",
   "execution_count": null,
   "metadata": {},
   "outputs": [],
   "source": [
    "is_balanced('[(5+x)-(y+z)]')"
   ]
  },
  {
   "cell_type": "markdown",
   "metadata": {},
   "source": [
    "Test incorrect expressions"
   ]
  },
  {
   "cell_type": "code",
   "execution_count": null,
   "metadata": {},
   "outputs": [],
   "source": [
    "is_balanced('(')      # Missing closing ')'"
   ]
  },
  {
   "cell_type": "code",
   "execution_count": null,
   "metadata": {},
   "outputs": [],
   "source": [
    "is_balanced('][')     # Incorrect order"
   ]
  },
  {
   "cell_type": "code",
   "execution_count": null,
   "metadata": {},
   "outputs": [],
   "source": [
    "is_balanced('({[])}') # Incorrect order"
   ]
  },
  {
   "cell_type": "code",
   "execution_count": null,
   "metadata": {},
   "outputs": [],
   "source": [
    "is_balanced('(A-B))*C)')"
   ]
  },
  {
   "cell_type": "markdown",
   "metadata": {},
   "source": [
    "# Implementing a FIFO queue using Python list"
   ]
  },
  {
   "cell_type": "markdown",
   "metadata": {},
   "source": [
    "Create an ArrayQueue class and its operations/methods"
   ]
  },
  {
   "cell_type": "code",
   "execution_count": 5,
   "metadata": {},
   "outputs": [],
   "source": [
    "class ArrayQueue:\n",
    "  DEFAULT_CAPACITY = 10   # moderate capacity for all new queues\n",
    "\n",
    "  def __init__(self):\n",
    "    \"\"\" Create an empty queue with specified size. \"\"\"\n",
    "    self._data = [None] * ArrayQueue.DEFAULT_CAPACITY\n",
    "    self._size = 0\n",
    "    self._front = 0\n",
    "    self._rear = 0\n",
    "  \n",
    "  def __len__(self):\n",
    "    \"\"\" Return the number of elements in the queue. \"\"\"\n",
    "    return self._size\n",
    "  \n",
    "  def is_empty(self):\n",
    "    \"\"\" Return True if the queue is empty. \"\"\"\n",
    "    return self._size == 0\n",
    "  \n",
    "  def first(self):\n",
    "    \"\"\" Return (but do not remove) the element at the front of the queue.\n",
    "    Raise Empty exception if the queue is empty.\"\"\"\n",
    "    if self.is_empty():\n",
    "      raise Empty('Queue is empty')\n",
    "    return self._data[self._front]\n",
    "  \n",
    "  def dequeue(self):\n",
    "    \"\"\" Remove and return the first element of the queue.\n",
    "    Raise Empty exception if the queue is empty.\"\"\"\n",
    "    if self.is_empty():\n",
    "      raise Empty('Queue is empty')\n",
    "    answer = self._data[self._front]\n",
    "    self._data[self._front] = None          # Reclaiming unused space\n",
    "    self._front = (self._front + 1) % len(self._data) # shift the location of the front index rightward\n",
    "    self._size -= 1\n",
    "    return answer\n",
    "  \n",
    "  def enqueue(self, e):\n",
    "    \"\"\" Add an element to the back of queue.\"\"\"\n",
    "    if self._size == len(self._data):\n",
    "      self._resize(2*len(self._data))    # double the array size when all slots are occupied.\n",
    "    if self._rear == 0 and self._data[0] == None: # For the first case of rear = 0 and no data in Q[0] - Empty Queue\n",
    "      self._data[self._rear] = e\n",
    "    else:\n",
    "      self._rear = (self._rear + 1) % len(self._data) # shift the location of the rear index rightward\n",
    "      self._data[self._rear] = e\n",
    "    self._size += 1                     # Keep track of number of elements in ArrayQueue\n",
    "\n",
    "  \n",
    "  def _resize(self, cap):               # Assume cap >= len(self)\n",
    "    \"\"\" Resize to a new list of capacity >= len(self). \"\"\"\n",
    "    old = self._data                    # keep track of existing list\n",
    "    self._data = [None] * cap           # allocate list with new capacity\n",
    "    walk = self._front\n",
    "    for k in range(self._size):         # consider existing elements\n",
    "      self._data[k] = old[walk]         # Shift indices to start at 0\n",
    "      walk = (1 + walk) % len(old)      # use old size as modulus\n",
    "    self._front = 0                     # front has been realigned\n",
    "    self._rear = self._size - 1         # rear has been realigned\n",
    "\n",
    "  def printQueue(self):\n",
    "    \n",
    "    ####################\n",
    "    # Add your code here\n",
    "    ####################\n",
    "    \n",
    "    pass"
   ]
  },
  {
   "cell_type": "markdown",
   "metadata": {},
   "source": [
    "# Lab 4-3"
   ]
  },
  {
   "cell_type": "markdown",
   "metadata": {},
   "source": [
    "1. Implement __printQueue__ method to print all data in the queue\n",
    "\n",
    "2. Write a function `copyStackToQueue(stack1, queue2)` to accepts 2 objects: stack1 and queue2\n",
    "- This function copy values in stack1 and paste into queue2 using __stack and queue operations__ only"
   ]
  },
  {
   "cell_type": "code",
   "execution_count": null,
   "metadata": {},
   "outputs": [],
   "source": [
    "def copyStackToQueue(stack1, queue2):\n",
    "\n",
    "    ########################\n",
    "    ## Add your code here\n",
    "    ########################\n",
    "    pass"
   ]
  },
  {
   "cell_type": "code",
   "execution_count": 4,
   "metadata": {},
   "outputs": [],
   "source": [
    "stack1 = ArrayStack(); stack1.push(10); stack1.push(20); stack1.push(30)    #stack1 = [10,20,30]\n",
    "queue2 = ArrayQueue(); queue2.enqueue(99)                                   #queue2 = [99]"
   ]
  },
  {
   "cell_type": "code",
   "execution_count": null,
   "metadata": {},
   "outputs": [],
   "source": [
    "copyStackToQueue(stack1, queue2)"
   ]
  },
  {
   "cell_type": "code",
   "execution_count": null,
   "metadata": {},
   "outputs": [],
   "source": [
    "stack1.printStack() # Should display [10, 20, 30]"
   ]
  },
  {
   "cell_type": "code",
   "execution_count": null,
   "metadata": {},
   "outputs": [],
   "source": [
    "queue2.printQueue() # Should display [10, 20, 30]"
   ]
  }
 ],
 "metadata": {
  "kernelspec": {
   "display_name": "Python 3",
   "language": "python",
   "name": "python3"
  },
  "language_info": {
   "codemirror_mode": {
    "name": "ipython",
    "version": 3
   },
   "file_extension": ".py",
   "mimetype": "text/x-python",
   "name": "python",
   "nbconvert_exporter": "python",
   "pygments_lexer": "ipython3",
   "version": "3.10.2"
  },
  "orig_nbformat": 4
 },
 "nbformat": 4,
 "nbformat_minor": 2
}
