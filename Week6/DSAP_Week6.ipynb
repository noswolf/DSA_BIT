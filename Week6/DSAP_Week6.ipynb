{
  "nbformat": 4,
  "nbformat_minor": 0,
  "metadata": {
    "colab": {
      "name": "DSA_Week5.ipynb",
      "provenance": [],
      "collapsed_sections": [],
      "authorship_tag": "ABX9TyPtOAbRkAJ3P8AA3712WRIw",
      "include_colab_link": true
    },
    "kernelspec": {
      "name": "python3",
      "display_name": "Python 3"
    }
  },
  "cells": [
    {
      "cell_type": "markdown",
      "metadata": {
        "id": "view-in-github",
        "colab_type": "text"
      },
      "source": [
        "<a href=\"https://colab.research.google.com/github/noswolf/DSA_BIT/blob/master/Week5/DSA_Week5.ipynb\" target=\"_parent\"><img src=\"https://colab.research.google.com/assets/colab-badge.svg\" alt=\"Open In Colab\"/></a>"
      ]
    },
    {
      "cell_type": "markdown",
      "metadata": {
        "id": "Pm1qBBMyNkkc",
        "colab_type": "text"
      },
      "source": [
        "#Implementing a Node for Linked Lists"
      ]
    },
    {
      "cell_type": "markdown",
      "metadata": {
        "id": "voLdbSTNQ-wP",
        "colab_type": "text"
      },
      "source": [
        "A node has only two instance variables: `_element` and `_next`.\n",
        "\n",
        "1. The `_element` variable is a reference to values/elements stored.\n",
        "2. The `_next` member points to the subsequent node."
      ]
    },
    {
      "cell_type": "code",
      "metadata": {
        "id": "Mm-772swNoqd",
        "colab_type": "code",
        "colab": {}
      },
      "source": [
        "class _Node:\n",
        "  \"\"\"Lightweight, nonpublic class for storing a singly linked node.\"\"\"\n",
        "  __slots__ = '_element' , '_next'    # streamline memory usage for large number of instances/nodes\n",
        "\n",
        "  def __init__ (self, element, next):   # initialize node’s fields/properties/attributes\n",
        "    self._element = element             # reference to user’s element\n",
        "    self._next = next                   # reference to next node"
      ],
      "execution_count": null,
      "outputs": []
    },
    {
      "cell_type": "markdown",
      "metadata": {
        "id": "2KNGT_dBJkIT",
        "colab_type": "text"
      },
      "source": [
        "#1. Singly Linked List"
      ]
    },
    {
      "cell_type": "markdown",
      "metadata": {
        "id": "0wyF_X6ZS919",
        "colab_type": "text"
      },
      "source": [
        "## 1.1 Implementing a LIFO stack using Singly Linked List"
      ]
    },
    {
      "cell_type": "markdown",
      "metadata": {
        "id": "8iFqRuqBOoBb",
        "colab_type": "text"
      },
      "source": [
        "For this implementation, the top of stack is the head of the list.\n",
        "\n",
        "---\n",
        "\n",
        "Each stack instance maintains two variables. \n",
        "1.   The `_head` member is a reference to the node at the head of the list (or None, if the stack is empty).\n",
        "2.   The `_size` instance variable keeps track the current number of elements.\n",
        "  * Otherwise, need to search through the entire list to count the number of\n",
        "elements when reporting the stack's size."
      ]
    },
    {
      "cell_type": "markdown",
      "metadata": {
        "id": "k362tZvrbsDe",
        "colab_type": "text"
      },
      "source": [
        "Create LinkedStack class and its methods"
      ]
    },
    {
      "cell_type": "code",
      "metadata": {
        "id": "Mj8BC-MQSxJu",
        "colab_type": "code",
        "colab": {}
      },
      "source": [
        "class LinkedStack:\n",
        "  \"\"\"LIFO Stack implementation using a singly linked list for storage.\"\"\"\n",
        "\n",
        "  #-------------------- nested _Node class----------------------\n",
        "  \"\"\" nested means a support class within a class to avoid potential name conflicts. \"\"\"\n",
        "  class _Node:\n",
        "    \"\"\"Lightweight, nonpublic class for storing a singly linked node.\"\"\"\n",
        "    __slots__ = '_element' , '_next'    # streamline memory usage for large number of instances/nodes\n",
        "\n",
        "    def __init__ (self, element, next):   # initialize node’s fields/properties/attributes\n",
        "      self._element = element             # reference to user’s element\n",
        "      self._next = next                   # reference to next node\n",
        "\n",
        "\n",
        "  #-------------------- stack methods --------------------------\n",
        "  def __init__(self):\n",
        "    \"\"\" Create an empty stack. \"\"\"\n",
        "    self._head = None                      # reference to the head node\n",
        "    self._size = 0                        # number of stack elements\n",
        "  \n",
        "  def __len__(self):\n",
        "    \"\"\" Return the number of elements in the stack. \"\"\"\n",
        "    return self._size\n",
        "  \n",
        "  def is_empty(self):\n",
        "    \"\"\" Return True if the stack is empty.\"\"\"\n",
        "    return self._size == 0\n",
        "  \n",
        "  def push(self, e):\n",
        "    \"\"\" Add element e to the top of the stack as a new head node. \"\"\"\n",
        "    tempNode = self._Node(e, self._head)    # Create and link a new node to the previous head node (existing top of stack)\n",
        "    self._head = tempNode                  # Update the list's head to point at a new node\n",
        "    self._size += 1\n",
        "  \n",
        "  def top(self):\n",
        "    \"\"\" Return (but not remove) the element at the top of the stack.\n",
        "\n",
        "    Raise Empty exception if the stack is empty.\n",
        "    \"\"\"\n",
        "    if self.is_empty():\n",
        "      raise Empty('Stack is empty')\n",
        "    return self._head._element         # Top of stack is head of list\n",
        "  \n",
        "  def pop(self):\n",
        "    \"\"\" Remove and return the element from the top of the stack.\n",
        "\n",
        "    Raise Empty exception if the stack is empty.\n",
        "    \"\"\"\n",
        "    if self.is_empty():\n",
        "      raise Empty('Stack is empty')\n",
        "    answer = self._head._element\n",
        "    self._head = self._head._next    # Set head pointer to the next top node\n",
        "    self._size -= 1\n",
        "    return answer"
      ],
      "execution_count": null,
      "outputs": []
    },
    {
      "cell_type": "code",
      "metadata": {
        "id": "tCpFM6rWVsSp",
        "colab_type": "code",
        "colab": {}
      },
      "source": [
        "class Empty(Exception):\n",
        "  \"\"\" Error attempting to access an element from an empty container. \"\"\"\n",
        "  pass"
      ],
      "execution_count": null,
      "outputs": []
    },
    {
      "cell_type": "markdown",
      "metadata": {
        "id": "K7IiSpRmXlWC",
        "colab_type": "text"
      },
      "source": [
        "Push 2 elements into the stack."
      ]
    },
    {
      "cell_type": "code",
      "metadata": {
        "id": "d8r44a5SzoKq",
        "colab_type": "code",
        "colab": {
          "base_uri": "https://localhost:8080/",
          "height": 34
        },
        "outputId": "63811c65-e4a4-415a-ec1a-70aec76bae47"
      },
      "source": [
        "S = LinkedStack()  # contents: []\n",
        "S.push(7)         # contents: [7]\n",
        "S.push(5)         # contents: [5, 7]\n",
        "print('Number of elements: {}'.format(len(S)))     # contents: [5, 7]"
      ],
      "execution_count": null,
      "outputs": [
        {
          "output_type": "stream",
          "text": [
            "Number of elements: 2\n"
          ],
          "name": "stdout"
        }
      ]
    },
    {
      "cell_type": "markdown",
      "metadata": {
        "id": "VCSYxVGLXrTS",
        "colab_type": "text"
      },
      "source": [
        "Pop elements and check whether stack is empty"
      ]
    },
    {
      "cell_type": "code",
      "metadata": {
        "id": "yf9vYto4Xsty",
        "colab_type": "code",
        "colab": {
          "base_uri": "https://localhost:8080/",
          "height": 85
        },
        "outputId": "968fd968-5114-4148-c1e4-3a7ee756be7d"
      },
      "source": [
        "print('Remove item: {}'.format(S.pop()))          # contents: [7]\n",
        "print('Is stack empty?: {}'.format(S.is_empty())) # contents: [7]\n",
        "print('Remove item: {}'.format(S.pop()))          # contents: []\n",
        "print('Is stack empty?: {}'.format(S.is_empty())) # contents: []"
      ],
      "execution_count": null,
      "outputs": [
        {
          "output_type": "stream",
          "text": [
            "Remove item: 5\n",
            "Is stack empty?: False\n",
            "Remove item: 7\n",
            "Is stack empty?: True\n"
          ],
          "name": "stdout"
        }
      ]
    },
    {
      "cell_type": "markdown",
      "metadata": {
        "id": "uE6ocIgkXufp",
        "colab_type": "text"
      },
      "source": [
        "Attempting to remove or retrieve item when stack is empty"
      ]
    },
    {
      "cell_type": "code",
      "metadata": {
        "id": "R0lhsJcnXxWx",
        "colab_type": "code",
        "colab": {
          "base_uri": "https://localhost:8080/",
          "height": 282
        },
        "outputId": "57540027-44ef-4d08-f8e6-fc424a32fef8"
      },
      "source": [
        "print(S.pop())    # contents: []"
      ],
      "execution_count": null,
      "outputs": [
        {
          "output_type": "error",
          "ename": "Empty",
          "evalue": "ignored",
          "traceback": [
            "\u001b[0;31m---------------------------------------------------------------------------\u001b[0m",
            "\u001b[0;31mEmpty\u001b[0m                                     Traceback (most recent call last)",
            "\u001b[0;32m<ipython-input-23-38146dccaabe>\u001b[0m in \u001b[0;36m<module>\u001b[0;34m()\u001b[0m\n\u001b[0;32m----> 1\u001b[0;31m \u001b[0mprint\u001b[0m\u001b[0;34m(\u001b[0m\u001b[0mS\u001b[0m\u001b[0;34m.\u001b[0m\u001b[0mpop\u001b[0m\u001b[0;34m(\u001b[0m\u001b[0;34m)\u001b[0m\u001b[0;34m)\u001b[0m    \u001b[0;31m# contents: []\u001b[0m\u001b[0;34m\u001b[0m\u001b[0;34m\u001b[0m\u001b[0m\n\u001b[0m",
            "\u001b[0;32m<ipython-input-20-f4af1c7dc9ee>\u001b[0m in \u001b[0;36mpop\u001b[0;34m(self)\u001b[0m\n\u001b[1;32m     48\u001b[0m     \"\"\"\n\u001b[1;32m     49\u001b[0m     \u001b[0;32mif\u001b[0m \u001b[0mself\u001b[0m\u001b[0;34m.\u001b[0m\u001b[0mis_empty\u001b[0m\u001b[0;34m(\u001b[0m\u001b[0;34m)\u001b[0m\u001b[0;34m:\u001b[0m\u001b[0;34m\u001b[0m\u001b[0;34m\u001b[0m\u001b[0m\n\u001b[0;32m---> 50\u001b[0;31m       \u001b[0;32mraise\u001b[0m \u001b[0mEmpty\u001b[0m\u001b[0;34m(\u001b[0m\u001b[0;34m'Stack is empty'\u001b[0m\u001b[0;34m)\u001b[0m\u001b[0;34m\u001b[0m\u001b[0;34m\u001b[0m\u001b[0m\n\u001b[0m\u001b[1;32m     51\u001b[0m     \u001b[0manswer\u001b[0m \u001b[0;34m=\u001b[0m \u001b[0mself\u001b[0m\u001b[0;34m.\u001b[0m\u001b[0m_head\u001b[0m\u001b[0;34m.\u001b[0m\u001b[0m_element\u001b[0m\u001b[0;34m\u001b[0m\u001b[0;34m\u001b[0m\u001b[0m\n\u001b[1;32m     52\u001b[0m     \u001b[0mself\u001b[0m\u001b[0;34m.\u001b[0m\u001b[0m_head\u001b[0m \u001b[0;34m=\u001b[0m \u001b[0mself\u001b[0m\u001b[0;34m.\u001b[0m\u001b[0m_head\u001b[0m\u001b[0;34m.\u001b[0m\u001b[0m_next\u001b[0m    \u001b[0;31m# Set head pointer to the next top node\u001b[0m\u001b[0;34m\u001b[0m\u001b[0;34m\u001b[0m\u001b[0m\n",
            "\u001b[0;31mEmpty\u001b[0m: Stack is empty"
          ]
        }
      ]
    },
    {
      "cell_type": "code",
      "metadata": {
        "id": "VMmAHhozXv0J",
        "colab_type": "code",
        "colab": {
          "base_uri": "https://localhost:8080/",
          "height": 282
        },
        "outputId": "a02d4ad8-291b-4d1f-bb0d-7012d0998521"
      },
      "source": [
        "print(S.top())    # contents: []"
      ],
      "execution_count": null,
      "outputs": [
        {
          "output_type": "error",
          "ename": "Empty",
          "evalue": "ignored",
          "traceback": [
            "\u001b[0;31m---------------------------------------------------------------------------\u001b[0m",
            "\u001b[0;31mEmpty\u001b[0m                                     Traceback (most recent call last)",
            "\u001b[0;32m<ipython-input-24-5ce965b22df8>\u001b[0m in \u001b[0;36m<module>\u001b[0;34m()\u001b[0m\n\u001b[0;32m----> 1\u001b[0;31m \u001b[0mprint\u001b[0m\u001b[0;34m(\u001b[0m\u001b[0mS\u001b[0m\u001b[0;34m.\u001b[0m\u001b[0mtop\u001b[0m\u001b[0;34m(\u001b[0m\u001b[0;34m)\u001b[0m\u001b[0;34m)\u001b[0m    \u001b[0;31m# contents: []\u001b[0m\u001b[0;34m\u001b[0m\u001b[0;34m\u001b[0m\u001b[0m\n\u001b[0m",
            "\u001b[0;32m<ipython-input-20-f4af1c7dc9ee>\u001b[0m in \u001b[0;36mtop\u001b[0;34m(self)\u001b[0m\n\u001b[1;32m     39\u001b[0m     \"\"\"\n\u001b[1;32m     40\u001b[0m     \u001b[0;32mif\u001b[0m \u001b[0mself\u001b[0m\u001b[0;34m.\u001b[0m\u001b[0mis_empty\u001b[0m\u001b[0;34m(\u001b[0m\u001b[0;34m)\u001b[0m\u001b[0;34m:\u001b[0m\u001b[0;34m\u001b[0m\u001b[0;34m\u001b[0m\u001b[0m\n\u001b[0;32m---> 41\u001b[0;31m       \u001b[0;32mraise\u001b[0m \u001b[0mEmpty\u001b[0m\u001b[0;34m(\u001b[0m\u001b[0;34m'Stack is empty'\u001b[0m\u001b[0;34m)\u001b[0m\u001b[0;34m\u001b[0m\u001b[0;34m\u001b[0m\u001b[0m\n\u001b[0m\u001b[1;32m     42\u001b[0m     \u001b[0;32mreturn\u001b[0m \u001b[0mself\u001b[0m\u001b[0;34m.\u001b[0m\u001b[0m_head\u001b[0m\u001b[0;34m.\u001b[0m\u001b[0m_element\u001b[0m         \u001b[0;31m# Top of stack is head of list\u001b[0m\u001b[0;34m\u001b[0m\u001b[0;34m\u001b[0m\u001b[0m\n\u001b[1;32m     43\u001b[0m \u001b[0;34m\u001b[0m\u001b[0m\n",
            "\u001b[0;31mEmpty\u001b[0m: Stack is empty"
          ]
        }
      ]
    },
    {
      "cell_type": "markdown",
      "metadata": {
        "id": "1SQ3Da9fX1Vy",
        "colab_type": "text"
      },
      "source": [
        "Push more elements into stack, then pop one element"
      ]
    },
    {
      "cell_type": "code",
      "metadata": {
        "id": "aXGjOIfWX23O",
        "colab_type": "code",
        "colab": {
          "base_uri": "https://localhost:8080/",
          "height": 68
        },
        "outputId": "d166705f-05bf-4909-ee46-9b3d07f1777a"
      },
      "source": [
        "S.push(2)         # contents = [2]\n",
        "S.push(4)         # contents = [4, 2]\n",
        "print('Retrieve top item: {}'.format(S.top()))    # contents = [4, 2]\n",
        "S.push(6)                                         # contents = [6, 4, 2]\n",
        "print('Number of elements: {}'.format(len(S)))    # contents = [6, 4, 2]\n",
        "print('Remove item: {}'.format(S.pop()))          # contents = [4, 2]\n",
        "S.push(1)         # contents = [1, 4, 2]"
      ],
      "execution_count": null,
      "outputs": [
        {
          "output_type": "stream",
          "text": [
            "Retrieve top item: 4\n",
            "Number of elements: 3\n",
            "Remove item: 6\n"
          ],
          "name": "stdout"
        }
      ]
    },
    {
      "cell_type": "code",
      "metadata": {
        "id": "rJh2YeTlYsVS",
        "colab_type": "code",
        "colab": {}
      },
      "source": [
        ""
      ],
      "execution_count": null,
      "outputs": []
    },
    {
      "cell_type": "markdown",
      "metadata": {
        "id": "SgN28Ryemmy1",
        "colab_type": "text"
      },
      "source": [
        "## 1.2 Implementing a FIFO queue using Singly Linked List"
      ]
    },
    {
      "cell_type": "markdown",
      "metadata": {
        "id": "-U3XiCc0mzDU",
        "colab_type": "text"
      },
      "source": [
        "For this implementation, the front of the queue is the head of the list, and the back of the queue is the tail.\n",
        "\n",
        "---\n",
        "Each queue instance maintains three variables. \n",
        "1.   The `_head` member is a reference to the node at the head of the list (or None, if the queue is empty).\n",
        "2.   The `_tail` reference for node at the back of the queue (or None, if the queue is empty).\n",
        "3.   The `_size` instance variable keeps track the current number of elements.\n",
        "\n",
        "Note that singly linked lists are unable to remove elements from the tail with a constant time, because there is no pointer from the tail to the node before the tail."
      ]
    },
    {
      "cell_type": "code",
      "metadata": {
        "id": "fMpP5C0YmnV4",
        "colab_type": "code",
        "colab": {}
      },
      "source": [
        "class LinkedQueue:\n",
        "  \"\"\" FIFO queue implementation using a singly linked list for storage.\"\"\"\n",
        "\n",
        "  #-------------------- nested _Node class----------------------\n",
        "  \"\"\" nested means a support class within a class to avoid potential name conflicts. \"\"\"\n",
        "  class _Node:\n",
        "    \"\"\"Lightweight, nonpublic class for storing a singly linked node.\"\"\"\n",
        "    __slots__ = '_element' , '_next'    # streamline memory usage for large number of instances/nodes\n",
        "\n",
        "    def __init__ (self, element, next):   # initialize node’s fields/properties/attributes\n",
        "      self._element = element             # reference to user’s element\n",
        "      self._next = next                   # reference to next node\n",
        "\n",
        "\n",
        "  #-------------------- queue methods --------------------------\n",
        "  def __init__(self):\n",
        "    \"\"\" Create an empty queue. \"\"\"\n",
        "    self._head = None                     # reference to the head node\n",
        "    self._tail = None                     # pointer to the tail node\n",
        "    self._size = 0                        # number of queue elements\n",
        "  \n",
        "  def __len__(self):\n",
        "    \"\"\" Return the number of elements in the queue. \"\"\"\n",
        "    return self._size\n",
        "  \n",
        "  def is_empty(self):\n",
        "    \"\"\" Return True if the queue is empty.\"\"\"\n",
        "    return self._size == 0\n",
        "  \n",
        "  def first(self):\n",
        "    \"\"\" Return (but not remove) the element at the front of the queue.\n",
        "\n",
        "    Raise Empty exception if the queue is empty.\n",
        "    \"\"\"\n",
        "    if self.is_empty():\n",
        "      raise Empty('Queue is empty')\n",
        "    return self._head._element         # Front of queue is head of list\n",
        "  \n",
        "  def dequeue(self):\n",
        "    \"\"\" Remove and return the front element of the queue.\n",
        "\n",
        "    Raise Empty exception if the queue is empty.\n",
        "    \"\"\"\n",
        "    if self.is_empty():\n",
        "      raise Empty('Queue is empty')\n",
        "    answer = self._head._element\n",
        "    self._head = self._head._next     # Set head pointer of the list to the next node of old front node\n",
        "    self._size -= 1\n",
        "    if self.is_empty():               # If queue is empty after removing element\n",
        "      self._tail = None\n",
        "    return answer\n",
        "  \n",
        "  def enqueue(self, e):\n",
        "    \"\"\" Add an element to the back of queue. \"\"\"\n",
        "    new_node = self._Node(e, None)    # New tail node and set next pointer to None\n",
        "    if self.is_empty():               # if queue is empty, assign head to new node\n",
        "      self._head = new_node           \n",
        "    else:\n",
        "      self._tail._next = new_node     # Set next pointer of current tail to new node\n",
        "    self._tail = new_node             # Update list's tail to new node\n",
        "    self._size += 1"
      ],
      "execution_count": null,
      "outputs": []
    },
    {
      "cell_type": "markdown",
      "metadata": {
        "id": "XQbuYu_JrJN3",
        "colab_type": "text"
      },
      "source": [
        "Enqueue 2 elements into the queue."
      ]
    },
    {
      "cell_type": "code",
      "metadata": {
        "id": "DPKTYsVwoU7w",
        "colab_type": "code",
        "colab": {
          "base_uri": "https://localhost:8080/",
          "height": 68
        },
        "outputId": "06562717-3ffd-4774-87ad-51f0589c8b18"
      },
      "source": [
        "Q = LinkedQueue()  # contents: []\n",
        "Q.enqueue(7)         # contents: [7]\n",
        "Q.enqueue(5)         # contents: [7, 5]\n",
        "print('Number of elements: {}'.format(len(Q)))     # contents: [7, 5]\n",
        "print('Front element: {}'.format(Q.first()))\n",
        "print('Rear element: {}'.format(Q._tail._element))  # Just for showing, not suppose to be able to get the tail element"
      ],
      "execution_count": null,
      "outputs": [
        {
          "output_type": "stream",
          "text": [
            "Number of elements: 2\n",
            "Front element: 7\n",
            "Rear element: 5\n"
          ],
          "name": "stdout"
        }
      ]
    },
    {
      "cell_type": "markdown",
      "metadata": {
        "id": "1z_FmirLrPHI",
        "colab_type": "text"
      },
      "source": [
        "Dequeue elements and check whether queue is empty."
      ]
    },
    {
      "cell_type": "code",
      "metadata": {
        "id": "JIvH2lWarNnB",
        "colab_type": "code",
        "colab": {
          "base_uri": "https://localhost:8080/",
          "height": 221
        },
        "outputId": "d3c8b459-0c27-4d3e-a25d-f5b1ea8d97a1"
      },
      "source": [
        "print('Remove item: {}'.format(Q.dequeue()))          # contents: [5]\n",
        "print('\\n')\n",
        "print('Front element: {}'.format(Q.first()))\n",
        "print('Rear element: {}'.format(Q._tail._element))\n",
        "print('Is queue empty?: {}'.format(Q.is_empty()))     # contents: [5]\n",
        "print('\\n')\n",
        "print('Remove item: {}'.format(Q.dequeue()))          # contents: []\n",
        "print('\\n')\n",
        "print('Is queue empty?: {}'.format(Q.is_empty()))     # contents: []"
      ],
      "execution_count": null,
      "outputs": [
        {
          "output_type": "stream",
          "text": [
            "Remove item: 7\n",
            "\n",
            "\n",
            "Front element: 5\n",
            "Rear element: 5\n",
            "Is queue empty?: False\n",
            "\n",
            "\n",
            "Remove item: 5\n",
            "\n",
            "\n",
            "Is queue empty?: True\n"
          ],
          "name": "stdout"
        }
      ]
    },
    {
      "cell_type": "markdown",
      "metadata": {
        "id": "z-Jnkh-vrWMd",
        "colab_type": "text"
      },
      "source": [
        "Attempting to remove or retrieve item when queue is empty."
      ]
    },
    {
      "cell_type": "code",
      "metadata": {
        "id": "YXj5SqLMra6D",
        "colab_type": "code",
        "colab": {
          "base_uri": "https://localhost:8080/",
          "height": 299
        },
        "outputId": "f1271692-821c-4ce3-adde-7efb37f466ed"
      },
      "source": [
        "print(Q.dequeue())    # contents: []"
      ],
      "execution_count": null,
      "outputs": [
        {
          "output_type": "error",
          "ename": "Empty",
          "evalue": "ignored",
          "traceback": [
            "\u001b[0;31m---------------------------------------------------------------------------\u001b[0m",
            "\u001b[0;31mEmpty\u001b[0m                                     Traceback (most recent call last)",
            "\u001b[0;32m<ipython-input-44-46648b4661df>\u001b[0m in \u001b[0;36m<module>\u001b[0;34m()\u001b[0m\n\u001b[0;32m----> 1\u001b[0;31m \u001b[0mprint\u001b[0m\u001b[0;34m(\u001b[0m\u001b[0mQ\u001b[0m\u001b[0;34m.\u001b[0m\u001b[0mdequeue\u001b[0m\u001b[0;34m(\u001b[0m\u001b[0;34m)\u001b[0m\u001b[0;34m)\u001b[0m    \u001b[0;31m# contents: []\u001b[0m\u001b[0;34m\u001b[0m\u001b[0;34m\u001b[0m\u001b[0m\n\u001b[0m",
            "\u001b[0;32m<ipython-input-29-b68a5360f24c>\u001b[0m in \u001b[0;36mdequeue\u001b[0;34m(self)\u001b[0m\n\u001b[1;32m     43\u001b[0m     \"\"\"\n\u001b[1;32m     44\u001b[0m     \u001b[0;32mif\u001b[0m \u001b[0mself\u001b[0m\u001b[0;34m.\u001b[0m\u001b[0mis_empty\u001b[0m\u001b[0;34m(\u001b[0m\u001b[0;34m)\u001b[0m\u001b[0;34m:\u001b[0m\u001b[0;34m\u001b[0m\u001b[0;34m\u001b[0m\u001b[0m\n\u001b[0;32m---> 45\u001b[0;31m       \u001b[0;32mraise\u001b[0m \u001b[0mEmpty\u001b[0m\u001b[0;34m(\u001b[0m\u001b[0;34m'Queue is empty'\u001b[0m\u001b[0;34m)\u001b[0m\u001b[0;34m\u001b[0m\u001b[0;34m\u001b[0m\u001b[0m\n\u001b[0m\u001b[1;32m     46\u001b[0m     \u001b[0manswer\u001b[0m \u001b[0;34m=\u001b[0m \u001b[0mself\u001b[0m\u001b[0;34m.\u001b[0m\u001b[0m_head\u001b[0m\u001b[0;34m.\u001b[0m\u001b[0m_element\u001b[0m\u001b[0;34m\u001b[0m\u001b[0;34m\u001b[0m\u001b[0m\n\u001b[1;32m     47\u001b[0m     \u001b[0mself\u001b[0m\u001b[0;34m.\u001b[0m\u001b[0m_head\u001b[0m \u001b[0;34m=\u001b[0m \u001b[0mself\u001b[0m\u001b[0;34m.\u001b[0m\u001b[0m_head\u001b[0m\u001b[0;34m.\u001b[0m\u001b[0m_next\u001b[0m     \u001b[0;31m# Set head pointer of the list to the next node of old front node\u001b[0m\u001b[0;34m\u001b[0m\u001b[0;34m\u001b[0m\u001b[0m\n",
            "\u001b[0;31mEmpty\u001b[0m: Queue is empty"
          ]
        }
      ]
    },
    {
      "cell_type": "code",
      "metadata": {
        "id": "wIq45FO7rb9b",
        "colab_type": "code",
        "colab": {
          "base_uri": "https://localhost:8080/",
          "height": 282
        },
        "outputId": "3522a656-8147-48da-b105-3e6b5e4e8a36"
      },
      "source": [
        "print(Q.first())    # contents: []"
      ],
      "execution_count": null,
      "outputs": [
        {
          "output_type": "error",
          "ename": "Empty",
          "evalue": "ignored",
          "traceback": [
            "\u001b[0;31m---------------------------------------------------------------------------\u001b[0m",
            "\u001b[0;31mEmpty\u001b[0m                                     Traceback (most recent call last)",
            "\u001b[0;32m<ipython-input-45-e76fc87ab4b0>\u001b[0m in \u001b[0;36m<module>\u001b[0;34m()\u001b[0m\n\u001b[0;32m----> 1\u001b[0;31m \u001b[0mprint\u001b[0m\u001b[0;34m(\u001b[0m\u001b[0mQ\u001b[0m\u001b[0;34m.\u001b[0m\u001b[0mfirst\u001b[0m\u001b[0;34m(\u001b[0m\u001b[0;34m)\u001b[0m\u001b[0;34m)\u001b[0m    \u001b[0;31m# contents: []\u001b[0m\u001b[0;34m\u001b[0m\u001b[0;34m\u001b[0m\u001b[0m\n\u001b[0m",
            "\u001b[0;32m<ipython-input-29-b68a5360f24c>\u001b[0m in \u001b[0;36mfirst\u001b[0;34m(self)\u001b[0m\n\u001b[1;32m     34\u001b[0m     \"\"\"\n\u001b[1;32m     35\u001b[0m     \u001b[0;32mif\u001b[0m \u001b[0mself\u001b[0m\u001b[0;34m.\u001b[0m\u001b[0mis_empty\u001b[0m\u001b[0;34m(\u001b[0m\u001b[0;34m)\u001b[0m\u001b[0;34m:\u001b[0m\u001b[0;34m\u001b[0m\u001b[0;34m\u001b[0m\u001b[0m\n\u001b[0;32m---> 36\u001b[0;31m       \u001b[0;32mraise\u001b[0m \u001b[0mEmpty\u001b[0m\u001b[0;34m(\u001b[0m\u001b[0;34m'Queue is empty'\u001b[0m\u001b[0;34m)\u001b[0m\u001b[0;34m\u001b[0m\u001b[0;34m\u001b[0m\u001b[0m\n\u001b[0m\u001b[1;32m     37\u001b[0m     \u001b[0;32mreturn\u001b[0m \u001b[0mself\u001b[0m\u001b[0;34m.\u001b[0m\u001b[0m_head\u001b[0m\u001b[0;34m.\u001b[0m\u001b[0m_element\u001b[0m         \u001b[0;31m# Front of queue is head of list\u001b[0m\u001b[0;34m\u001b[0m\u001b[0;34m\u001b[0m\u001b[0m\n\u001b[1;32m     38\u001b[0m \u001b[0;34m\u001b[0m\u001b[0m\n",
            "\u001b[0;31mEmpty\u001b[0m: Queue is empty"
          ]
        }
      ]
    },
    {
      "cell_type": "markdown",
      "metadata": {
        "id": "Zv0UOGNWreA1",
        "colab_type": "text"
      },
      "source": [
        "Enqueue more elements into queue, then dequeue one element."
      ]
    },
    {
      "cell_type": "code",
      "metadata": {
        "id": "VFtaZx44rfE6",
        "colab_type": "code",
        "colab": {
          "base_uri": "https://localhost:8080/",
          "height": 136
        },
        "outputId": "5b2a9c73-9517-466f-8c96-99fe613c02de"
      },
      "source": [
        "Q.enqueue(2)         # contents = [2]\n",
        "Q.enqueue(4)         # contents = [2, 4]\n",
        "print('Retrieve front item: {}'.format(Q.first()))    # contents = [2, 4]\n",
        "Q.enqueue(6)                                        # contents = [2, 4, 6]\n",
        "print('Number of elements: {}'.format(len(Q)))      # contents = [2, 4, 6]\n",
        "print('Remove item: {}'.format(Q.dequeue()))        # contents = [4, 6]\n",
        "Q.enqueue(1)         # contents = [4, 6, 1]\n",
        "print('\\n')\n",
        "\n",
        "print('Front element: {}'.format(Q.first()))\n",
        "print('Rear element: {}'.format(Q._tail._element))"
      ],
      "execution_count": null,
      "outputs": [
        {
          "output_type": "stream",
          "text": [
            "Retrieve front item: 2\n",
            "Number of elements: 3\n",
            "Remove item: 2\n",
            "\n",
            "\n",
            "Front element: 4\n",
            "Rear element: 1\n"
          ],
          "name": "stdout"
        }
      ]
    },
    {
      "cell_type": "markdown",
      "metadata": {
        "id": "CQI30z-_rjJk",
        "colab_type": "text"
      },
      "source": [
        "Enqueue more elements."
      ]
    },
    {
      "cell_type": "code",
      "metadata": {
        "id": "jaNDCt8VrglP",
        "colab_type": "code",
        "colab": {
          "base_uri": "https://localhost:8080/",
          "height": 51
        },
        "outputId": "ebe12e57-65e5-47cf-bb36-221090e6c88c"
      },
      "source": [
        "Q.enqueue(5)    # contents = [4, 6, 1, 5]\n",
        "Q.enqueue(7)    # contents = [4, 6, 1, 5, 7]\n",
        "Q.enqueue(9)    # contents = [4, 6, 1, 5, 7, 9]\n",
        "Q.enqueue(11)   # contents = [4, 6, 1, 5, 7, 9, 11]\n",
        "Q.enqueue(13)   # contents = [4, 6, 1, 5, 7, 9, 11, 13]\n",
        "\n",
        "print('Front element: {}'.format(Q.first()))\n",
        "print('Rear element: {}'.format(Q._tail._element))"
      ],
      "execution_count": null,
      "outputs": [
        {
          "output_type": "stream",
          "text": [
            "Front element: 4\n",
            "Rear element: 13\n"
          ],
          "name": "stdout"
        }
      ]
    },
    {
      "cell_type": "markdown",
      "metadata": {
        "id": "2Yo7O0xdJuiI",
        "colab_type": "text"
      },
      "source": [
        "#2 Circularly Linked List"
      ]
    },
    {
      "cell_type": "markdown",
      "metadata": {
        "id": "Blk9r8mK7DNG",
        "colab_type": "text"
      },
      "source": [
        "## 2.1 Implementing a FIFO queue using Circularly Linked List"
      ]
    },
    {
      "cell_type": "markdown",
      "metadata": {
        "id": "-azB_scO7PFs",
        "colab_type": "text"
      },
      "source": [
        "For this implementation, there is no need to store head pointer, since head can be found by looking at the tail's next pointer.\n",
        "\n",
        "---\n",
        "\n",
        "Each queue instance maintains three variables. \n",
        "1.   The `_tail` reference for node at the back of the queue (or None, if the queue is empty).\n",
        "  * When the front of the queue is needed by an operation, `self._tail_.next` can be referred to as the head of the queue.\n",
        "\n",
        "2.   The `_size` instance variable keeps track the current number of elements.\n"
      ]
    },
    {
      "cell_type": "code",
      "metadata": {
        "id": "GaXR2kOj7EaG",
        "colab_type": "code",
        "colab": {}
      },
      "source": [
        "class CircularQueue:\n",
        "  \"\"\" Queue implementation using circularly linked list for storage. \"\"\"\n",
        "  #-------------------- nested _Node class----------------------\n",
        "  \"\"\" nested means a support class within a class to avoid potential name conflicts. \"\"\"\n",
        "  class _Node:\n",
        "    \"\"\"Lightweight, nonpublic class for storing a singly linked node.\"\"\"\n",
        "    __slots__ = '_element' , '_next'    # streamline memory usage for large number of instances/nodes\n",
        "\n",
        "    def __init__ (self, element, next):   # initialize node’s fields/properties/attributes\n",
        "      self._element = element             # reference to user’s element\n",
        "      self._next = next                   # reference to next node\n",
        "\n",
        "\n",
        "  #-------------------- queue methods --------------------------\n",
        "  def __init__(self):\n",
        "    \"\"\" Create an empty queue. \"\"\"\n",
        "    self._tail = None                     # pointer to the tail node\n",
        "    self._size = 0                        # number of queue elements\n",
        "  \n",
        "  def __len__(self):\n",
        "    \"\"\" Return the number of elements in the queue. \"\"\"\n",
        "    return self._size\n",
        "  \n",
        "  def is_empty(self):\n",
        "    \"\"\" Return True if the queue is empty.\"\"\"\n",
        "    return self._size == 0\n",
        "  \n",
        "  def first(self):\n",
        "    \"\"\" Return (but not remove) the element at the front of the queue.\n",
        "\n",
        "    Raise Empty exception if the queue is empty.\n",
        "    \"\"\"\n",
        "    if self.is_empty():\n",
        "      raise Empty('Queue is empty')\n",
        "    head = self._tail._next             # Head of the queue\n",
        "    return head._element         \n",
        "  \n",
        "  def dequeue(self):\n",
        "    \"\"\" Remove and return the front element of the queue.\n",
        "\n",
        "    Raise Empty exception if the queue is empty.\n",
        "    \"\"\"\n",
        "    if self.is_empty():\n",
        "      raise Empty('Queue is empty')\n",
        "    old_head = self._tail._next\n",
        "    answer = old_head._element\n",
        "    if self._size == 1:                 # Removing only one element\n",
        "      self._tail = None\n",
        "    else:\n",
        "      self._tail._next = old_head._next # Refer to the new head node (The node next to previous front node)\n",
        "    self._size -= 1\n",
        "    return answer\n",
        "  \n",
        "  def enqueue(self, e):\n",
        "    \"\"\" Add an element to the back of queue. \"\"\"\n",
        "    new_node = self._Node(e, None)    # New tail node and set next pointer to None\n",
        "    if self.is_empty():               # if queue is empty, assign next to itself\n",
        "      new_node._next = new_node           \n",
        "    else:\n",
        "      new_node._next = self._tail._next # New tail node point to old head\n",
        "      self._tail._next = new_node     # Set old tail's pointer to new node\n",
        "    self._tail = new_node             # Update list's tail to new node\n",
        "    self._size += 1\n",
        "  \n",
        "  def rotate(self):\n",
        "    \"\"\" Rotate clockwise front element to the back of the queue. \"\"\"\n",
        "    if self._size > 0:\n",
        "      self._tail = self._tail._next   # Old head becomes new tail"
      ],
      "execution_count": null,
      "outputs": []
    },
    {
      "cell_type": "markdown",
      "metadata": {
        "id": "JJc0fhAq-xZC",
        "colab_type": "text"
      },
      "source": [
        "`rotate` method removes the front element and push it at the back of the queue. This can be done easily by making the old head become the new tail."
      ]
    },
    {
      "cell_type": "markdown",
      "metadata": {
        "id": "-HhTn49KJ-q4",
        "colab_type": "text"
      },
      "source": [
        "#3. Doubly Linked List"
      ]
    },
    {
      "cell_type": "markdown",
      "metadata": {
        "id": "kubzVGNdJ4wW",
        "colab_type": "text"
      },
      "source": [
        "#Implementing a Node for Doubly Linked Lists"
      ]
    },
    {
      "cell_type": "code",
      "metadata": {
        "id": "PBDxhxq9J6Kj",
        "colab_type": "code",
        "colab": {}
      },
      "source": [
        "class _Node:\n",
        "  \"\"\"Lightweight, nonpublic class for storing a singly linked node.\"\"\"\n",
        "  __slots__ = '_element' , '_next', '_prev'    # streamline memory usage for large number of instances/nodes\n",
        "\n",
        "  def __init__ (self, element, prev, next):   # initialize node’s fields/properties/attributes\n",
        "    self._element = element             # reference to user’s element\n",
        "    self._prev = prev                   # reference to previous node\n",
        "    self._next = next                   # reference to next node"
      ],
      "execution_count": null,
      "outputs": []
    },
    {
      "cell_type": "markdown",
      "metadata": {
        "id": "ObwROyz0KBmA",
        "colab_type": "text"
      },
      "source": [
        "##3.1 Implementing a Doubly Linked List Base Class"
      ]
    },
    {
      "cell_type": "markdown",
      "metadata": {
        "id": "sVJjGRhvg7cI",
        "colab_type": "text"
      },
      "source": [
        "*  `_` at the front of class name to indicate that this is a private class and not as a public interface for general use.\n",
        "\n",
        "* `_DoublyLinkedBase` class relies on private `_Node` class similar to singly linked list, the difference is doubly linked version includes a `_prev` attribute.\n",
        "\n",
        "* Two methods: `_insert_between` and `_delete_node` provide generic support for insertions and deletions."
      ]
    },
    {
      "cell_type": "code",
      "metadata": {
        "id": "AmytvWQfKc-T",
        "colab_type": "code",
        "colab": {}
      },
      "source": [
        "class _DoublyLinkedBase:\n",
        "  \"\"\" A base class providing a doubly linked list representation.\"\"\"\n",
        "\n",
        "  #-------------------- nested _Node class----------------------\n",
        "  class _Node:\n",
        "    \"\"\"Lightweight, nonpublic class for storing a singly linked node.\"\"\"\n",
        "    __slots__ = '_element' , '_next', '_prev'    # streamline memory usage for large number of instances/nodes\n",
        "\n",
        "    def __init__ (self, element, prev, next):   # initialize node’s fields/properties/attributes\n",
        "      self._element = element             # reference to user’s element\n",
        "      self._prev = prev                   # reference to previous node\n",
        "      self._next = next                   # reference to next node\n",
        "  \n",
        "  #-------------------- Doubly Linked List methods------------------\n",
        "  def __init__(self):\n",
        "    \"\"\" Create an empty list and two dummy nodes: Header and tailer. \n",
        "    The two nodes are linked to each other. \"\"\"\n",
        "    self._header = self._Node(None, None, None)\n",
        "    self._tailer = self._Node(None, None, None)\n",
        "    self._header._next = self._tailer     # tailer is after header\n",
        "    self._header._prev = self._header     # header is before tailer\n",
        "    self._size = 0                        # number of queue elements\n",
        "  \n",
        "  def __len__(self):\n",
        "    \"\"\" Return the number of elements in the list. \"\"\"\n",
        "    return self._size\n",
        "  \n",
        "  def is_empty(self):\n",
        "    \"\"\" Return True if the list is empty.\"\"\"\n",
        "    return self._size == 0\n",
        "  \n",
        "  def _insert_between(self, e, predecessor, successor):\n",
        "    \"\"\" Create new node and add element e between two existing nodes and return new node.\"\"\"\n",
        "    new_node = self._Node(e, predecessor, successor)  # linked to neighbor nodes\n",
        "    predecessor._next = new_node   # The node before point to the new node\n",
        "    successor._prev = new_node     # The node after point to the new node\n",
        "    self._size += 1\n",
        "    return new_node\n",
        "\n",
        "  def _delete_node(self, node):\n",
        "    \"\"\" Delete non-dummy node from the list and return its element. \"\"\"\n",
        "    predecessor = node._prev\n",
        "    successor = node._next\n",
        "    predecessor._next = successor   # The node before point to the next node\n",
        "    successor._prev = predecessor   # The node after point to the previous node\n",
        "    self._size -= 1\n",
        "    element = node._element   # Save deleted element to return it\n",
        "    node._prev = node._next = node._element = None  # Emptying the node\n",
        "    return element\n",
        "  \n",
        "  \n",
        "  \n",
        "  "
      ],
      "execution_count": null,
      "outputs": []
    },
    {
      "cell_type": "markdown",
      "metadata": {
        "id": "LKznOoPfJ8ny",
        "colab_type": "text"
      },
      "source": [
        "## 3.2 Implementing a double-ended queue (Deque) with a Doubly Linked Lists\n",
        "\n",
        "Some of the codes are intentionally left empty for the purpose of Individual Assignment\n",
        "\n",
        "*  ` _insert_between` and `_delete_node` methods from `_DoublyLinkedBase` class are used for insertion and deletion of various deque operations.\n",
        "\n",
        "* `LinkedDeque` class inherits attributes and methods from `_DoublyLinkedBase` class, so there is no need to re-implement the `__init__`, `__len__`, and `is_empty` methods.\n",
        "\n",
        "* Note that the header and tailer nodes are dummy nodes and do not store the element.\n",
        "\n"
      ]
    },
    {
      "cell_type": "code",
      "metadata": {
        "id": "4RZMqvzvKwE7",
        "colab_type": "code",
        "colab": {}
      },
      "source": [
        "class LinkedDeque(_DoublyLinkedBase):      # Inherit attributes and methods from _DoublyLinkedBase class\n",
        "  def first(self):\n",
        "    \"\"\" Return (but do not remove) the element at the front of the deque.\"\"\"\n",
        "    if self._is_empty():\n",
        "      raise Empty(\"Deque is empty\")\n",
        "    return self._header._next._element    # Return element of the node after header node.\n",
        "  \n",
        "  def last(self):\n",
        "    \"\"\" Return (but do not remove) the element at the back of the deque.\"\"\"\n",
        "    # Add your code here\n",
        "    # Hint: Use inherited method from _DoublyLinkedBase class\n",
        "\n",
        "  def insert_first(self, e):\n",
        "    \"\"\" Add an element to the front of the deque.\"\"\"\n",
        "    self._insert_between(e, self._header, self._header._next)  # Insert between header node and the node after header\n",
        "  \n",
        "  def insert_last(self, e):\n",
        "    \"\"\" Add an element to the back of the deque.\"\"\"\n",
        "    # Add your code here\n",
        "    # Hint: Use inherited method from _DoublyLinkedBase class\n",
        "\n",
        "  def delete_first(self):\n",
        "    \"\"\" Remove and return the element from the front of the deque.\n",
        "\n",
        "    Raise Empty exception if the deque is empty.\"\"\"\n",
        "\n",
        "    if self.is_empty():\n",
        "      raise Empty(\"Deque is empty\")\n",
        "    return self._delete_node(self._header._next)\n",
        "\n",
        "  def delete_last(self):\n",
        "    \"\"\" Remove and return the element from the front of the deque.\n",
        "\n",
        "    Raise Empty exception if the deque is empty.\"\"\"\n",
        "    # Add your code here\n",
        "    # Hint: Use inherited method from _DoublyLinkedBase class"
      ],
      "execution_count": null,
      "outputs": []
    }
  ]
}