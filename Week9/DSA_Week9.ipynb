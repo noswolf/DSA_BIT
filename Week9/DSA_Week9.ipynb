{
  "nbformat": 4,
  "nbformat_minor": 0,
  "metadata": {
    "colab": {
      "name": "DSA_Week9.ipynb",
      "provenance": [],
      "collapsed_sections": [],
      "authorship_tag": "ABX9TyPJLUntAse5ApRJ6mNtr60p",
      "include_colab_link": true
    },
    "kernelspec": {
      "name": "python3",
      "display_name": "Python 3"
    }
  },
  "cells": [
    {
      "cell_type": "markdown",
      "metadata": {
        "id": "view-in-github",
        "colab_type": "text"
      },
      "source": [
        "<a href=\"https://colab.research.google.com/github/noswolf/DSA_BIT/blob/master/Week9/DSA_Week9.ipynb\" target=\"_parent\"><img src=\"https://colab.research.google.com/assets/colab-badge.svg\" alt=\"Open In Colab\"/></a>"
      ]
    },
    {
      "cell_type": "markdown",
      "metadata": {
        "id": "89BD9I3f8ESL",
        "colab_type": "text"
      },
      "source": [
        "# Implement a Binary Search Tree using Nodes and References."
      ]
    },
    {
      "cell_type": "code",
      "metadata": {
        "id": "3n_gLkP_7d5y",
        "colab_type": "code",
        "colab": {}
      },
      "source": [
        "class BST_Node:\n",
        "  def __init__(self, key, val, left=None, right=None, parent=None):\n",
        "    self._key = key\n",
        "    self._value = val\n",
        "    self._leftChild = left\n",
        "    self._rightChild = right\n",
        "    self._parent = parent\n",
        "\n",
        "  def hasLeftChild(self):\n",
        "    return self._leftChild\n",
        "\n",
        "  def hasRightChild(self):\n",
        "    return self._rightChild\n",
        "\n",
        "  def isLeftChild(self):\n",
        "    return self._parent and self._parent._leftChild == self\n",
        "\n",
        "  def isRightChild(self):\n",
        "    return self._parent and self._parent._rightChild == self\n",
        "\n",
        "  def isRoot(self):\n",
        "    return not self._parent\n",
        "\n",
        "  def isLeaf(self):\n",
        "    return not (self._rightChild or self._leftChild)\n",
        "\n",
        "  def hasAnyChildren(self):\n",
        "    return self._rightChild or self._leftChild\n",
        "\n",
        "  def hasBothChildren(self):\n",
        "    return self._rightChild and self._leftChild\n",
        "\n",
        "  def replaceNodeData(self, key, value, lc, rc):\n",
        "    self._key = key\n",
        "    self._value = value\n",
        "    self._leftChild = lc\n",
        "    self._rightChild = rc\n",
        "    if self.hasLeftChild():\n",
        "      self._leftChild._parent = self\n",
        "    if self.hasRightChild():\n",
        "      self._rightChild._parent = self\n",
        "\n",
        "  def __iter__(self):               # Inorder iterator of a binary tree\n",
        "    if self:\n",
        "      if self.hasLeftChild():\n",
        "        for elem in self._leftChild:\n",
        "          yield elem\n",
        "      yield self._key\n",
        "      if self.hasRightChild():\n",
        "        for elem in self._rightChild:\n",
        "          yield elem"
      ],
      "execution_count": 39,
      "outputs": []
    },
    {
      "cell_type": "code",
      "metadata": {
        "id": "B4WpqG6g9rpG",
        "colab_type": "code",
        "colab": {}
      },
      "source": [
        "class BinarySearchTree:\n",
        "\n",
        "    def __init__(self):\n",
        "      self._root = None\n",
        "      self._size = 0\n",
        "\n",
        "    def length(self):\n",
        "      return self._size\n",
        "\n",
        "    def __len__(self):\n",
        "      return self._size\n",
        "    \n",
        "    def __iter__(self):\n",
        "      return self._root.__iter__()\n",
        "\n",
        "    def is_empty(self):\n",
        "      return self._root is None\n",
        "    \n",
        "    def treeSearch(self, target):\n",
        "      if not self.is_empty():                         # Root node exists\n",
        "        result = self._treeSearch(self._root, target)              \n",
        "        return result._value      # Return the node's value (None if not found)\n",
        "      else:                                             # Root node not exists\n",
        "        return None\n",
        "\n",
        "    def _treeSearch(self, currentNode, target):\n",
        "      if target == currentNode._key:   # Target is found, return the found node\n",
        "        return currentNode\n",
        "      elif target < currentNode._key:                   # Recur on left subtree\n",
        "        return self._treeSearch(currentNode._leftChild, target)\n",
        "      elif target > currentNode._key:                   # Recur on right subtree\n",
        "        return self._treeSearch(currentNode._rightChild, target)\n",
        "      return None                                       # Target is not found\n",
        "    \n",
        "    def treeInsert(self, key, value):\n",
        "      if not self.is_empty():                           # Root node exists\n",
        "        self._treeInsert(key, value, self._root)        # Insert in the tree\n",
        "      else:\n",
        "        self._root = BST_Node(key,value)   # Create new node and set as a root node of BST\n",
        "      self._size = self._size + 1\n",
        "    \n",
        "    def _treeInsert(self, key, value, currentNode):\n",
        "      if key < currentNode._key:\n",
        "        if currentNode.hasLeftChild():                  # Recur on left subtree\n",
        "          self._treeInsert(key, value, currentNode._leftChild)\n",
        "        else:\n",
        "          currentNode._leftChild = BST_Node(key, value, parent=currentNode)\n",
        "      else:\n",
        "        if currentNode.hasRightChild():                 # Recur on right subtree\n",
        "          self._treeInsert(key, value, currentNode._rightChild)\n",
        "        else:\n",
        "          currentNode._rightChild = BST_Node(key, value, parent=currentNode)\n",
        "    \n",
        "    def deleteNode(self, key):  \n",
        "      if self._size > 1:                                # Tree has >1 nodes\n",
        "        node = self._treeSearch(self._root, key)\n",
        "        if node is not None:                            # Node is found in the tree\n",
        "          self._deleteNode(node)\n",
        "          self._size = self._size-1\n",
        "        else:                                           # Node is not found\n",
        "          raise KeyError('Key not found')\n",
        "      elif self._size == 1 and self._root._key == key:  # Only single node in a tree\n",
        "        self._root = None\n",
        "        self._size = 0\n",
        "      else:\n",
        "          raise KeyError('Key not found')\n",
        "    \n",
        "    def _deleteNode(self, currentNode):\n",
        "      if currentNode.isLeaf():                  #1: The node has zero child\n",
        "        if currentNode == currentNode._parent._leftChild:\n",
        "          currentNode._parent._leftChild = None\n",
        "        else:\n",
        "          currentNode._parent._rightChild = None\n",
        "      elif currentNode.hasAnyChildren():        #2: The node has one child\n",
        "        if currentNode.hasLeftChild():          #2.1 The node has left child\n",
        "          if currentNode.isLeftChild():         #2.1.1 The node is a left child\n",
        "            currentNode._leftChild._parent = currentNode._parent\n",
        "            currentNode._parent._leftChild = currentNode._leftChild\n",
        "          elif currentNode.isRightChild():      #2.1.2 The node is a right child\n",
        "            currentNode._leftChild._parent = currentNode._parent\n",
        "            currentNode._parent._rightChild = currentNode._leftChild\n",
        "          else:                                 #2.1.3 The node is a root\n",
        "            currentNode.replaceNodeData(currentNode.leftChild._key,\n",
        "                                        currentNode.leftChild._value,\n",
        "                                        currentNode.leftChild._leftChild,\n",
        "                                        currentNode.leftChild._rightChild)\n",
        "        else:                                   #2.2 The node has right child\n",
        "          if currentNode.isRightChild():         #2.2.1 The node is a left child\n",
        "            currentNode._rightChild._parent = currentNode._parent\n",
        "            currentNode._parent._leftChild = currentNode._rightChild\n",
        "          elif currentNode.isRightChild():      #2.2.2 The node is a right child\n",
        "            currentNode._rightChild._parent = currentNode._parent\n",
        "            currentNode._parent._rightChild = currentNode._rightChild\n",
        "          else:                                 #2.2.3 The node is a root\n",
        "            currentNode.replaceNodeData(currentNode.rightChild._key,\n",
        "                                        currentNode.rightChild._value,\n",
        "                                        currentNode.rightChild._leftChild,\n",
        "                                        currentNode.rightChild._rightChild)\n",
        "      elif currentNode.hasBothChildren():       #3: The node has two children\n",
        "        successor = currentNode._rightChild\n",
        "        while successor.hasLeftChild():       # find min key in a subtree\n",
        "          successor = successor._leftChild\n",
        "        # Update the parent and children (if any) nodes of the minimum key node\n",
        "        if successor.isLeaf():                  #3.1 Successor has no children\n",
        "          if successor.isLeftChild():\n",
        "            successor._parent._leftChild = None\n",
        "          else:\n",
        "            successor._parent._rightChild = None\n",
        "        elif successor.hasAnyChildren():        #3.2 Successor has a child\n",
        "          if successor.hasLeftChild():          #3.2.1 Successor has left child\n",
        "            if successor.isLeftChild():         #3.2.1.1 Successor is left child\n",
        "              successor._parent._leftChild = successor._leftChild\n",
        "            else:                               #3.2.1.2 Successor is right child\n",
        "              successor._parent._rightChild = successor._leftChild\n",
        "            successor._leftChild._parent = successor._parent\n",
        "          else:                                 #3.2.2 Successor has right child\n",
        "            if successor.isLeftChild():         #3.2.2.1 Successor is left child\n",
        "              successor._parent._leftChild = successor._rightChild\n",
        "            else:                               #3.2.2.1 Successor is right child\n",
        "              successor._parent._rightChild = successor._rightChild\n",
        "            successor._rightChild._parent = successor._parent\n",
        "\n",
        "        # Replace the currentNode with the minimum key node\n",
        "        currentNode._key = successor._key\n",
        "        currentNode._value = successor._value\n",
        "\n",
        "      "
      ],
      "execution_count": 35,
      "outputs": []
    },
    {
      "cell_type": "code",
      "metadata": {
        "id": "H-fBfRb_mldH",
        "colab_type": "code",
        "colab": {}
      },
      "source": [
        "BST_test = BinarySearchTree()"
      ],
      "execution_count": 40,
      "outputs": []
    },
    {
      "cell_type": "code",
      "metadata": {
        "id": "2x3v9Kf9m_2J",
        "colab_type": "code",
        "colab": {
          "base_uri": "https://localhost:8080/",
          "height": 51
        },
        "outputId": "a10e965c-be03-4ddf-9b40-fbd710840f4e"
      },
      "source": [
        "BST_test.treeInsert(5, 'Middle Earth')\n",
        "BST_test.treeInsert(7, 'Shire')\n",
        "BST_test.treeInsert(9, 'Rohan')\n",
        "BST_test.treeInsert(2, 'Gondor')\n",
        "\n",
        "print(BST_test.treeSearch(5))\n",
        "print(BST_test.treeSearch(9))"
      ],
      "execution_count": 41,
      "outputs": [
        {
          "output_type": "stream",
          "text": [
            "Middle Earth\n",
            "Rohan\n"
          ],
          "name": "stdout"
        }
      ]
    },
    {
      "cell_type": "code",
      "metadata": {
        "id": "InQ9d4t5nbsa",
        "colab_type": "code",
        "colab": {
          "base_uri": "https://localhost:8080/",
          "height": 85
        },
        "outputId": "ad94d3f1-a179-484f-f4f9-e1ce82e254b7"
      },
      "source": [
        "for x in BST_test:\n",
        "  print(x)"
      ],
      "execution_count": 42,
      "outputs": [
        {
          "output_type": "stream",
          "text": [
            "2\n",
            "5\n",
            "7\n",
            "9\n"
          ],
          "name": "stdout"
        }
      ]
    },
    {
      "cell_type": "code",
      "metadata": {
        "id": "sm3b60sQqrof",
        "colab_type": "code",
        "colab": {
          "base_uri": "https://localhost:8080/",
          "height": 34
        },
        "outputId": "3040e159-92d2-4d21-eb00-9b890cff18c7"
      },
      "source": [
        "print(BST_test._root._key)"
      ],
      "execution_count": 44,
      "outputs": [
        {
          "output_type": "stream",
          "text": [
            "5\n"
          ],
          "name": "stdout"
        }
      ]
    },
    {
      "cell_type": "code",
      "metadata": {
        "id": "gJJNqMBVrSY3",
        "colab_type": "code",
        "colab": {}
      },
      "source": [
        ""
      ],
      "execution_count": null,
      "outputs": []
    }
  ]
}