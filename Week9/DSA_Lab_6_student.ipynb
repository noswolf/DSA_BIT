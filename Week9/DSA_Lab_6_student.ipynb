{
 "cells": [
  {
   "cell_type": "markdown",
   "metadata": {},
   "source": [
    "# Lab 6: Binary Tree"
   ]
  },
  {
   "cell_type": "markdown",
   "metadata": {},
   "source": [
    "Instructor: Sirasit Lochanachit\n",
    "\n",
    "Course: 01526102 Data Sturctures and Algorithms"
   ]
  },
  {
   "cell_type": "markdown",
   "metadata": {},
   "source": [
    "# Implement a Tree using List of Lists (Array)."
   ]
  },
  {
   "attachments": {
    "image.png": {
     "image/png": "[encoded data removed]"
    }
   },
   "cell_type": "markdown",
   "metadata": {},
   "source": [
    "![image.png](attachment:image.png)"
   ]
  },
  {
   "cell_type": "code",
   "execution_count": 1,
   "metadata": {},
   "outputs": [],
   "source": [
    "# A small tree with left and right subtrees\n",
    "\n",
    "smallTree = ['A',   #root \n",
    "             ['B',  #left subtree\n",
    "              ['D', [], []],    # A subtree that has a root value and two empty lists are leaf nodes\n",
    "              ['E', [], []] ],  # A subtree that has a root value and two empty lists are leaf nodes\n",
    "             ['C',  #right subtree\n",
    "              ['F', [], []],    # A subtree that has a root value and two empty lists are leaf nodes\n",
    "              []]\n",
    "             ]"
   ]
  },
  {
   "cell_type": "code",
   "execution_count": 2,
   "metadata": {},
   "outputs": [
    {
     "name": "stdout",
     "output_type": "stream",
     "text": [
      "['A', ['B', ['D', [], []], ['E', [], []]], ['C', ['F', [], []], []]]\n"
     ]
    }
   ],
   "source": [
    "print(smallTree)"
   ]
  },
  {
   "cell_type": "code",
   "execution_count": 3,
   "metadata": {},
   "outputs": [
    {
     "name": "stdout",
     "output_type": "stream",
     "text": [
      "root =  A\n",
      "left subtree =  ['B', ['D', [], []], ['E', [], []]]\n",
      "right subtree =  ['C', ['F', [], []], []]\n"
     ]
    }
   ],
   "source": [
    "print('root = ', smallTree[0])\n",
    "print('left subtree = ', smallTree[1])\n",
    "print('right subtree = ', smallTree[2])"
   ]
  },
  {
   "cell_type": "code",
   "execution_count": 4,
   "metadata": {},
   "outputs": [
    {
     "name": "stdout",
     "output_type": "stream",
     "text": [
      "leaf node D = ['D', [], []]\n"
     ]
    }
   ],
   "source": [
    "print('leaf node D =', smallTree[1][1] )"
   ]
  },
  {
   "cell_type": "markdown",
   "metadata": {},
   "source": [
    "The `BinaryTree` function creates a list with a root node and two empty sublists for the children.\n",
    "\n",
    "*   To add a left subtree to the root, a new list has to be inserted into the 2nd position of the root list.\n",
    "    * However, if there is already a node in that position, the new list needs to be pused down the tree as the left child of the list.\n",
    "*   Adding right subtree can be executed by inserting into the 3rd position of the root list.\n",
    "\n"
   ]
  },
  {
   "cell_type": "code",
   "execution_count": 5,
   "metadata": {},
   "outputs": [],
   "source": [
    "def BinaryTree(r):\n",
    "    return [r, [], []]\n",
    "\n",
    "\"\"\" Insertion methods \"\"\"\n",
    "def insertLeft(root, newBranch):\n",
    "    t = root.pop(1)                       # Obtain list that corresponds to the current left child of the root\n",
    "    if len(t) > 1:                        # If the left child is not empty, push the old left child as the left child of the new node.\n",
    "      root.insert(1, [newBranch, t, []])\n",
    "    else:                                 # If the left child is empty\n",
    "      root.insert(1, [newBranch,[],[]])\n",
    "    return root\n",
    "\n",
    "def insertRight(root, newBranch):\n",
    "    t = root.pop(2)                       # Obtain list that corresponds to the current right child of the root\n",
    "    if len(t) > 1:                        # If the right child is not empty, push the old right child as the right child of the new node.\n",
    "      root.insert(2, [newBranch, [], t])\n",
    "    else:                                 # If the right child is empty\n",
    "      root.insert(2, [newBranch, [], []]) \n",
    "    return root\n",
    "\n",
    "\"\"\" Accessor methods \"\"\"\n",
    "def getRootVal(root):\n",
    "    return root[0]\n",
    "\n",
    "def setRootVal(root, newVal):\n",
    "    root[0] = newVal\n",
    "\n",
    "def getLeftChild(root):\n",
    "    return root[1]\n",
    "\n",
    "def getRightChild(root):\n",
    "    return root[2]"
   ]
  },
  {
   "cell_type": "markdown",
   "metadata": {},
   "source": [
    "Running Code Examples"
   ]
  },
  {
   "cell_type": "code",
   "execution_count": 6,
   "metadata": {},
   "outputs": [
    {
     "name": "stdout",
     "output_type": "stream",
     "text": [
      "[5, [4, [], []], []]\n"
     ]
    }
   ],
   "source": [
    "r = BinaryTree(3)    # contents = [3, [], []]\n",
    "insertLeft(r,4)      # contents = [3, [4, [], []], []]\n",
    "insertLeft(r,5)      # contents = [3, [5, [4, [], []], []], []]\n",
    "insertRight(r,6)     # contents = [3, [5, [4, [], []], []], [6, [], []]]\n",
    "insertRight(r,7)     # contents = [3, [5, [4, [], []], []], [7, [], [6, [], []]]] \n",
    "l = getLeftChild(r)   # [5, [4, [], []], []]\n",
    "print(l)"
   ]
  },
  {
   "cell_type": "code",
   "execution_count": 7,
   "metadata": {},
   "outputs": [
    {
     "name": "stdout",
     "output_type": "stream",
     "text": [
      "[3, [9, [4, [], []], []], [7, [], [6, [], []]]]\n",
      "[3, [9, [11, [4, [], []], []], []], [7, [], [6, [], []]]]\n",
      "[6, [], []]\n"
     ]
    }
   ],
   "source": [
    "setRootVal(l,9)      # contents = [3, [9, [4, [], []], []], [7, [], [6, [], []]]] \n",
    "print(r)\n",
    "insertLeft(l,11)     # contents = [3, [9, [11, [4, [], []], []], []], [7, [], [6, [], []]]] \n",
    "print(r)\n",
    "print(getRightChild(getRightChild(r)))  # [6, [], []]"
   ]
  },
  {
   "cell_type": "markdown",
   "metadata": {},
   "source": [
    "# Implement a Binary Tree using Nodes and References (Linked Lists)."
   ]
  },
  {
   "attachments": {
    "image.png": {
     "image/png": "[encoded data removed]"
    }
   },
   "cell_type": "markdown",
   "metadata": {},
   "source": [
    "![image.png](attachment:image.png)"
   ]
  },
  {
   "cell_type": "code",
   "execution_count": 16,
   "metadata": {},
   "outputs": [],
   "source": [
    "class BinaryTree:\n",
    "  \"\"\" Tree implementation using node and reference\"\"\"\n",
    "  def __init__(self, element):\n",
    "      self._element = element        # reference to user’s element\n",
    "      self._leftChild = None         # reference to left child\n",
    "      self._rightChild = None        # reference to right child\n",
    "\n",
    "  \"\"\" Insertion methods \"\"\"\n",
    "  def insertLeft(self, newNode):\n",
    "      new_node = BinaryTree(newNode)\n",
    "      if self._leftChild == None:    # No existing left child, add a node to the left\n",
    "        self._leftChild = new_node\n",
    "      else:                         # Insert a node and pust the old child down one level\n",
    "        new_node._leftChild = self._leftChild\n",
    "        self._leftChild = new_node\n",
    "    \n",
    "  \n",
    "  def insertRight(self, newNode):\n",
    "      new_node = BinaryTree(newNode)\n",
    "      if self._rightChild == None:    # No existing right child, add a node to the right\n",
    "        self._rightChild = new_node\n",
    "      else:                         # Insert a node and pust the old child down one level\n",
    "        new_node.rightChild = self._rightChild\n",
    "        self._rightChild = new_node\n",
    "\n",
    "\n",
    "  \"\"\" Accessor methods \"\"\"\n",
    "  def getRightChild(self):\n",
    "      return self._rightChild\n",
    "\n",
    "  def getLeftChild(self):\n",
    "      return self._leftChild\n",
    "\n",
    "  def setRootVal(self,e):\n",
    "      self._element = e\n",
    "\n",
    "  def getRootVal(self):\n",
    "      return self._element"
   ]
  },
  {
   "cell_type": "markdown",
   "metadata": {},
   "source": [
    "Running Code Examples"
   ]
  },
  {
   "cell_type": "code",
   "execution_count": 17,
   "metadata": {},
   "outputs": [
    {
     "name": "stdout",
     "output_type": "stream",
     "text": [
      "a\n",
      "None\n",
      "b\n",
      "c\n",
      "hello\n"
     ]
    }
   ],
   "source": [
    "r = BinaryTree('a')                   # contents = [a, [], []]\n",
    "print(r.getRootVal())\n",
    "print(r.getLeftChild())\n",
    "r.insertLeft('b')                     # contents = [a, [b, [], []], []]\n",
    "print(r.getLeftChild().getRootVal())\n",
    "r.insertRight('c')                    # contents = [a, [b, [], []], [c, [], []]]\n",
    "print(r.getRightChild().getRootVal())\n",
    "r.getRightChild().setRootVal('hello') # contents = [a, [b, [], []], [hello, [], []]]\n",
    "print(r.getRightChild().getRootVal())"
   ]
  },
  {
   "cell_type": "markdown",
   "metadata": {},
   "source": [
    "# Implement a Binary Search Tree using Nodes and References"
   ]
  },
  {
   "cell_type": "markdown",
   "metadata": {},
   "source": [
    "# Lab 6-1 \n",
    "\n",
    "Given a class of BST_Node class and an abstract of BinarySearchTree class, implement the following BinarySearchTree methods:\n",
    "\n",
    "# Lab 6-1.1\n",
    "1. is_empty(): Check whether a BST is empty\n",
    "    * Return True if a BST is empty, False otherwise.\n",
    "2. _treeSearch(currentNode, target_key): Search for a given key in a BST\n",
    "    * Return the node's value if found, otherwise return None\n",
    "3. findMin(): Return a minimum key in a BST with a corresponding value as a tuple ex. (10, 'Shire')\n",
    "4. findMax(): Return a maximum key in a BST with a corresponding value as a tuple ex. (10, 'Shire')\n",
    "\n",
    "# Lab 6-1.2\n",
    "5. _treeInsert(key, value, currentNode): Insert a given key into a BST\n",
    "\n",
    "# Lab 6-1.3\n",
    "6. traverse(): Traverse into the BST and display the results of the following traversal modes \n",
    "    - Preorder, Inorder, Postorder by calling preorder(root), inorder(root), and postorder(root) functions\n",
    "\n",
    "# Challenge\n",
    "7. _deleteNode(currentNode): Delete a node from a BST\n",
    "    * Updating relevant pointers\n"
   ]
  },
  {
   "cell_type": "code",
   "execution_count": 8,
   "metadata": {},
   "outputs": [],
   "source": [
    "class BST_Node:\n",
    "  def __init__(self, key, val, left=None, right=None, parent=None):\n",
    "      self._key = key\n",
    "      self._value = val\n",
    "      self._leftChild = left\n",
    "      self._rightChild = right\n",
    "      self._parent = parent\n",
    "\n",
    "  def hasLeftChild(self):\n",
    "      return self._leftChild\n",
    "\n",
    "  def hasRightChild(self):\n",
    "      return self._rightChild\n",
    "\n",
    "  def isLeftChild(self):\n",
    "      return self._parent and self._parent._leftChild == self\n",
    "\n",
    "  def isRightChild(self):\n",
    "      return self._parent and self._parent._rightChild == self\n",
    "\n",
    "  def isRoot(self):\n",
    "      return not self._parent\n",
    "\n",
    "  def isLeaf(self):\n",
    "      return not (self._rightChild or self._leftChild)\n",
    "\n",
    "  def hasAnyChildren(self):\n",
    "      return self._rightChild or self._leftChild\n",
    "\n",
    "  def hasBothChildren(self):\n",
    "      return self._rightChild and self._leftChild\n",
    "\n",
    "  def replaceNodeData(self, key, value, lc, rc):\n",
    "      self._key = key\n",
    "      self._value = value\n",
    "      self._leftChild = lc\n",
    "      self._rightChild = rc\n",
    "      if self.hasLeftChild():\n",
    "        self._leftChild._parent = self\n",
    "      if self.hasRightChild():\n",
    "        self._rightChild._parent = self"
   ]
  },
  {
   "cell_type": "code",
   "execution_count": null,
   "metadata": {},
   "outputs": [],
   "source": [
    "class BinarySearchTree:\n",
    "\n",
    "    def __init__(self):\n",
    "        self._root = None\n",
    "        self._size = 0\n",
    "\n",
    "    def length(self):\n",
    "        return self._size\n",
    "\n",
    "    def __len__(self):\n",
    "        return self._size\n",
    "    \n",
    "    def __iter__(self):\n",
    "        return self._root.__iter__()\n",
    "\n",
    "    def is_empty(self):\n",
    "        ########################\n",
    "        ## Add your code here\n",
    "        ########################\n",
    "        pass\n",
    "    \n",
    "    def treeSearch(self, target):\n",
    "        if not self.is_empty():                           # Root node exists\n",
    "          result = self._treeSearch(self._root, target)              \n",
    "          return result._value                            # Return the node's value (None if not found)\n",
    "        else:                                             # Root node not exists\n",
    "          return None\n",
    "\n",
    "    def _treeSearch(self, currentNode, target):\n",
    "        ########################\n",
    "        ## Add your code here\n",
    "        ########################\n",
    "        pass                                  \n",
    "\n",
    "    def findMin_re(self, root):\n",
    "        ########################\n",
    "        ## Add your code here\n",
    "        ########################\n",
    "        pass  \n",
    "    \n",
    "    def findMax_re(self, root):\n",
    "        ########################\n",
    "        ## Add your code here\n",
    "        ########################\n",
    "        pass  \n",
    "\n",
    "    def treeInsert(self, key, value):\n",
    "        if not self.is_empty():                           # Root node exists\n",
    "          self._treeInsert(key, value, self._root)        # Insert in the tree\n",
    "        else:\n",
    "          self._root = BST_Node(key,value)                # Create new node and set as a root node of BST\n",
    "        self._size = self._size + 1\n",
    "    \n",
    "    def _treeInsert(self, key, value, currentNode):\n",
    "        ########################\n",
    "        ## Add your code here\n",
    "        ########################\n",
    "        pass\n",
    "      \n",
    "    def preorder(self, root):\n",
    "        ########################\n",
    "        ## Add your code here\n",
    "        ########################\n",
    "        pass  \n",
    "\n",
    "    def inorder(self, root):\n",
    "        ########################\n",
    "        ## Add your code here\n",
    "        ########################\n",
    "        pass  \n",
    "\n",
    "    def postorder(self, root):\n",
    "        ########################\n",
    "        ## Add your code here\n",
    "        ########################\n",
    "        pass  \n",
    "\n",
    "    def traverse(self):\n",
    "        if self.is_empty():\n",
    "            print(\"This is an empty tree.\")\n",
    "        else:\n",
    "            print(\"Preorder: \")\n",
    "            self.preorder(self._root)\n",
    "            print(\"\\nInorder: \")\n",
    "            self.inorder(self._root)\n",
    "            print(\"\\nPostorder: \")\n",
    "            self.postorder(self._root)\n",
    "            print(\"\")\n",
    "    \n",
    "    \n",
    "    def deleteNode(self, key):  \n",
    "        if self._size > 1:                                # Tree has >1 nodes\n",
    "          node = self._treeSearch(self._root, key)\n",
    "          if node is not None:                            # Node is found in the tree\n",
    "            self._deleteNode(node)\n",
    "            self._size = self._size-1\n",
    "          else:                                           # Node is not found\n",
    "            raise KeyError('Key not found')\n",
    "        elif self._size == 1 and self._root._key == key:  # Only single node in a tree\n",
    "          self._root = None\n",
    "          self._size = 0\n",
    "        else:\n",
    "            raise KeyError('Key not found')\n",
    "    \n",
    "    def _deleteNode(self, currentNode):\n",
    "        ########################\n",
    "        ## Add your code here\n",
    "        ########################\n",
    "        pass"
   ]
  },
  {
   "cell_type": "markdown",
   "metadata": {},
   "source": [
    "Running Code Examples"
   ]
  },
  {
   "cell_type": "code",
   "execution_count": 95,
   "metadata": {},
   "outputs": [],
   "source": [
    "BST_test = BinarySearchTree()"
   ]
  },
  {
   "cell_type": "code",
   "execution_count": 76,
   "metadata": {},
   "outputs": [
    {
     "name": "stdout",
     "output_type": "stream",
     "text": [
      "Middle Earth\n",
      "Rohan\n"
     ]
    }
   ],
   "source": [
    "# Insert a pair of key & value\n",
    "BST_test.treeInsert(5, 'Middle Earth')\n",
    "BST_test.treeInsert(7, 'Shire')\n",
    "BST_test.treeInsert(9, 'Rohan')\n",
    "BST_test.treeInsert(2, 'Gondor')\n",
    "\n",
    "# Search for key, return the found value\n",
    "print(BST_test.treeSearch(5))\n",
    "print(BST_test.treeSearch(9))\n"
   ]
  },
  {
   "cell_type": "code",
   "execution_count": 77,
   "metadata": {},
   "outputs": [
    {
     "name": "stdout",
     "output_type": "stream",
     "text": [
      "Preorder: \n",
      "-> 5 -> 2 -> 7 -> 9 \n",
      "Inorder: \n",
      "-> 2 -> 5 -> 7 -> 9 \n",
      "Postorder: \n",
      "-> 2 -> 9 -> 7 -> 5 \n"
     ]
    }
   ],
   "source": [
    "BST_test.traverse()"
   ]
  },
  {
   "cell_type": "code",
   "execution_count": 64,
   "metadata": {},
   "outputs": [
    {
     "data": {
      "text/plain": [
       "(2, 'Gondor')"
      ]
     },
     "execution_count": 64,
     "metadata": {},
     "output_type": "execute_result"
    }
   ],
   "source": [
    "BST_test.findMin()"
   ]
  },
  {
   "cell_type": "code",
   "execution_count": 65,
   "metadata": {},
   "outputs": [
    {
     "data": {
      "text/plain": [
       "(2, 'Gondor')"
      ]
     },
     "execution_count": 65,
     "metadata": {},
     "output_type": "execute_result"
    }
   ],
   "source": [
    "BST_test.findMin_re(BST_test._root)"
   ]
  },
  {
   "cell_type": "code",
   "execution_count": 68,
   "metadata": {},
   "outputs": [
    {
     "data": {
      "text/plain": [
       "(9, 'Rohan')"
      ]
     },
     "execution_count": 68,
     "metadata": {},
     "output_type": "execute_result"
    }
   ],
   "source": [
    "BST_test.findMax_re(BST_test._root)"
   ]
  },
  {
   "cell_type": "code",
   "execution_count": 69,
   "metadata": {},
   "outputs": [],
   "source": [
    "# Search for key, then delete the node\n",
    "BST_test.deleteNode(9)"
   ]
  },
  {
   "cell_type": "code",
   "execution_count": 13,
   "metadata": {},
   "outputs": [
    {
     "name": "stdout",
     "output_type": "stream",
     "text": [
      "5\n"
     ]
    }
   ],
   "source": [
    "# Print the key of the root node\n",
    "print(BST_test._root._key)"
   ]
  },
  {
   "cell_type": "markdown",
   "metadata": {},
   "source": [
    "Running Code Examples 2"
   ]
  },
  {
   "cell_type": "code",
   "execution_count": 126,
   "metadata": {},
   "outputs": [],
   "source": [
    "myBST = BinarySearchTree()\n",
    "myBST.insertList([[14,'Frodo'], [23,'Samwise'], [7,'Merry'], [10,'Pippins'], [33,'Arwen'], [5,'Galadriel'], [20,'Sauron']])\n"
   ]
  },
  {
   "cell_type": "code",
   "execution_count": 127,
   "metadata": {},
   "outputs": [
    {
     "name": "stdout",
     "output_type": "stream",
     "text": [
      "Preorder: \n",
      "-> 14 -> 7 -> 5 -> 10 -> 23 -> 20 -> 33 \n",
      "Inorder: \n",
      "-> 5 -> 7 -> 10 -> 14 -> 20 -> 23 -> 33 \n",
      "Postorder: \n",
      "-> 5 -> 10 -> 7 -> 20 -> 33 -> 23 -> 14 \n"
     ]
    }
   ],
   "source": [
    "myBST.traverse()"
   ]
  },
  {
   "cell_type": "code",
   "execution_count": null,
   "metadata": {},
   "outputs": [],
   "source": [
    "print(\"Min: \", myBST.findMin())\n",
    "print(\"Max: \", myBST.findMax())"
   ]
  }
 ],
 "metadata": {
  "kernelspec": {
   "display_name": "Python 3",
   "language": "python",
   "name": "python3"
  },
  "language_info": {
   "codemirror_mode": {
    "name": "ipython",
    "version": 3
   },
   "file_extension": ".py",
   "mimetype": "text/x-python",
   "name": "python",
   "nbconvert_exporter": "python",
   "pygments_lexer": "ipython3",
   "version": "3.10.2"
  },
  "orig_nbformat": 4
 },
 "nbformat": 4,
 "nbformat_minor": 2
}
