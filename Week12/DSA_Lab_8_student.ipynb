{
 "cells": [
  {
   "cell_type": "markdown",
   "metadata": {},
   "source": [
    "# Lab 8: Sorting"
   ]
  },
  {
   "cell_type": "markdown",
   "metadata": {},
   "source": [
    "Instructor: Sirasit Lochanachit\n",
    "\n",
    "Course: 01526102 Data Sturctures and Algorithms"
   ]
  },
  {
   "cell_type": "markdown",
   "metadata": {},
   "source": [
    "## Gentle reminder of Big-O of sorting operations\n",
    "\n",
    "- Bubble Sort: $O(N^2)$\n",
    "- Selection Sort: $O(N^2)$\n",
    "- Insertion Sort: $O(N^2)$\n",
    "- Merge Sort: $O(N log_2 N)$"
   ]
  },
  {
   "cell_type": "markdown",
   "metadata": {},
   "source": [
    "## Lab 8-1: Implement Bubble, Selection, and Insertion Sort in ascending order (lower numbers to higher numbers)"
   ]
  },
  {
   "cell_type": "markdown",
   "metadata": {},
   "source": [
    "### 8.1.1 Write a bubbleSort on an input list\n",
    "- Print round number for each round\n",
    "- Print current list after each round has finished\n",
    "- Print number of comparisons and exchanges after the last round has finished"
   ]
  },
  {
   "cell_type": "code",
   "execution_count": 19,
   "metadata": {},
   "outputs": [],
   "source": [
    "def bubbleSort(alist):\n",
    "    print(\"Original list: \", alist, \"\\n\")\n",
    "    no_compare = 0\n",
    "    no_exchange = 0\n",
    "    \n",
    "    ########################\n",
    "    ## Add your code here\n",
    "    ########################\n",
    "\n",
    "    print(\"Number of Comparisons: \", no_compare)\n",
    "    print(\"Number of Exchanges: \", no_exchange)"
   ]
  },
  {
   "cell_type": "code",
   "execution_count": 20,
   "metadata": {},
   "outputs": [
    {
     "name": "stdout",
     "output_type": "stream",
     "text": [
      "Original list:  [54, 26, 93, 17, 77, 31, 44, 55, 20] \n",
      "\n",
      "Round:  1\n",
      "Current List:  [17, 54, 26, 93, 20, 77, 31, 44, 55]\n",
      "\n",
      "\n",
      "Round:  2\n",
      "Current List:  [17, 20, 54, 26, 93, 31, 77, 44, 55]\n",
      "\n",
      "\n",
      "Round:  3\n",
      "Current List:  [17, 20, 26, 54, 31, 93, 44, 77, 55]\n",
      "\n",
      "\n",
      "Round:  4\n",
      "Current List:  [17, 20, 26, 31, 54, 44, 93, 55, 77]\n",
      "\n",
      "\n",
      "Round:  5\n",
      "Current List:  [17, 20, 26, 31, 44, 54, 55, 93, 77]\n",
      "\n",
      "\n",
      "Round:  6\n",
      "Current List:  [17, 20, 26, 31, 44, 54, 55, 77, 93]\n",
      "\n",
      "\n",
      "Round:  7\n",
      "Current List:  [17, 20, 26, 31, 44, 54, 55, 77, 93]\n",
      "\n",
      "\n",
      "Round:  8\n",
      "Current List:  [17, 20, 26, 31, 44, 54, 55, 77, 93]\n",
      "\n",
      "\n",
      "Number of Comparisons:  36\n",
      "Number of Exchanges:  20\n",
      "[17, 20, 26, 31, 44, 54, 55, 77, 93]\n"
     ]
    }
   ],
   "source": [
    "inputList = [54,26,93,17,77,31,44,55,20]\n",
    "bubbleSort(inputList)\n",
    "print(inputList)"
   ]
  },
  {
   "cell_type": "code",
   "execution_count": 21,
   "metadata": {},
   "outputs": [
    {
     "name": "stdout",
     "output_type": "stream",
     "text": [
      "Original list:  [12, 90, 53, 63, 76, 1, 38, 42] \n",
      "\n",
      "Round:  1\n",
      "Current List:  [1, 12, 90, 53, 63, 76, 38, 42]\n",
      "\n",
      "\n",
      "Round:  2\n",
      "Current List:  [1, 12, 38, 90, 53, 63, 76, 42]\n",
      "\n",
      "\n",
      "Round:  3\n",
      "Current List:  [1, 12, 38, 42, 90, 53, 63, 76]\n",
      "\n",
      "\n",
      "Round:  4\n",
      "Current List:  [1, 12, 38, 42, 53, 90, 63, 76]\n",
      "\n",
      "\n",
      "Round:  5\n",
      "Current List:  [1, 12, 38, 42, 53, 63, 90, 76]\n",
      "\n",
      "\n",
      "Round:  6\n",
      "Current List:  [1, 12, 38, 42, 53, 63, 76, 90]\n",
      "\n",
      "\n",
      "Round:  7\n",
      "Current List:  [1, 12, 38, 42, 53, 63, 76, 90]\n",
      "\n",
      "\n",
      "Number of Comparisons:  28\n",
      "Number of Exchanges:  16\n",
      "[1, 12, 38, 42, 53, 63, 76, 90]\n"
     ]
    }
   ],
   "source": [
    "inputList = [12, 90, 53, 63, 76, 1, 38, 42]\n",
    "bubbleSort(inputList)\n",
    "print(inputList)"
   ]
  },
  {
   "cell_type": "markdown",
   "metadata": {},
   "source": [
    "### 8.1.2 Write a selectionSort on an input list\n",
    "- Print round number for each round\n",
    "- Print a position to insert the selected item in sorted area\n",
    "- Print a position of the selected item from the unsorted area\n",
    "- Print current list after each round has finished\n",
    "- Print number of comparisons and exchanges after the last round has finished"
   ]
  },
  {
   "cell_type": "code",
   "execution_count": 22,
   "metadata": {},
   "outputs": [],
   "source": [
    "def selectionSort(alist):\n",
    "    print(\"Original list: \", alist, \"\\n\")\n",
    "    no_compare = 0\n",
    "    no_exchange = 0\n",
    "    \n",
    "    ########################\n",
    "    ## Add your code here\n",
    "    ########################\n",
    "\n",
    "    print(\"Number of Comparisons: \", no_compare)\n",
    "    print(\"Number of Exchanges: \", no_exchange)"
   ]
  },
  {
   "cell_type": "code",
   "execution_count": 23,
   "metadata": {},
   "outputs": [
    {
     "name": "stdout",
     "output_type": "stream",
     "text": [
      "Original list:  [54, 26, 93, 17, 77, 31, 44, 55, 20] \n",
      "\n",
      "Round:  1\n",
      "Position to insert:  0\n",
      "Position of min value:  3\n",
      "Current List:  [17, 26, 93, 54, 77, 31, 44, 55, 20]\n",
      "\n",
      "\n",
      "Round:  2\n",
      "Position to insert:  1\n",
      "Position of min value:  8\n",
      "Current List:  [17, 20, 93, 54, 77, 31, 44, 55, 26]\n",
      "\n",
      "\n",
      "Round:  3\n",
      "Position to insert:  2\n",
      "Position of min value:  8\n",
      "Current List:  [17, 20, 26, 54, 77, 31, 44, 55, 93]\n",
      "\n",
      "\n",
      "Round:  4\n",
      "Position to insert:  3\n",
      "Position of min value:  5\n",
      "Current List:  [17, 20, 26, 31, 77, 54, 44, 55, 93]\n",
      "\n",
      "\n",
      "Round:  5\n",
      "Position to insert:  4\n",
      "Position of min value:  6\n",
      "Current List:  [17, 20, 26, 31, 44, 54, 77, 55, 93]\n",
      "\n",
      "\n",
      "Round:  6\n",
      "Position to insert:  5\n",
      "Position of min value:  5\n",
      "Current List:  [17, 20, 26, 31, 44, 54, 77, 55, 93]\n",
      "\n",
      "\n",
      "Round:  7\n",
      "Position to insert:  6\n",
      "Position of min value:  7\n",
      "Current List:  [17, 20, 26, 31, 44, 54, 55, 77, 93]\n",
      "\n",
      "\n",
      "Round:  8\n",
      "Position to insert:  7\n",
      "Position of min value:  7\n",
      "Current List:  [17, 20, 26, 31, 44, 54, 55, 77, 93]\n",
      "\n",
      "\n",
      "Number of Comparisons:  36\n",
      "Number of Exchanges:  8\n",
      "[17, 20, 26, 31, 44, 54, 55, 77, 93]\n"
     ]
    }
   ],
   "source": [
    "inputList = [54,26,93,17,77,31,44,55,20]\n",
    "selectionSort(inputList)\n",
    "print(inputList)"
   ]
  },
  {
   "cell_type": "code",
   "execution_count": 24,
   "metadata": {},
   "outputs": [
    {
     "name": "stdout",
     "output_type": "stream",
     "text": [
      "Original list:  [12, 90, 53, 63, 76, 1, 38, 42] \n",
      "\n",
      "Round:  1\n",
      "Position to insert:  0\n",
      "Position of min value:  5\n",
      "Current List:  [1, 90, 53, 63, 76, 12, 38, 42]\n",
      "\n",
      "\n",
      "Round:  2\n",
      "Position to insert:  1\n",
      "Position of min value:  5\n",
      "Current List:  [1, 12, 53, 63, 76, 90, 38, 42]\n",
      "\n",
      "\n",
      "Round:  3\n",
      "Position to insert:  2\n",
      "Position of min value:  6\n",
      "Current List:  [1, 12, 38, 63, 76, 90, 53, 42]\n",
      "\n",
      "\n",
      "Round:  4\n",
      "Position to insert:  3\n",
      "Position of min value:  7\n",
      "Current List:  [1, 12, 38, 42, 76, 90, 53, 63]\n",
      "\n",
      "\n",
      "Round:  5\n",
      "Position to insert:  4\n",
      "Position of min value:  6\n",
      "Current List:  [1, 12, 38, 42, 53, 90, 76, 63]\n",
      "\n",
      "\n",
      "Round:  6\n",
      "Position to insert:  5\n",
      "Position of min value:  7\n",
      "Current List:  [1, 12, 38, 42, 53, 63, 76, 90]\n",
      "\n",
      "\n",
      "Round:  7\n",
      "Position to insert:  6\n",
      "Position of min value:  6\n",
      "Current List:  [1, 12, 38, 42, 53, 63, 76, 90]\n",
      "\n",
      "\n",
      "Number of Comparisons:  28\n",
      "Number of Exchanges:  7\n",
      "[1, 12, 38, 42, 53, 63, 76, 90]\n"
     ]
    }
   ],
   "source": [
    "inputList = [12, 90, 53, 63, 76, 1, 38, 42]\n",
    "selectionSort(inputList)\n",
    "print(inputList)"
   ]
  },
  {
   "cell_type": "markdown",
   "metadata": {},
   "source": [
    "### 8.1.3 Write a insertionSort on an input list\n",
    "- Print round number for each round\n",
    "- Print a current selected/drew value in an unsorted area\n",
    "- Print a position of the current selected/drew value in an unsorted area\n",
    "- Print a position of the inserted item into the sorted area\n",
    "- Print current list after each round has finished\n",
    "- Print number of comparisons and exchanges after the last round has finished"
   ]
  },
  {
   "cell_type": "code",
   "execution_count": 27,
   "metadata": {},
   "outputs": [],
   "source": [
    "def insertionSort(alist):\n",
    "    print(\"Original list: \", alist, \"\\n\")\n",
    "    no_compare = 0\n",
    "    no_exchange = 0\n",
    "    \n",
    "    ########################\n",
    "    ## Add your code here\n",
    "    ########################\n",
    "\n",
    "    print(\"Number of Comparisons: \", no_compare)\n",
    "    print(\"Number of Exchanges: \", no_exchange)"
   ]
  },
  {
   "cell_type": "code",
   "execution_count": 28,
   "metadata": {},
   "outputs": [
    {
     "name": "stdout",
     "output_type": "stream",
     "text": [
      "Original list:  [54, 26, 93, 17, 77, 31, 44, 55, 20] \n",
      "\n",
      "Round:  1\n",
      "Current Value: 26\n",
      "Position of the current value:  1\n",
      "Position to insert: 0\n",
      "Current List:  [26, 54, 93, 17, 77, 31, 44, 55, 20]\n",
      "\n",
      "\n",
      "Round:  2\n",
      "Current Value: 93\n",
      "Position of the current value:  2\n",
      "Position to insert: 2\n",
      "Current List:  [26, 54, 93, 17, 77, 31, 44, 55, 20]\n",
      "\n",
      "\n",
      "Round:  3\n",
      "Current Value: 17\n",
      "Position of the current value:  3\n",
      "Position to insert: 0\n",
      "Current List:  [17, 26, 54, 93, 77, 31, 44, 55, 20]\n",
      "\n",
      "\n",
      "Round:  4\n",
      "Current Value: 77\n",
      "Position of the current value:  4\n",
      "Position to insert: 3\n",
      "Current List:  [17, 26, 54, 77, 93, 31, 44, 55, 20]\n",
      "\n",
      "\n",
      "Round:  5\n",
      "Current Value: 31\n",
      "Position of the current value:  5\n",
      "Position to insert: 2\n",
      "Current List:  [17, 26, 31, 54, 77, 93, 44, 55, 20]\n",
      "\n",
      "\n",
      "Round:  6\n",
      "Current Value: 44\n",
      "Position of the current value:  6\n",
      "Position to insert: 3\n",
      "Current List:  [17, 26, 31, 44, 54, 77, 93, 55, 20]\n",
      "\n",
      "\n",
      "Round:  7\n",
      "Current Value: 55\n",
      "Position of the current value:  7\n",
      "Position to insert: 5\n",
      "Current List:  [17, 26, 31, 44, 54, 55, 77, 93, 20]\n",
      "\n",
      "\n",
      "Round:  8\n",
      "Current Value: 20\n",
      "Position of the current value:  8\n",
      "Position to insert: 1\n",
      "Current List:  [17, 20, 26, 31, 44, 54, 55, 77, 93]\n",
      "\n",
      "\n",
      "Number of Comparisons:  20\n",
      "Number of Exchanges:  20\n",
      "[17, 20, 26, 31, 44, 54, 55, 77, 93]\n"
     ]
    }
   ],
   "source": [
    "inputList = [54,26,93,17,77,31,44,55,20]\n",
    "insertionSort(inputList)\n",
    "print(inputList)"
   ]
  },
  {
   "cell_type": "code",
   "execution_count": 29,
   "metadata": {},
   "outputs": [
    {
     "name": "stdout",
     "output_type": "stream",
     "text": [
      "Original list:  [12, 90, 53, 63, 76, 1, 38, 42] \n",
      "\n",
      "Round:  1\n",
      "Current Value: 90\n",
      "Position of the current value:  1\n",
      "Position to insert: 1\n",
      "Current List:  [12, 90, 53, 63, 76, 1, 38, 42]\n",
      "\n",
      "\n",
      "Round:  2\n",
      "Current Value: 53\n",
      "Position of the current value:  2\n",
      "Position to insert: 1\n",
      "Current List:  [12, 53, 90, 63, 76, 1, 38, 42]\n",
      "\n",
      "\n",
      "Round:  3\n",
      "Current Value: 63\n",
      "Position of the current value:  3\n",
      "Position to insert: 2\n",
      "Current List:  [12, 53, 63, 90, 76, 1, 38, 42]\n",
      "\n",
      "\n",
      "Round:  4\n",
      "Current Value: 76\n",
      "Position of the current value:  4\n",
      "Position to insert: 3\n",
      "Current List:  [12, 53, 63, 76, 90, 1, 38, 42]\n",
      "\n",
      "\n",
      "Round:  5\n",
      "Current Value: 1\n",
      "Position of the current value:  5\n",
      "Position to insert: 0\n",
      "Current List:  [1, 12, 53, 63, 76, 90, 38, 42]\n",
      "\n",
      "\n",
      "Round:  6\n",
      "Current Value: 38\n",
      "Position of the current value:  6\n",
      "Position to insert: 2\n",
      "Current List:  [1, 12, 38, 53, 63, 76, 90, 42]\n",
      "\n",
      "\n",
      "Round:  7\n",
      "Current Value: 42\n",
      "Position of the current value:  7\n",
      "Position to insert: 3\n",
      "Current List:  [1, 12, 38, 42, 53, 63, 76, 90]\n",
      "\n",
      "\n",
      "Number of Comparisons:  16\n",
      "Number of Exchanges:  16\n",
      "[1, 12, 38, 42, 53, 63, 76, 90]\n"
     ]
    }
   ],
   "source": [
    "inputList = [12, 90, 53, 63, 76, 1, 38, 42]\n",
    "insertionSort(inputList)\n",
    "print(inputList)"
   ]
  },
  {
   "cell_type": "markdown",
   "metadata": {},
   "source": [
    "## Lab 8-2: Sorting Playing Cards"
   ]
  },
  {
   "cell_type": "markdown",
   "metadata": {},
   "source": [
    "### Modify bubbleSort, SelectionSort, and insertSort function to sort a deck of cards\n",
    "\n",
    "- Sort by numbers from lower numbers to higher numbers ('A' is the lowest number)\n",
    "- If two cards have the same number, sort them by suit as follows: clubs (♣) < diamonds (♦) < hearts (♥) < spades (♠)"
   ]
  },
  {
   "cell_type": "code",
   "execution_count": 45,
   "metadata": {},
   "outputs": [],
   "source": [
    "########################\n",
    "## Add your code here\n",
    "########################"
   ]
  },
  {
   "cell_type": "code",
   "execution_count": 46,
   "metadata": {},
   "outputs": [],
   "source": [
    "def bubbleSort_card(alist):\n",
    "    print(\"Original list: \", alist, \"\\n\")\n",
    "    no_compare = 0\n",
    "    no_exchange = 0\n",
    "    \n",
    "    ########################\n",
    "    ## Add your code here\n",
    "    ########################\n",
    "\n",
    "    print(\"Number of Comparisons: \", no_compare)\n",
    "    print(\"Number of Exchanges: \", no_exchange)"
   ]
  },
  {
   "cell_type": "code",
   "execution_count": 47,
   "metadata": {},
   "outputs": [
    {
     "name": "stdout",
     "output_type": "stream",
     "text": [
      "Original list:  ['4♣', 'A♣', '10♥', 'K♦', '4♠', '10♣', '3♦', '7♥', '4♦'] \n",
      "\n",
      "Round:  1\n",
      "Current List:  ['A♣', '4♣', '3♦', '10♥', 'K♦', '4♠', '10♣', '4♦', '7♥']\n",
      "\n",
      "\n",
      "Round:  2\n",
      "Current List:  ['A♣', '3♦', '4♣', '4♦', '10♥', 'K♦', '4♠', '10♣', '7♥']\n",
      "\n",
      "\n",
      "Round:  3\n",
      "Current List:  ['A♣', '3♦', '4♣', '4♦', '4♠', '10♥', 'K♦', '7♥', '10♣']\n",
      "\n",
      "\n",
      "Round:  4\n",
      "Current List:  ['A♣', '3♦', '4♣', '4♦', '4♠', '7♥', '10♥', 'K♦', '10♣']\n",
      "\n",
      "\n",
      "Round:  5\n",
      "Current List:  ['A♣', '3♦', '4♣', '4♦', '4♠', '7♥', '10♣', '10♥', 'K♦']\n",
      "\n",
      "\n",
      "Round:  6\n",
      "Current List:  ['A♣', '3♦', '4♣', '4♦', '4♠', '7♥', '10♣', '10♥', 'K♦']\n",
      "\n",
      "\n",
      "Round:  7\n",
      "Current List:  ['A♣', '3♦', '4♣', '4♦', '4♠', '7♥', '10♣', '10♥', 'K♦']\n",
      "\n",
      "\n",
      "Round:  8\n",
      "Current List:  ['A♣', '3♦', '4♣', '4♦', '4♠', '7♥', '10♣', '10♥', 'K♦']\n",
      "\n",
      "\n",
      "Number of Comparisons:  36\n",
      "Number of Exchanges:  18\n",
      "['A♣', '3♦', '4♣', '4♦', '4♠', '7♥', '10♣', '10♥', 'K♦']\n"
     ]
    }
   ],
   "source": [
    "inputList = ['4♣','A♣','10♥','K♦','4♠','10♣','3♦','7♥','4♦']\n",
    "bubbleSort_card(inputList)\n",
    "print(inputList)"
   ]
  },
  {
   "cell_type": "code",
   "execution_count": 48,
   "metadata": {},
   "outputs": [],
   "source": [
    "def selectionSort_card(alist):\n",
    "    print(\"Original list: \", alist, \"\\n\")\n",
    "    no_compare = 0\n",
    "    no_exchange = 0\n",
    "    \n",
    "    ########################\n",
    "    ## Add your code here\n",
    "    ########################\n",
    "\n",
    "    print(\"Number of Comparisons: \", no_compare)\n",
    "    print(\"Number of Exchanges: \", no_exchange)"
   ]
  },
  {
   "cell_type": "code",
   "execution_count": 49,
   "metadata": {},
   "outputs": [
    {
     "name": "stdout",
     "output_type": "stream",
     "text": [
      "Original list:  ['4♣', 'A♣', '10♥', 'K♦', '4♠', '10♣', '3♦', '7♥', '4♦'] \n",
      "\n",
      "Round:  1\n",
      "Position to insert:  0\n",
      "Position of min value:  1\n",
      "Current List:  ['A♣', '4♣', '10♥', 'K♦', '4♠', '10♣', '3♦', '7♥', '4♦']\n",
      "\n",
      "\n",
      "Round:  2\n",
      "Position to insert:  1\n",
      "Position of min value:  6\n",
      "Current List:  ['A♣', '3♦', '10♥', 'K♦', '4♠', '10♣', '4♣', '7♥', '4♦']\n",
      "\n",
      "\n",
      "Round:  3\n",
      "Position to insert:  2\n",
      "Position of min value:  6\n",
      "Current List:  ['A♣', '3♦', '4♣', 'K♦', '4♠', '10♣', '10♥', '7♥', '4♦']\n",
      "\n",
      "\n",
      "Round:  4\n",
      "Position to insert:  3\n",
      "Position of min value:  8\n",
      "Current List:  ['A♣', '3♦', '4♣', '4♦', '4♠', '10♣', '10♥', '7♥', 'K♦']\n",
      "\n",
      "\n",
      "Round:  5\n",
      "Position to insert:  4\n",
      "Position of min value:  4\n",
      "Current List:  ['A♣', '3♦', '4♣', '4♦', '4♠', '10♣', '10♥', '7♥', 'K♦']\n",
      "\n",
      "\n",
      "Round:  6\n",
      "Position to insert:  5\n",
      "Position of min value:  7\n",
      "Current List:  ['A♣', '3♦', '4♣', '4♦', '4♠', '7♥', '10♥', '10♣', 'K♦']\n",
      "\n",
      "\n",
      "Round:  7\n",
      "Position to insert:  6\n",
      "Position of min value:  7\n",
      "Current List:  ['A♣', '3♦', '4♣', '4♦', '4♠', '7♥', '10♣', '10♥', 'K♦']\n",
      "\n",
      "\n",
      "Round:  8\n",
      "Position to insert:  7\n",
      "Position of min value:  7\n",
      "Current List:  ['A♣', '3♦', '4♣', '4♦', '4♠', '7♥', '10♣', '10♥', 'K♦']\n",
      "\n",
      "\n",
      "Number of Comparisons:  36\n",
      "Number of Exchanges:  8\n",
      "['A♣', '3♦', '4♣', '4♦', '4♠', '7♥', '10♣', '10♥', 'K♦']\n"
     ]
    }
   ],
   "source": [
    "inputList = ['4♣','A♣','10♥','K♦','4♠','10♣','3♦','7♥','4♦']\n",
    "selectionSort_card(inputList)\n",
    "print(inputList)"
   ]
  },
  {
   "cell_type": "code",
   "execution_count": 50,
   "metadata": {},
   "outputs": [],
   "source": [
    "def insertionSort_card(alist):\n",
    "    print(\"Original list: \", alist, \"\\n\")\n",
    "    no_compare = 0\n",
    "    no_exchange = 0\n",
    "    \n",
    "    ########################\n",
    "    ## Add your code here\n",
    "    ########################\n",
    "\n",
    "    print(\"Number of Comparisons: \", no_compare)\n",
    "    print(\"Number of Exchanges: \", no_exchange)"
   ]
  },
  {
   "cell_type": "code",
   "execution_count": 51,
   "metadata": {},
   "outputs": [
    {
     "name": "stdout",
     "output_type": "stream",
     "text": [
      "Original list:  ['4♣', 'A♣', '10♥', 'K♦', '4♠', '10♣', '3♦', '7♥', '4♦'] \n",
      "\n",
      "Round:  1\n",
      "Current Value: A♣\n",
      "Position of the current value:  1\n",
      "Position to insert: 0\n",
      "Current List:  ['A♣', '4♣', '10♥', 'K♦', '4♠', '10♣', '3♦', '7♥', '4♦']\n",
      "\n",
      "\n",
      "Round:  2\n",
      "Current Value: 10♥\n",
      "Position of the current value:  2\n",
      "Position to insert: 2\n",
      "Current List:  ['A♣', '4♣', '10♥', 'K♦', '4♠', '10♣', '3♦', '7♥', '4♦']\n",
      "\n",
      "\n",
      "Round:  3\n",
      "Current Value: K♦\n",
      "Position of the current value:  3\n",
      "Position to insert: 3\n",
      "Current List:  ['A♣', '4♣', '10♥', 'K♦', '4♠', '10♣', '3♦', '7♥', '4♦']\n",
      "\n",
      "\n",
      "Round:  4\n",
      "Current Value: 4♠\n",
      "Position of the current value:  4\n",
      "Position to insert: 2\n",
      "Current List:  ['A♣', '4♣', '4♠', '10♥', 'K♦', '10♣', '3♦', '7♥', '4♦']\n",
      "\n",
      "\n",
      "Round:  5\n",
      "Current Value: 10♣\n",
      "Position of the current value:  5\n",
      "Position to insert: 3\n",
      "Current List:  ['A♣', '4♣', '4♠', '10♣', '10♥', 'K♦', '3♦', '7♥', '4♦']\n",
      "\n",
      "\n",
      "Round:  6\n",
      "Current Value: 3♦\n",
      "Position of the current value:  6\n",
      "Position to insert: 1\n",
      "Current List:  ['A♣', '3♦', '4♣', '4♠', '10♣', '10♥', 'K♦', '7♥', '4♦']\n",
      "\n",
      "\n",
      "Round:  7\n",
      "Current Value: 7♥\n",
      "Position of the current value:  7\n",
      "Position to insert: 4\n",
      "Current List:  ['A♣', '3♦', '4♣', '4♠', '7♥', '10♣', '10♥', 'K♦', '4♦']\n",
      "\n",
      "\n",
      "Round:  8\n",
      "Current Value: 4♦\n",
      "Position of the current value:  8\n",
      "Position to insert: 3\n",
      "Current List:  ['A♣', '3♦', '4♣', '4♦', '4♠', '7♥', '10♣', '10♥', 'K♦']\n",
      "\n",
      "\n",
      "Number of Comparisons:  18\n",
      "Number of Exchanges:  18\n",
      "['A♣', '3♦', '4♣', '4♦', '4♠', '7♥', '10♣', '10♥', 'K♦']\n"
     ]
    }
   ],
   "source": [
    "inputList = ['4♣','A♣','10♥','K♦','4♠','10♣','3♦','7♥','4♦']\n",
    "insertionSort_card(inputList)\n",
    "print(inputList)"
   ]
  }
 ],
 "metadata": {
  "kernelspec": {
   "display_name": "Python 3",
   "language": "python",
   "name": "python3"
  },
  "language_info": {
   "codemirror_mode": {
    "name": "ipython",
    "version": 3
   },
   "file_extension": ".py",
   "mimetype": "text/x-python",
   "name": "python",
   "nbconvert_exporter": "python",
   "pygments_lexer": "ipython3",
   "version": "3.10.2"
  },
  "orig_nbformat": 4
 },
 "nbformat": 4,
 "nbformat_minor": 2
}
