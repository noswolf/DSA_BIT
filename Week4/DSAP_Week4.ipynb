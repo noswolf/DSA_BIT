{
  "cells": [
    {
      "cell_type": "markdown",
      "metadata": {
        "colab_type": "text",
        "id": "view-in-github"
      },
      "source": [
        "<a href=\"https://colab.research.google.com/github/noswolf/DSA_BIT/blob/master/Week3/DSA_Week3.ipynb\" target=\"_parent\"><img src=\"https://colab.research.google.com/assets/colab-badge.svg\" alt=\"Open In Colab\"/></a>"
      ]
    },
    {
      "cell_type": "markdown",
      "metadata": {
        "colab_type": "text",
        "id": "0wyF_X6ZS919"
      },
      "source": [
        "# Implementing a stack using Python list"
      ]
    },
    {
      "cell_type": "markdown",
      "metadata": {
        "colab_type": "text",
        "id": "k362tZvrbsDe"
      },
      "source": [
        "Create ArrayStack class and its methods"
      ]
    },
    {
      "cell_type": "code",
      "execution_count": null,
      "metadata": {
        "colab": {},
        "colab_type": "code",
        "id": "Mj8BC-MQSxJu"
      },
      "outputs": [],
      "source": [
        "class ArrayStack:\n",
        "  def __init__(self):\n",
        "    \"\"\" Create an empty stack. \"\"\"\n",
        "    self._data = []   # Initiate a nonpublic list instance\n",
        "  \n",
        "  def __len__(self):\n",
        "    \"\"\" Return the number of elements in the stack. \"\"\"\n",
        "    return len(self._data)\n",
        "  \n",
        "  def is_empty(self):\n",
        "    \"\"\" Return True if the stack is empty. \"\"\"\n",
        "    return len(self._data) == 0\n",
        "  \n",
        "  def push(self, element):\n",
        "    \"\"\" Add an element to the top of the stack. \"\"\"\n",
        "    self._data.append(element) # new item stored at end of list\n",
        "  \n",
        "  def top(self):\n",
        "    \"\"\" Return (but do not remove) the element at the top of the stack.\n",
        "    Raise an exception if the stack is empty. \"\"\"\n",
        "    if self.is_empty():\n",
        "      print('Stack is empty')\n",
        "      raise Empty('Stack is empty') # Calling subclass Empty\n",
        "    return self._data[-1] # the last item in the list\n",
        "\n",
        "  def pop(self):\n",
        "    \"\"\" Remove and return the element from the top of the stack.\n",
        "    Raise an exception if the stack is empty. \"\"\"\n",
        "    if self.is_empty():\n",
        "      print('Stack is empty')\n",
        "      raise Exception('Stack is empty') # Alternate way to call subclass Empty\n",
        "    return self._data.pop() # remove last item from the list\n"
      ]
    },
    {
      "cell_type": "code",
      "execution_count": null,
      "metadata": {
        "colab": {},
        "colab_type": "code",
        "id": "tCpFM6rWVsSp"
      },
      "outputs": [],
      "source": [
        "class Empty(Exception):\n",
        "  \"\"\" Error attempting to access an element from an empty container. \"\"\"\n",
        "  pass"
      ]
    },
    {
      "cell_type": "markdown",
      "metadata": {
        "colab_type": "text",
        "id": "msrmfhfnXc5n"
      },
      "source": [
        "Push 2 elements into the stack."
      ]
    },
    {
      "cell_type": "code",
      "execution_count": null,
      "metadata": {
        "colab": {
          "base_uri": "https://localhost:8080/",
          "height": 34
        },
        "colab_type": "code",
        "id": "4gGarUL0Uxx1",
        "outputId": "c77cec4b-d035-4204-b4ae-ca0b0b8415e6"
      },
      "outputs": [
        {
          "name": "stdout",
          "output_type": "stream",
          "text": [
            "Number of elements: 2\n"
          ]
        }
      ],
      "source": [
        "S = ArrayStack()  # contents: []\n",
        "S.push(7)         # contents: [7]\n",
        "S.push(5)         # contents: [7, 5]\n",
        "print('Number of elements: {}'.format(len(S)))     # contents: [7, 5]"
      ]
    },
    {
      "cell_type": "markdown",
      "metadata": {
        "colab_type": "text",
        "id": "UFD8VVpXXldf"
      },
      "source": [
        "Pop elements and check whether stack is empty"
      ]
    },
    {
      "cell_type": "code",
      "execution_count": null,
      "metadata": {
        "colab": {
          "base_uri": "https://localhost:8080/",
          "height": 85
        },
        "colab_type": "code",
        "id": "UJ7N6vS_Xhzb",
        "outputId": "28393334-ff04-43a0-8c5c-0fd0b4aab983"
      },
      "outputs": [
        {
          "name": "stdout",
          "output_type": "stream",
          "text": [
            "Remove item: 5\n",
            "Is stack empty?: False\n",
            "Remove item: 7\n",
            "Is stack empty?: True\n"
          ]
        }
      ],
      "source": [
        "print('Remove item: {}'.format(S.pop()))          # contents: [7]\n",
        "print('Is stack empty?: {}'.format(S.is_empty())) # contents: [7]\n",
        "print('Remove item: {}'.format(S.pop()))          # contents: []\n",
        "print('Is stack empty?: {}'.format(S.is_empty())) # contents: []"
      ]
    },
    {
      "cell_type": "markdown",
      "metadata": {
        "colab_type": "text",
        "id": "kO1X9znyYDHO"
      },
      "source": [
        "Attempting to remove or retrieve item when stack is empty"
      ]
    },
    {
      "cell_type": "code",
      "execution_count": null,
      "metadata": {
        "colab": {
          "base_uri": "https://localhost:8080/",
          "height": 282
        },
        "colab_type": "code",
        "id": "Nx5ueqWkU9ai",
        "outputId": "6c686988-bc04-49fa-b083-2964f63169c6"
      },
      "outputs": [
        {
          "name": "stdout",
          "output_type": "stream",
          "text": [
            "Stack is empty\n"
          ]
        },
        {
          "ename": "Exception",
          "evalue": "ignored",
          "output_type": "error",
          "traceback": [
            "\u001b[0;31m---------------------------------------------------------------------------\u001b[0m",
            "\u001b[0;31mException\u001b[0m                                 Traceback (most recent call last)",
            "\u001b[0;32m<ipython-input-27-56647b1a4017>\u001b[0m in \u001b[0;36m<module>\u001b[0;34m()\u001b[0m\n\u001b[0;32m----> 1\u001b[0;31m \u001b[0mprint\u001b[0m\u001b[0;34m(\u001b[0m\u001b[0mS\u001b[0m\u001b[0;34m.\u001b[0m\u001b[0mpop\u001b[0m\u001b[0;34m(\u001b[0m\u001b[0;34m)\u001b[0m\u001b[0;34m)\u001b[0m\u001b[0;34m\u001b[0m\u001b[0;34m\u001b[0m\u001b[0m\n\u001b[0m",
            "\u001b[0;32m<ipython-input-16-12d26bc5d65c>\u001b[0m in \u001b[0;36mpop\u001b[0;34m(self)\u001b[0m\n\u001b[1;32m     29\u001b[0m     \u001b[0;32mif\u001b[0m \u001b[0mself\u001b[0m\u001b[0;34m.\u001b[0m\u001b[0mis_empty\u001b[0m\u001b[0;34m(\u001b[0m\u001b[0;34m)\u001b[0m\u001b[0;34m:\u001b[0m\u001b[0;34m\u001b[0m\u001b[0;34m\u001b[0m\u001b[0m\n\u001b[1;32m     30\u001b[0m       \u001b[0mprint\u001b[0m\u001b[0;34m(\u001b[0m\u001b[0;34m'Stack is empty'\u001b[0m\u001b[0;34m)\u001b[0m\u001b[0;34m\u001b[0m\u001b[0;34m\u001b[0m\u001b[0m\n\u001b[0;32m---> 31\u001b[0;31m       \u001b[0;32mraise\u001b[0m \u001b[0mException\u001b[0m\u001b[0;34m(\u001b[0m\u001b[0;34m'Stack is empty'\u001b[0m\u001b[0;34m)\u001b[0m \u001b[0;31m# Alternate way to call subclass Empty\u001b[0m\u001b[0;34m\u001b[0m\u001b[0;34m\u001b[0m\u001b[0m\n\u001b[0m\u001b[1;32m     32\u001b[0m     \u001b[0;32mreturn\u001b[0m \u001b[0mself\u001b[0m\u001b[0;34m.\u001b[0m\u001b[0m_data\u001b[0m\u001b[0;34m.\u001b[0m\u001b[0mpop\u001b[0m\u001b[0;34m(\u001b[0m\u001b[0;34m)\u001b[0m \u001b[0;31m# remove last item from the list\u001b[0m\u001b[0;34m\u001b[0m\u001b[0;34m\u001b[0m\u001b[0m\n",
            "\u001b[0;31mException\u001b[0m: Stack is empty"
          ]
        }
      ],
      "source": [
        "print(S.pop())    # contents: []"
      ]
    },
    {
      "cell_type": "code",
      "execution_count": null,
      "metadata": {
        "colab": {
          "base_uri": "https://localhost:8080/",
          "height": 299
        },
        "colab_type": "code",
        "id": "9RDytRztV9GY",
        "outputId": "facf1b86-8206-45b5-a008-7d6fb9fe347e"
      },
      "outputs": [
        {
          "name": "stdout",
          "output_type": "stream",
          "text": [
            "Stack is empty\n"
          ]
        },
        {
          "ename": "Empty",
          "evalue": "ignored",
          "output_type": "error",
          "traceback": [
            "\u001b[0;31m---------------------------------------------------------------------------\u001b[0m",
            "\u001b[0;31mEmpty\u001b[0m                                     Traceback (most recent call last)",
            "\u001b[0;32m<ipython-input-28-cecdd936ab55>\u001b[0m in \u001b[0;36m<module>\u001b[0;34m()\u001b[0m\n\u001b[0;32m----> 1\u001b[0;31m \u001b[0mprint\u001b[0m\u001b[0;34m(\u001b[0m\u001b[0mS\u001b[0m\u001b[0;34m.\u001b[0m\u001b[0mtop\u001b[0m\u001b[0;34m(\u001b[0m\u001b[0;34m)\u001b[0m\u001b[0;34m)\u001b[0m\u001b[0;34m\u001b[0m\u001b[0;34m\u001b[0m\u001b[0m\n\u001b[0m",
            "\u001b[0;32m<ipython-input-16-12d26bc5d65c>\u001b[0m in \u001b[0;36mtop\u001b[0;34m(self)\u001b[0m\n\u001b[1;32m     21\u001b[0m     \u001b[0;32mif\u001b[0m \u001b[0mself\u001b[0m\u001b[0;34m.\u001b[0m\u001b[0mis_empty\u001b[0m\u001b[0;34m(\u001b[0m\u001b[0;34m)\u001b[0m\u001b[0;34m:\u001b[0m\u001b[0;34m\u001b[0m\u001b[0;34m\u001b[0m\u001b[0m\n\u001b[1;32m     22\u001b[0m       \u001b[0mprint\u001b[0m\u001b[0;34m(\u001b[0m\u001b[0;34m'Stack is empty'\u001b[0m\u001b[0;34m)\u001b[0m\u001b[0;34m\u001b[0m\u001b[0;34m\u001b[0m\u001b[0m\n\u001b[0;32m---> 23\u001b[0;31m       \u001b[0;32mraise\u001b[0m \u001b[0mEmpty\u001b[0m\u001b[0;34m(\u001b[0m\u001b[0;34m'Stack is empty'\u001b[0m\u001b[0;34m)\u001b[0m \u001b[0;31m# Calling subclass Empty\u001b[0m\u001b[0;34m\u001b[0m\u001b[0;34m\u001b[0m\u001b[0m\n\u001b[0m\u001b[1;32m     24\u001b[0m     \u001b[0;32mreturn\u001b[0m \u001b[0mself\u001b[0m\u001b[0;34m.\u001b[0m\u001b[0m_data\u001b[0m\u001b[0;34m[\u001b[0m\u001b[0;34m-\u001b[0m\u001b[0;36m1\u001b[0m\u001b[0;34m]\u001b[0m \u001b[0;31m# the last item in the list\u001b[0m\u001b[0;34m\u001b[0m\u001b[0;34m\u001b[0m\u001b[0m\n\u001b[1;32m     25\u001b[0m \u001b[0;34m\u001b[0m\u001b[0m\n",
            "\u001b[0;31mEmpty\u001b[0m: Stack is empty"
          ]
        }
      ],
      "source": [
        "print(S.top())    # contents: []"
      ]
    },
    {
      "cell_type": "markdown",
      "metadata": {
        "colab_type": "text",
        "id": "uz5GS7JbYUqi"
      },
      "source": [
        "Push more elements into stack, then pop one element"
      ]
    },
    {
      "cell_type": "code",
      "execution_count": null,
      "metadata": {
        "colab": {
          "base_uri": "https://localhost:8080/",
          "height": 68
        },
        "colab_type": "code",
        "id": "KKw86oeuYUZE",
        "outputId": "7620fb9c-374a-4544-c92a-5e0a6fd43794"
      },
      "outputs": [
        {
          "name": "stdout",
          "output_type": "stream",
          "text": [
            "Retrieve top item: 4\n",
            "Number of elements: 3\n",
            "Remove item: 6\n"
          ]
        }
      ],
      "source": [
        "S.push(2)         # contents = [2]\n",
        "S.push(4)         # contents = [2, 4]\n",
        "print('Retrieve top item: {}'.format(S.top()))    # contents = [2, 4]\n",
        "S.push(6)                                         # contents = [2, 4, 6]\n",
        "print('Number of elements: {}'.format(len(S)))    # contents = [2, 4, 6]\n",
        "print('Remove item: {}'.format(S.pop()))          # contents = [2, 4]\n",
        "S.push(1)         # contents = [2, 4 , 1]"
      ]
    },
    {
      "cell_type": "markdown",
      "metadata": {
        "colab_type": "text",
        "id": "uxu8S_gHmU0i"
      },
      "source": [
        "# Balanced delimiting symbols"
      ]
    },
    {
      "cell_type": "code",
      "execution_count": null,
      "metadata": {
        "colab": {},
        "colab_type": "code",
        "id": "zBrOWdTsYA-6"
      },
      "outputs": [],
      "source": [
        "def is_balanced(expression):\n",
        "  \"\"\" Return True if all delimiters are properly match; False otherwise.\"\"\"\n",
        "  lefty = '({['                                   # opening delimiters\n",
        "  righty = ')}]'                                  # respective closing delims\n",
        "  S = ArrayStack()\n",
        "  for char in expression:\n",
        "    if char in lefty:\n",
        "      S.push(char)                                   # push left delimiter on stack\n",
        "    elif char in righty:\n",
        "      if S.is_empty():\n",
        "        return False                              # nothing to match with\n",
        "      top = S.pop()\n",
        "      if ((top == '(' and char != ')') or \n",
        "      (top == '{' and char != '}') or\n",
        "      top == '[' and char != ']'):\n",
        "        return False                              # mismatched\n",
        "  return S.is_empty()                             # were all symbols matched?"
      ]
    },
    {
      "cell_type": "markdown",
      "metadata": {
        "colab_type": "text",
        "id": "NXsIGfPOqFRx"
      },
      "source": [
        "Test correct expressions"
      ]
    },
    {
      "cell_type": "code",
      "execution_count": null,
      "metadata": {
        "colab": {
          "base_uri": "https://localhost:8080/",
          "height": 34
        },
        "colab_type": "code",
        "id": "DyGrm1jUqYol",
        "outputId": "ce5dd3a2-4c19-4fe9-b0a8-f5a245df2652"
      },
      "outputs": [
        {
          "data": {
            "text/plain": [
              "True"
            ]
          },
          "execution_count": 57,
          "metadata": {
            "tags": []
          },
          "output_type": "execute_result"
        }
      ],
      "source": [
        "is_balanced('([])[]()')"
      ]
    },
    {
      "cell_type": "code",
      "execution_count": null,
      "metadata": {
        "colab": {
          "base_uri": "https://localhost:8080/",
          "height": 34
        },
        "colab_type": "code",
        "id": "nc2qS6xanUHU",
        "outputId": "b77f9ada-9a24-4bb3-9640-33e7d753c9f4"
      },
      "outputs": [
        {
          "data": {
            "text/plain": [
              "True"
            ]
          },
          "execution_count": 55,
          "metadata": {
            "tags": []
          },
          "output_type": "execute_result"
        }
      ],
      "source": [
        "is_balanced('()(()){([()])}')"
      ]
    },
    {
      "cell_type": "code",
      "execution_count": null,
      "metadata": {
        "colab": {
          "base_uri": "https://localhost:8080/",
          "height": 34
        },
        "colab_type": "code",
        "id": "Gxd6wscXqM5w",
        "outputId": "6b4784a6-f649-40d5-9126-2863fde4d3b2"
      },
      "outputs": [
        {
          "data": {
            "text/plain": [
              "True"
            ]
          },
          "execution_count": 56,
          "metadata": {
            "tags": []
          },
          "output_type": "execute_result"
        }
      ],
      "source": [
        "is_balanced('((()(()){([()])}))')"
      ]
    },
    {
      "cell_type": "code",
      "execution_count": null,
      "metadata": {
        "colab": {
          "base_uri": "https://localhost:8080/",
          "height": 34
        },
        "colab_type": "code",
        "id": "brdic_A1rbJg",
        "outputId": "482aeee4-f9d9-453d-8b21-776d40da6fa6"
      },
      "outputs": [
        {
          "data": {
            "text/plain": [
              "True"
            ]
          },
          "execution_count": 61,
          "metadata": {
            "tags": []
          },
          "output_type": "execute_result"
        }
      ],
      "source": [
        "is_balanced('[(5+x)-(y+z)]')"
      ]
    },
    {
      "cell_type": "markdown",
      "metadata": {
        "colab_type": "text",
        "id": "osgUcSLQqf3y"
      },
      "source": [
        "Test incorrect expressions"
      ]
    },
    {
      "cell_type": "code",
      "execution_count": null,
      "metadata": {
        "colab": {
          "base_uri": "https://localhost:8080/",
          "height": 34
        },
        "colab_type": "code",
        "id": "DdSjE2z_qX2S",
        "outputId": "1ac603c7-6497-4914-9c04-88530e320351"
      },
      "outputs": [
        {
          "data": {
            "text/plain": [
              "False"
            ]
          },
          "execution_count": 58,
          "metadata": {
            "tags": []
          },
          "output_type": "execute_result"
        }
      ],
      "source": [
        "is_balanced('(')      # Missing closing ')'"
      ]
    },
    {
      "cell_type": "code",
      "execution_count": null,
      "metadata": {
        "colab": {
          "base_uri": "https://localhost:8080/",
          "height": 34
        },
        "colab_type": "code",
        "id": "-i_9j5iJqj16",
        "outputId": "631e38b9-0aec-478f-d708-9b0f8c3c8042"
      },
      "outputs": [
        {
          "data": {
            "text/plain": [
              "False"
            ]
          },
          "execution_count": 59,
          "metadata": {
            "tags": []
          },
          "output_type": "execute_result"
        }
      ],
      "source": [
        "is_balanced('][')     # Incorrect order"
      ]
    },
    {
      "cell_type": "code",
      "execution_count": null,
      "metadata": {
        "colab": {
          "base_uri": "https://localhost:8080/",
          "height": 34
        },
        "colab_type": "code",
        "id": "SigafzghqlOy",
        "outputId": "a1d97268-e647-413f-e38a-0170e98e918b"
      },
      "outputs": [
        {
          "data": {
            "text/plain": [
              "False"
            ]
          },
          "execution_count": 60,
          "metadata": {
            "tags": []
          },
          "output_type": "execute_result"
        }
      ],
      "source": [
        "is_balanced('({[])}') # Incorrect order"
      ]
    }
  ],
  "metadata": {
    "colab": {
      "authorship_tag": "ABX9TyOVoc/aYyXAhGQVdkLY2KtJ",
      "include_colab_link": true,
      "name": "DSA_Week3.ipynb",
      "provenance": []
    },
    "kernelspec": {
      "display_name": "Python 3",
      "name": "python3"
    }
  },
  "nbformat": 4,
  "nbformat_minor": 0
}
