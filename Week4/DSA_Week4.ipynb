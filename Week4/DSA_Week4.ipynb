{
  "nbformat": 4,
  "nbformat_minor": 0,
  "metadata": {
    "colab": {
      "name": "DSA_Week4.ipynb",
      "provenance": [],
      "collapsed_sections": [],
      "authorship_tag": "ABX9TyPKUs6mwftQZ7VEpMUf9zI6",
      "include_colab_link": true
    },
    "kernelspec": {
      "name": "python3",
      "display_name": "Python 3"
    }
  },
  "cells": [
    {
      "cell_type": "markdown",
      "metadata": {
        "id": "view-in-github",
        "colab_type": "text"
      },
      "source": [
        "<a href=\"https://colab.research.google.com/github/noswolf/DSA_BIT/blob/master/Week4/DSA_Week4.ipynb\" target=\"_parent\"><img src=\"https://colab.research.google.com/assets/colab-badge.svg\" alt=\"Open In Colab\"/></a>"
      ]
    },
    {
      "cell_type": "markdown",
      "metadata": {
        "id": "0wyF_X6ZS919",
        "colab_type": "text"
      },
      "source": [
        "# Implementing a FIFO queue using Python list"
      ]
    },
    {
      "cell_type": "markdown",
      "metadata": {
        "id": "k362tZvrbsDe",
        "colab_type": "text"
      },
      "source": [
        "Create ArrayQueue class and its methods"
      ]
    },
    {
      "cell_type": "code",
      "metadata": {
        "id": "Mj8BC-MQSxJu",
        "colab_type": "code",
        "colab": {}
      },
      "source": [
        "class ArrayQueue:\n",
        "  DEFAULT_CAPACITY = 10   # moderate capacity for all new queues\n",
        "\n",
        "  def __init__(self):\n",
        "    \"\"\" Create an empty queue with specified size. \"\"\"\n",
        "    self._data = [None] * ArrayQueue.DEFAULT_CAPACITY\n",
        "    self._size = 0\n",
        "    self._front = 0\n",
        "    self._rear = 0\n",
        "  \n",
        "  def __len__(self):\n",
        "    \"\"\" Return the number of elements in the queue. \"\"\"\n",
        "    return self._size\n",
        "  \n",
        "  def is_empty(self):\n",
        "    \"\"\" Return True if the queue is empty. \"\"\"\n",
        "    return self._size == 0\n",
        "  \n",
        "  def first(self):\n",
        "    \"\"\" Return (but do not remove) the element at the front of the queue.\n",
        "    Raise Empty exception if the queue is empty.\"\"\"\n",
        "    if self.is_empty():\n",
        "      raise Empty('Queue is empty')\n",
        "    return self._data[self._front]\n",
        "  \n",
        "  def dequeue(self):\n",
        "    \"\"\" Remove and return the first element of the queue.\n",
        "    Raise Empty exception if the queue is empty.\"\"\"\n",
        "    if self.is_empty():\n",
        "      raise Empty('Queue is empty')\n",
        "    answer = self._data[self._front]\n",
        "    self._data[self._front] = None          # Reclaiming unused space\n",
        "    self._front = (self._front + 1) % len(self._data) # shift the location of the front index rightward\n",
        "    self._size -= 1\n",
        "    return answer\n",
        "  \n",
        "  def enqueue(self, e):\n",
        "    \"\"\" Add an element to the back of queue.\"\"\"\n",
        "    if self._size == len(self._data):\n",
        "      self._resize(2*len(self._data))    # double the array size when all slots are occupied.\n",
        "    if self._rear == 0 and self._data[0] == None: # For the first case of rear = 0 and no data in Q[0] - Empty Queue\n",
        "      self._data[self._rear] = e\n",
        "    else:\n",
        "      self._rear = (self._rear + 1) % len(self._data) # shift the location of the rear index rightward\n",
        "      self._data[self._rear] = e\n",
        "    self._size += 1                     # Keep track of number of elements in ArrayQueue\n",
        "\n",
        "  \n",
        "  def _resize(self, cap):               # Assume cap >= len(self)\n",
        "    \"\"\" Resize to a new list of capacity >= len(self). \"\"\"\n",
        "    old = self._data                    # keep track of existing list\n",
        "    self._data = [None] * cap           # allocate list with new capacity\n",
        "    walk = self._front\n",
        "    for k in range(self._size):         # consider existing elements\n",
        "      self._data[k] = old[walk]         # Shift indices to start at 0\n",
        "      walk = (1 + walk) % len(old)      # use old size as modulus\n",
        "    self._front = 0                     # front has been realigned\n",
        "    self._rear = self._size - 1         # rear has been realigned"
      ],
      "execution_count": null,
      "outputs": []
    },
    {
      "cell_type": "code",
      "metadata": {
        "id": "tCpFM6rWVsSp",
        "colab_type": "code",
        "colab": {}
      },
      "source": [
        "class Empty(Exception):\n",
        "  \"\"\" Error attempting to access an element from an empty container. \"\"\"\n",
        "  pass"
      ],
      "execution_count": null,
      "outputs": []
    },
    {
      "cell_type": "markdown",
      "metadata": {
        "id": "msrmfhfnXc5n",
        "colab_type": "text"
      },
      "source": [
        "Enqueue 2 elements into the queue."
      ]
    },
    {
      "cell_type": "code",
      "metadata": {
        "id": "4gGarUL0Uxx1",
        "colab_type": "code",
        "colab": {
          "base_uri": "https://localhost:8080/",
          "height": 85
        },
        "outputId": "fdacbf7f-12c2-464f-a8a8-38c34b4ea917"
      },
      "source": [
        "Q = ArrayQueue()  # contents: []\n",
        "Q.enqueue(7)         # contents: [7]\n",
        "Q.enqueue(5)         # contents: [7, 5]\n",
        "print('Number of elements: {}'.format(len(Q)))     # contents: [7, 5]\n",
        "print('Queue: {}'.format(Q._data))\n",
        "print('Front index: {}'.format(Q._front))\n",
        "print('Rear index: {}'.format(Q._rear))"
      ],
      "execution_count": null,
      "outputs": [
        {
          "output_type": "stream",
          "text": [
            "Number of elements: 2\n",
            "Queue: [7, 5, None, None, None, None, None, None, None, None]\n",
            "Front index: 0\n",
            "Rear index: 1\n"
          ],
          "name": "stdout"
        }
      ]
    },
    {
      "cell_type": "markdown",
      "metadata": {
        "id": "UFD8VVpXXldf",
        "colab_type": "text"
      },
      "source": [
        "Dequeue elements and check whether queue is empty."
      ]
    },
    {
      "cell_type": "code",
      "metadata": {
        "id": "UJ7N6vS_Xhzb",
        "colab_type": "code",
        "colab": {
          "base_uri": "https://localhost:8080/",
          "height": 289
        },
        "outputId": "27189c1b-22c2-48b2-846a-d06d0d8b0b10"
      },
      "source": [
        "print('Remove item: {}'.format(Q.dequeue()))          # contents: [5]\n",
        "print('Queue: {}'.format(Q._data))\n",
        "print('Front index: {}'.format(Q._front))\n",
        "print('Rear index: {}'.format(Q._rear))\n",
        "print('\\n')\n",
        "print('Is queue empty?: {}'.format(Q.is_empty()))     # contents: [5]\n",
        "print('\\n')\n",
        "print('Remove item: {}'.format(Q.dequeue()))          # contents: []\n",
        "\n",
        "print('Queue: {}'.format(Q._data))\n",
        "print('Front index: {}'.format(Q._front))\n",
        "print('Rear index: {}'.format(Q._rear))\n",
        "print('\\n')\n",
        "print('Is queue empty?: {}'.format(Q.is_empty()))     # contents: []"
      ],
      "execution_count": null,
      "outputs": [
        {
          "output_type": "stream",
          "text": [
            "Remove item: 7\n",
            "Queue: [None, 5, None, None, None, None, None, None, None, None]\n",
            "Front index: 1\n",
            "Rear index: 1\n",
            "\n",
            "\n",
            "Is queue empty?: False\n",
            "\n",
            "\n",
            "Remove item: 5\n",
            "Queue: [None, None, None, None, None, None, None, None, None, None]\n",
            "Front index: 2\n",
            "Rear index: 1\n",
            "\n",
            "\n",
            "Is queue empty?: True\n"
          ],
          "name": "stdout"
        }
      ]
    },
    {
      "cell_type": "markdown",
      "metadata": {
        "id": "kO1X9znyYDHO",
        "colab_type": "text"
      },
      "source": [
        "Attempting to remove or retrieve item when queue is empty."
      ]
    },
    {
      "cell_type": "code",
      "metadata": {
        "id": "Nx5ueqWkU9ai",
        "colab_type": "code",
        "colab": {
          "base_uri": "https://localhost:8080/",
          "height": 282
        },
        "outputId": "7e37de33-fe85-4d3e-8d78-263a40fd16c0"
      },
      "source": [
        "print(Q.dequeue())    # contents: []"
      ],
      "execution_count": null,
      "outputs": [
        {
          "output_type": "error",
          "ename": "Empty",
          "evalue": "ignored",
          "traceback": [
            "\u001b[0;31m---------------------------------------------------------------------------\u001b[0m",
            "\u001b[0;31mEmpty\u001b[0m                                     Traceback (most recent call last)",
            "\u001b[0;32m<ipython-input-33-46648b4661df>\u001b[0m in \u001b[0;36m<module>\u001b[0;34m()\u001b[0m\n\u001b[0;32m----> 1\u001b[0;31m \u001b[0mprint\u001b[0m\u001b[0;34m(\u001b[0m\u001b[0mQ\u001b[0m\u001b[0;34m.\u001b[0m\u001b[0mdequeue\u001b[0m\u001b[0;34m(\u001b[0m\u001b[0;34m)\u001b[0m\u001b[0;34m)\u001b[0m    \u001b[0;31m# contents: []\u001b[0m\u001b[0;34m\u001b[0m\u001b[0;34m\u001b[0m\u001b[0m\n\u001b[0m",
            "\u001b[0;32m<ipython-input-23-6c7afe35ef64>\u001b[0m in \u001b[0;36mdequeue\u001b[0;34m(self)\u001b[0m\n\u001b[1;32m     28\u001b[0m     Raise Empty exception if the queue is empty.\"\"\"\n\u001b[1;32m     29\u001b[0m     \u001b[0;32mif\u001b[0m \u001b[0mself\u001b[0m\u001b[0;34m.\u001b[0m\u001b[0mis_empty\u001b[0m\u001b[0;34m(\u001b[0m\u001b[0;34m)\u001b[0m\u001b[0;34m:\u001b[0m\u001b[0;34m\u001b[0m\u001b[0;34m\u001b[0m\u001b[0m\n\u001b[0;32m---> 30\u001b[0;31m       \u001b[0;32mraise\u001b[0m \u001b[0mEmpty\u001b[0m\u001b[0;34m(\u001b[0m\u001b[0;34m'Queue is empty'\u001b[0m\u001b[0;34m)\u001b[0m\u001b[0;34m\u001b[0m\u001b[0;34m\u001b[0m\u001b[0m\n\u001b[0m\u001b[1;32m     31\u001b[0m     \u001b[0manswer\u001b[0m \u001b[0;34m=\u001b[0m \u001b[0mself\u001b[0m\u001b[0;34m.\u001b[0m\u001b[0m_data\u001b[0m\u001b[0;34m[\u001b[0m\u001b[0mself\u001b[0m\u001b[0;34m.\u001b[0m\u001b[0m_front\u001b[0m\u001b[0;34m]\u001b[0m\u001b[0;34m\u001b[0m\u001b[0;34m\u001b[0m\u001b[0m\n\u001b[1;32m     32\u001b[0m     \u001b[0mself\u001b[0m\u001b[0;34m.\u001b[0m\u001b[0m_data\u001b[0m\u001b[0;34m[\u001b[0m\u001b[0mself\u001b[0m\u001b[0;34m.\u001b[0m\u001b[0m_front\u001b[0m\u001b[0;34m]\u001b[0m \u001b[0;34m=\u001b[0m \u001b[0;32mNone\u001b[0m\u001b[0;34m\u001b[0m\u001b[0;34m\u001b[0m\u001b[0m\n",
            "\u001b[0;31mEmpty\u001b[0m: Queue is empty"
          ]
        }
      ]
    },
    {
      "cell_type": "code",
      "metadata": {
        "id": "9RDytRztV9GY",
        "colab_type": "code",
        "colab": {
          "base_uri": "https://localhost:8080/",
          "height": 282
        },
        "outputId": "78e2d2e6-e631-441a-c9b4-cc4c85a0a7ac"
      },
      "source": [
        "print(Q.first())    # contents: []"
      ],
      "execution_count": null,
      "outputs": [
        {
          "output_type": "error",
          "ename": "Empty",
          "evalue": "ignored",
          "traceback": [
            "\u001b[0;31m---------------------------------------------------------------------------\u001b[0m",
            "\u001b[0;31mEmpty\u001b[0m                                     Traceback (most recent call last)",
            "\u001b[0;32m<ipython-input-34-e76fc87ab4b0>\u001b[0m in \u001b[0;36m<module>\u001b[0;34m()\u001b[0m\n\u001b[0;32m----> 1\u001b[0;31m \u001b[0mprint\u001b[0m\u001b[0;34m(\u001b[0m\u001b[0mQ\u001b[0m\u001b[0;34m.\u001b[0m\u001b[0mfirst\u001b[0m\u001b[0;34m(\u001b[0m\u001b[0;34m)\u001b[0m\u001b[0;34m)\u001b[0m    \u001b[0;31m# contents: []\u001b[0m\u001b[0;34m\u001b[0m\u001b[0;34m\u001b[0m\u001b[0m\n\u001b[0m",
            "\u001b[0;32m<ipython-input-23-6c7afe35ef64>\u001b[0m in \u001b[0;36mfirst\u001b[0;34m(self)\u001b[0m\n\u001b[1;32m     21\u001b[0m     Raise Empty exception if the queue is empty.\"\"\"\n\u001b[1;32m     22\u001b[0m     \u001b[0;32mif\u001b[0m \u001b[0mself\u001b[0m\u001b[0;34m.\u001b[0m\u001b[0mis_empty\u001b[0m\u001b[0;34m(\u001b[0m\u001b[0;34m)\u001b[0m\u001b[0;34m:\u001b[0m\u001b[0;34m\u001b[0m\u001b[0;34m\u001b[0m\u001b[0m\n\u001b[0;32m---> 23\u001b[0;31m       \u001b[0;32mraise\u001b[0m \u001b[0mEmpty\u001b[0m\u001b[0;34m(\u001b[0m\u001b[0;34m'Queue is empty'\u001b[0m\u001b[0;34m)\u001b[0m\u001b[0;34m\u001b[0m\u001b[0;34m\u001b[0m\u001b[0m\n\u001b[0m\u001b[1;32m     24\u001b[0m     \u001b[0;32mreturn\u001b[0m \u001b[0mself\u001b[0m\u001b[0;34m.\u001b[0m\u001b[0m_data\u001b[0m\u001b[0;34m[\u001b[0m\u001b[0mself\u001b[0m\u001b[0;34m.\u001b[0m\u001b[0m_front\u001b[0m\u001b[0;34m]\u001b[0m\u001b[0;34m\u001b[0m\u001b[0;34m\u001b[0m\u001b[0m\n\u001b[1;32m     25\u001b[0m \u001b[0;34m\u001b[0m\u001b[0m\n",
            "\u001b[0;31mEmpty\u001b[0m: Queue is empty"
          ]
        }
      ]
    },
    {
      "cell_type": "markdown",
      "metadata": {
        "id": "uz5GS7JbYUqi",
        "colab_type": "text"
      },
      "source": [
        "Enqueue more elements into queue, then dequeue one element."
      ]
    },
    {
      "cell_type": "code",
      "metadata": {
        "id": "KKw86oeuYUZE",
        "colab_type": "code",
        "colab": {
          "base_uri": "https://localhost:8080/",
          "height": 153
        },
        "outputId": "85173bda-902b-423e-d5e5-d7121d812362"
      },
      "source": [
        "Q.enqueue(2)         # contents = [2]\n",
        "Q.enqueue(4)         # contents = [2, 4]\n",
        "print('Retrieve front item: {}'.format(Q.first()))    # contents = [2, 4]\n",
        "Q.enqueue(6)                                        # contents = [2, 4, 6]\n",
        "print('Number of elements: {}'.format(len(Q)))      # contents = [2, 4, 6]\n",
        "print('Remove item: {}'.format(Q.dequeue()))        # contents = [4, 6]\n",
        "Q.enqueue(1)         # contents = [4, 6, 1]\n",
        "print('\\n')\n",
        "print('Queue: {}'.format(Q._data))\n",
        "print('Front index: {}'.format(Q._front))\n",
        "print('Rear index: {}'.format(Q._rear))"
      ],
      "execution_count": null,
      "outputs": [
        {
          "output_type": "stream",
          "text": [
            "Retrieve front item: 2\n",
            "Number of elements: 3\n",
            "Remove item: 2\n",
            "\n",
            "\n",
            "Queue: [None, None, None, 4, 6, 1, None, None, None, None]\n",
            "Front index: 3\n",
            "Rear index: 5\n"
          ],
          "name": "stdout"
        }
      ]
    },
    {
      "cell_type": "markdown",
      "metadata": {
        "id": "kzY1GTyAqDYE",
        "colab_type": "text"
      },
      "source": [
        "Enqueue more elements beyond the current length."
      ]
    },
    {
      "cell_type": "code",
      "metadata": {
        "id": "5nhy596bqG5j",
        "colab_type": "code",
        "colab": {
          "base_uri": "https://localhost:8080/",
          "height": 68
        },
        "outputId": "fec7b447-64c9-4e9b-ff71-533436be2aa4"
      },
      "source": [
        "Q.enqueue(5)    # contents = [4, 6, 1, 5]\n",
        "Q.enqueue(7)    # contents = [4, 6, 1, 5, 7]\n",
        "Q.enqueue(9)    # contents = [4, 6, 1, 5, 7, 9]\n",
        "Q.enqueue(11)   # contents = [4, 6, 1, 5, 7, 9, 11]\n",
        "Q.enqueue(13)   # contents = [4, 6, 1, 5, 7, 9, 11, 13]\n",
        "\n",
        "print('Queue: {}'.format(Q._data))  # 13 is added at the first element of the list\n",
        "print('Front index: {}'.format(Q._front))\n",
        "print('Rear index: {}'.format(Q._rear))"
      ],
      "execution_count": null,
      "outputs": [
        {
          "output_type": "stream",
          "text": [
            "Queue: [13, None, None, 4, 6, 1, 5, 7, 9, 11]\n",
            "Front index: 3\n",
            "Rear index: 0\n"
          ],
          "name": "stdout"
        }
      ]
    },
    {
      "cell_type": "markdown",
      "metadata": {
        "id": "3zLIgYTDqkHD",
        "colab_type": "text"
      },
      "source": [
        "Enqueue more elements until the ArrayQueue double its size and rearrange elements according to front and rear index, then re-assign front and rear index."
      ]
    },
    {
      "cell_type": "code",
      "metadata": {
        "id": "xAOzvLpDqjih",
        "colab_type": "code",
        "colab": {
          "base_uri": "https://localhost:8080/",
          "height": 68
        },
        "outputId": "aa5aebc7-3fe5-41e2-fa4c-e423894a50e1"
      },
      "source": [
        "Q.enqueue(15)   # contents = [4, 6, 1, 5, 7, 9, 11, 13, 15]\n",
        "Q.enqueue(17)   # contents = [4, 6, 1, 5, 7, 9, 11, 13, 15, 17]\n",
        "print('Queue: {}'.format(Q._data)) \n",
        "print('Front index: {}'.format(Q._front))\n",
        "print('Rear index: {}'.format(Q._rear))"
      ],
      "execution_count": null,
      "outputs": [
        {
          "output_type": "stream",
          "text": [
            "Queue: [13, 15, 17, 4, 6, 1, 5, 7, 9, 11]\n",
            "Front index: 3\n",
            "Rear index: 2\n"
          ],
          "name": "stdout"
        }
      ]
    },
    {
      "cell_type": "code",
      "metadata": {
        "id": "sizl9baUuKNT",
        "colab_type": "code",
        "colab": {
          "base_uri": "https://localhost:8080/",
          "height": 68
        },
        "outputId": "087b31ad-087c-493d-838a-2f2e2b2958f6"
      },
      "source": [
        "Q.enqueue(20)   # contents = [4, 6, 1, 5, 7, 9, 11, 13, 15, 17, 20]\n",
        "print('Queue: {}'.format(Q._data))\n",
        "print('Front index: {}'.format(Q._front))\n",
        "print('Rear index: {}'.format(Q._rear))"
      ],
      "execution_count": null,
      "outputs": [
        {
          "output_type": "stream",
          "text": [
            "Queue: [4, 6, 1, 5, 7, 9, 11, 13, 15, 17, 20, None, None, None, None, None, None, None, None, None]\n",
            "Front index: 0\n",
            "Rear index: 10\n"
          ],
          "name": "stdout"
        }
      ]
    }
  ]
}