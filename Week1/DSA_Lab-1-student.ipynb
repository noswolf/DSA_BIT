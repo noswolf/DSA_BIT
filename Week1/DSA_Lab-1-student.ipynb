{
 "cells": [
  {
   "cell_type": "markdown",
   "metadata": {},
   "source": [
    "# Lab 1: Python Crash Course\n",
    "\n",
    "Lecturer: <code>Sirasit Lochanachit</code>\n",
    "\n",
    "Course: <code>01526102 Data Sturctures and Algorithms</code>\n",
    "\n",
    "Term: <code>01/2024</code>\n",
    "\n",
    "---"
   ]
  },
  {
   "attachments": {},
   "cell_type": "markdown",
   "metadata": {},
   "source": [
    "# Lab 1-1 \n",
    "Write a Python function **is_multiple(*n*, *m*)** that accepts two integer values (*n* and *m*) and returns a result as *True* or *False*.\n",
    "- Return *True* if *n* is a multiple of *m*, that is, *n* = *m* * *i* for some integer *i*\n",
    "- Return *False* otherwise\n"
   ]
  },
  {
   "cell_type": "code",
   "execution_count": 10,
   "metadata": {},
   "outputs": [],
   "source": [
    "def is_multiple(n: int, m: int):\n",
    "    ######################\n",
    "    ## Add your code here\n",
    "    ######################\n",
    "    pass"
   ]
  },
  {
   "cell_type": "markdown",
   "metadata": {},
   "source": [
    "---"
   ]
  },
  {
   "attachments": {},
   "cell_type": "markdown",
   "metadata": {},
   "source": [
    "# Lab 1-2 \n",
    "Write a Python function **is_even(*k*)** that accepts an integer value (*k*) and returns a result as *True* or *False*.\n",
    "- Return *True* if *k* is even\n",
    "- Return *False* otherwise\n",
    "- Multiplication, modulo, or division operators are not allowed.\n"
   ]
  },
  {
   "cell_type": "code",
   "execution_count": 41,
   "metadata": {},
   "outputs": [],
   "source": [
    "def is_even(k: int):\n",
    "    ######################\n",
    "    ## Add your code here\n",
    "    ######################\n",
    "    pass"
   ]
  },
  {
   "cell_type": "markdown",
   "metadata": {},
   "source": [
    "---"
   ]
  },
  {
   "attachments": {},
   "cell_type": "markdown",
   "metadata": {},
   "source": [
    "# Lab 1-3\n",
    "Write a Python function **minmax(*data*)** that accepts a sequence of one or more numbers, and returns the smallest and largest numbers, in the form of a tuple of length two.\n",
    "- Built-in functions min() or max() are not allowed\n"
   ]
  },
  {
   "cell_type": "code",
   "execution_count": 47,
   "metadata": {},
   "outputs": [],
   "source": [
    "def minmax(data):\n",
    "    smallest = 0\n",
    "    largest = 0\n",
    "    ######################\n",
    "    ## Add your code here\n",
    "    ######################\n",
    "    return smallest, largest"
   ]
  },
  {
   "cell_type": "markdown",
   "metadata": {},
   "source": [
    "---"
   ]
  },
  {
   "cell_type": "markdown",
   "metadata": {},
   "source": []
  }
 ],
 "metadata": {
  "kernelspec": {
   "display_name": "Python 3",
   "language": "python",
   "name": "python3"
  },
  "language_info": {
   "codemirror_mode": {
    "name": "ipython",
    "version": 3
   },
   "file_extension": ".py",
   "mimetype": "text/x-python",
   "name": "python",
   "nbconvert_exporter": "python",
   "pygments_lexer": "ipython3",
   "version": "3.10.2"
  },
  "orig_nbformat": 4
 },
 "nbformat": 4,
 "nbformat_minor": 2
}
