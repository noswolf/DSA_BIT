{
  "nbformat": 4,
  "nbformat_minor": 0,
  "metadata": {
    "colab": {
      "name": "DSA_Week3.ipynb",
      "provenance": [],
      "authorship_tag": "ABX9TyOVoc/aYyXAhGQVdkLY2KtJ",
      "include_colab_link": true
    },
    "kernelspec": {
      "name": "python3",
      "display_name": "Python 3"
    }
  },
  "cells": [
    {
      "cell_type": "markdown",
      "metadata": {
        "id": "view-in-github",
        "colab_type": "text"
      },
      "source": [
        "<a href=\"https://colab.research.google.com/github/noswolf/DSA_BIT/blob/master/Week3/DSA_Week3.ipynb\" target=\"_parent\"><img src=\"https://colab.research.google.com/assets/colab-badge.svg\" alt=\"Open In Colab\"/></a>"
      ]
    },
    {
      "cell_type": "markdown",
      "metadata": {
        "id": "0wyF_X6ZS919",
        "colab_type": "text"
      },
      "source": [
        "# Implementing a stack using Python list"
      ]
    },
    {
      "cell_type": "markdown",
      "metadata": {
        "id": "k362tZvrbsDe",
        "colab_type": "text"
      },
      "source": [
        "Create ArrayStack class and its methods"
      ]
    },
    {
      "cell_type": "code",
      "metadata": {
        "id": "Mj8BC-MQSxJu",
        "colab_type": "code",
        "colab": {}
      },
      "source": [
        "class ArrayStack:\n",
        "  def __init__(self):\n",
        "    \"\"\" Create an empty stack. \"\"\"\n",
        "    self._data = []   # Initiate a nonpublic list instance\n",
        "  \n",
        "  def __len__(self):\n",
        "    \"\"\" Return the number of elements in the stack. \"\"\"\n",
        "    return len(self._data)\n",
        "  \n",
        "  def is_empty(self):\n",
        "    \"\"\" Return True if the stack is empty. \"\"\"\n",
        "    return len(self._data) == 0\n",
        "  \n",
        "  def push(self, element):\n",
        "    \"\"\" Add an element to the top of the stack. \"\"\"\n",
        "    self._data.append(element) # new item stored at end of list\n",
        "  \n",
        "  def top(self):\n",
        "    \"\"\" Return (but do not remove) the element at the top of the stack.\n",
        "    Raise an exception if the stack is empty. \"\"\"\n",
        "    if self.is_empty():\n",
        "      print('Stack is empty')\n",
        "      raise Empty('Stack is empty') # Calling subclass Empty\n",
        "    return self._data[-1] # the last item in the list\n",
        "\n",
        "  def pop(self):\n",
        "    \"\"\" Remove and return the element from the top of the stack.\n",
        "    Raise an exception if the stack is empty. \"\"\"\n",
        "    if self.is_empty():\n",
        "      print('Stack is empty')\n",
        "      raise Exception('Stack is empty') # Alternate way to call subclass Empty\n",
        "    return self._data.pop() # remove last item from the list\n"
      ],
      "execution_count": null,
      "outputs": []
    },
    {
      "cell_type": "code",
      "metadata": {
        "id": "tCpFM6rWVsSp",
        "colab_type": "code",
        "colab": {}
      },
      "source": [
        "class Empty(Exception):\n",
        "  \"\"\" Error attempting to access an element from an empty container. \"\"\"\n",
        "  pass"
      ],
      "execution_count": null,
      "outputs": []
    },
    {
      "cell_type": "markdown",
      "metadata": {
        "id": "msrmfhfnXc5n",
        "colab_type": "text"
      },
      "source": [
        "Push 2 elements into the stack."
      ]
    },
    {
      "cell_type": "code",
      "metadata": {
        "id": "4gGarUL0Uxx1",
        "colab_type": "code",
        "colab": {
          "base_uri": "https://localhost:8080/",
          "height": 34
        },
        "outputId": "c77cec4b-d035-4204-b4ae-ca0b0b8415e6"
      },
      "source": [
        "S = ArrayStack()  # contents: []\n",
        "S.push(7)         # contents: [7]\n",
        "S.push(5)         # contents: [7, 5]\n",
        "print('Number of elements: {}'.format(len(S)))     # contents: [7, 5]"
      ],
      "execution_count": null,
      "outputs": [
        {
          "output_type": "stream",
          "text": [
            "Number of elements: 2\n"
          ],
          "name": "stdout"
        }
      ]
    },
    {
      "cell_type": "markdown",
      "metadata": {
        "id": "UFD8VVpXXldf",
        "colab_type": "text"
      },
      "source": [
        "Pop elements and check whether stack is empty"
      ]
    },
    {
      "cell_type": "code",
      "metadata": {
        "id": "UJ7N6vS_Xhzb",
        "colab_type": "code",
        "colab": {
          "base_uri": "https://localhost:8080/",
          "height": 85
        },
        "outputId": "28393334-ff04-43a0-8c5c-0fd0b4aab983"
      },
      "source": [
        "print('Remove item: {}'.format(S.pop()))          # contents: [7]\n",
        "print('Is stack empty?: {}'.format(S.is_empty())) # contents: [7]\n",
        "print('Remove item: {}'.format(S.pop()))          # contents: []\n",
        "print('Is stack empty?: {}'.format(S.is_empty())) # contents: []"
      ],
      "execution_count": null,
      "outputs": [
        {
          "output_type": "stream",
          "text": [
            "Remove item: 5\n",
            "Is stack empty?: False\n",
            "Remove item: 7\n",
            "Is stack empty?: True\n"
          ],
          "name": "stdout"
        }
      ]
    },
    {
      "cell_type": "markdown",
      "metadata": {
        "id": "kO1X9znyYDHO",
        "colab_type": "text"
      },
      "source": [
        "Attempting to remove or retrieve item when stack is empty"
      ]
    },
    {
      "cell_type": "code",
      "metadata": {
        "id": "Nx5ueqWkU9ai",
        "colab_type": "code",
        "colab": {
          "base_uri": "https://localhost:8080/",
          "height": 282
        },
        "outputId": "6c686988-bc04-49fa-b083-2964f63169c6"
      },
      "source": [
        "print(S.pop())    # contents: []"
      ],
      "execution_count": null,
      "outputs": [
        {
          "output_type": "stream",
          "text": [
            "Stack is empty\n"
          ],
          "name": "stdout"
        },
        {
          "output_type": "error",
          "ename": "Exception",
          "evalue": "ignored",
          "traceback": [
            "\u001b[0;31m---------------------------------------------------------------------------\u001b[0m",
            "\u001b[0;31mException\u001b[0m                                 Traceback (most recent call last)",
            "\u001b[0;32m<ipython-input-27-56647b1a4017>\u001b[0m in \u001b[0;36m<module>\u001b[0;34m()\u001b[0m\n\u001b[0;32m----> 1\u001b[0;31m \u001b[0mprint\u001b[0m\u001b[0;34m(\u001b[0m\u001b[0mS\u001b[0m\u001b[0;34m.\u001b[0m\u001b[0mpop\u001b[0m\u001b[0;34m(\u001b[0m\u001b[0;34m)\u001b[0m\u001b[0;34m)\u001b[0m\u001b[0;34m\u001b[0m\u001b[0;34m\u001b[0m\u001b[0m\n\u001b[0m",
            "\u001b[0;32m<ipython-input-16-12d26bc5d65c>\u001b[0m in \u001b[0;36mpop\u001b[0;34m(self)\u001b[0m\n\u001b[1;32m     29\u001b[0m     \u001b[0;32mif\u001b[0m \u001b[0mself\u001b[0m\u001b[0;34m.\u001b[0m\u001b[0mis_empty\u001b[0m\u001b[0;34m(\u001b[0m\u001b[0;34m)\u001b[0m\u001b[0;34m:\u001b[0m\u001b[0;34m\u001b[0m\u001b[0;34m\u001b[0m\u001b[0m\n\u001b[1;32m     30\u001b[0m       \u001b[0mprint\u001b[0m\u001b[0;34m(\u001b[0m\u001b[0;34m'Stack is empty'\u001b[0m\u001b[0;34m)\u001b[0m\u001b[0;34m\u001b[0m\u001b[0;34m\u001b[0m\u001b[0m\n\u001b[0;32m---> 31\u001b[0;31m       \u001b[0;32mraise\u001b[0m \u001b[0mException\u001b[0m\u001b[0;34m(\u001b[0m\u001b[0;34m'Stack is empty'\u001b[0m\u001b[0;34m)\u001b[0m \u001b[0;31m# Alternate way to call subclass Empty\u001b[0m\u001b[0;34m\u001b[0m\u001b[0;34m\u001b[0m\u001b[0m\n\u001b[0m\u001b[1;32m     32\u001b[0m     \u001b[0;32mreturn\u001b[0m \u001b[0mself\u001b[0m\u001b[0;34m.\u001b[0m\u001b[0m_data\u001b[0m\u001b[0;34m.\u001b[0m\u001b[0mpop\u001b[0m\u001b[0;34m(\u001b[0m\u001b[0;34m)\u001b[0m \u001b[0;31m# remove last item from the list\u001b[0m\u001b[0;34m\u001b[0m\u001b[0;34m\u001b[0m\u001b[0m\n",
            "\u001b[0;31mException\u001b[0m: Stack is empty"
          ]
        }
      ]
    },
    {
      "cell_type": "code",
      "metadata": {
        "id": "9RDytRztV9GY",
        "colab_type": "code",
        "colab": {
          "base_uri": "https://localhost:8080/",
          "height": 299
        },
        "outputId": "facf1b86-8206-45b5-a008-7d6fb9fe347e"
      },
      "source": [
        "print(S.top())    # contents: []"
      ],
      "execution_count": null,
      "outputs": [
        {
          "output_type": "stream",
          "text": [
            "Stack is empty\n"
          ],
          "name": "stdout"
        },
        {
          "output_type": "error",
          "ename": "Empty",
          "evalue": "ignored",
          "traceback": [
            "\u001b[0;31m---------------------------------------------------------------------------\u001b[0m",
            "\u001b[0;31mEmpty\u001b[0m                                     Traceback (most recent call last)",
            "\u001b[0;32m<ipython-input-28-cecdd936ab55>\u001b[0m in \u001b[0;36m<module>\u001b[0;34m()\u001b[0m\n\u001b[0;32m----> 1\u001b[0;31m \u001b[0mprint\u001b[0m\u001b[0;34m(\u001b[0m\u001b[0mS\u001b[0m\u001b[0;34m.\u001b[0m\u001b[0mtop\u001b[0m\u001b[0;34m(\u001b[0m\u001b[0;34m)\u001b[0m\u001b[0;34m)\u001b[0m\u001b[0;34m\u001b[0m\u001b[0;34m\u001b[0m\u001b[0m\n\u001b[0m",
            "\u001b[0;32m<ipython-input-16-12d26bc5d65c>\u001b[0m in \u001b[0;36mtop\u001b[0;34m(self)\u001b[0m\n\u001b[1;32m     21\u001b[0m     \u001b[0;32mif\u001b[0m \u001b[0mself\u001b[0m\u001b[0;34m.\u001b[0m\u001b[0mis_empty\u001b[0m\u001b[0;34m(\u001b[0m\u001b[0;34m)\u001b[0m\u001b[0;34m:\u001b[0m\u001b[0;34m\u001b[0m\u001b[0;34m\u001b[0m\u001b[0m\n\u001b[1;32m     22\u001b[0m       \u001b[0mprint\u001b[0m\u001b[0;34m(\u001b[0m\u001b[0;34m'Stack is empty'\u001b[0m\u001b[0;34m)\u001b[0m\u001b[0;34m\u001b[0m\u001b[0;34m\u001b[0m\u001b[0m\n\u001b[0;32m---> 23\u001b[0;31m       \u001b[0;32mraise\u001b[0m \u001b[0mEmpty\u001b[0m\u001b[0;34m(\u001b[0m\u001b[0;34m'Stack is empty'\u001b[0m\u001b[0;34m)\u001b[0m \u001b[0;31m# Calling subclass Empty\u001b[0m\u001b[0;34m\u001b[0m\u001b[0;34m\u001b[0m\u001b[0m\n\u001b[0m\u001b[1;32m     24\u001b[0m     \u001b[0;32mreturn\u001b[0m \u001b[0mself\u001b[0m\u001b[0;34m.\u001b[0m\u001b[0m_data\u001b[0m\u001b[0;34m[\u001b[0m\u001b[0;34m-\u001b[0m\u001b[0;36m1\u001b[0m\u001b[0;34m]\u001b[0m \u001b[0;31m# the last item in the list\u001b[0m\u001b[0;34m\u001b[0m\u001b[0;34m\u001b[0m\u001b[0m\n\u001b[1;32m     25\u001b[0m \u001b[0;34m\u001b[0m\u001b[0m\n",
            "\u001b[0;31mEmpty\u001b[0m: Stack is empty"
          ]
        }
      ]
    },
    {
      "cell_type": "markdown",
      "metadata": {
        "id": "uz5GS7JbYUqi",
        "colab_type": "text"
      },
      "source": [
        "Push more elements into stack, then pop one element"
      ]
    },
    {
      "cell_type": "code",
      "metadata": {
        "id": "KKw86oeuYUZE",
        "colab_type": "code",
        "colab": {
          "base_uri": "https://localhost:8080/",
          "height": 68
        },
        "outputId": "7620fb9c-374a-4544-c92a-5e0a6fd43794"
      },
      "source": [
        "S.push(2)         # contents = [2]\n",
        "S.push(4)         # contents = [2, 4]\n",
        "print('Retrieve top item: {}'.format(S.top()))    # contents = [2, 4]\n",
        "S.push(6)                                         # contents = [2, 4, 6]\n",
        "print('Number of elements: {}'.format(len(S)))    # contents = [2, 4, 6]\n",
        "print('Remove item: {}'.format(S.pop()))          # contents = [2, 4]\n",
        "S.push(1)         # contents = [2, 4 , 1]"
      ],
      "execution_count": null,
      "outputs": [
        {
          "output_type": "stream",
          "text": [
            "Retrieve top item: 4\n",
            "Number of elements: 3\n",
            "Remove item: 6\n"
          ],
          "name": "stdout"
        }
      ]
    },
    {
      "cell_type": "markdown",
      "metadata": {
        "id": "uxu8S_gHmU0i",
        "colab_type": "text"
      },
      "source": [
        "# Balanced delimiting symbols"
      ]
    },
    {
      "cell_type": "code",
      "metadata": {
        "id": "zBrOWdTsYA-6",
        "colab_type": "code",
        "colab": {}
      },
      "source": [
        "def is_balanced(expression):\n",
        "  \"\"\" Return True if all delimiters are properly match; False otherwise.\"\"\"\n",
        "  lefty = '({['                                   # opening delimiters\n",
        "  righty = ')}]'                                  # respective closing delims\n",
        "  S = ArrayStack()\n",
        "  for char in expression:\n",
        "    if char in lefty:\n",
        "      S.push(char)                                   # push left delimiter on stack\n",
        "    elif char in righty:\n",
        "      if S.is_empty():\n",
        "        return False                              # nothing to match with\n",
        "      top = S.pop()\n",
        "      if ((top == '(' and char != ')') or \n",
        "      (top == '{' and char != '}') or\n",
        "      top == '[' and char != ']'):\n",
        "        return False                              # mismatched\n",
        "  return S.is_empty()                             # were all symbols matched?"
      ],
      "execution_count": null,
      "outputs": []
    },
    {
      "cell_type": "markdown",
      "metadata": {
        "id": "NXsIGfPOqFRx",
        "colab_type": "text"
      },
      "source": [
        "Test correct expressions"
      ]
    },
    {
      "cell_type": "code",
      "metadata": {
        "id": "DyGrm1jUqYol",
        "colab_type": "code",
        "colab": {
          "base_uri": "https://localhost:8080/",
          "height": 34
        },
        "outputId": "ce5dd3a2-4c19-4fe9-b0a8-f5a245df2652"
      },
      "source": [
        "is_balanced('([])[]()')"
      ],
      "execution_count": null,
      "outputs": [
        {
          "output_type": "execute_result",
          "data": {
            "text/plain": [
              "True"
            ]
          },
          "metadata": {
            "tags": []
          },
          "execution_count": 57
        }
      ]
    },
    {
      "cell_type": "code",
      "metadata": {
        "id": "nc2qS6xanUHU",
        "colab_type": "code",
        "colab": {
          "base_uri": "https://localhost:8080/",
          "height": 34
        },
        "outputId": "b77f9ada-9a24-4bb3-9640-33e7d753c9f4"
      },
      "source": [
        "is_balanced('()(()){([()])}')"
      ],
      "execution_count": null,
      "outputs": [
        {
          "output_type": "execute_result",
          "data": {
            "text/plain": [
              "True"
            ]
          },
          "metadata": {
            "tags": []
          },
          "execution_count": 55
        }
      ]
    },
    {
      "cell_type": "code",
      "metadata": {
        "id": "Gxd6wscXqM5w",
        "colab_type": "code",
        "colab": {
          "base_uri": "https://localhost:8080/",
          "height": 34
        },
        "outputId": "6b4784a6-f649-40d5-9126-2863fde4d3b2"
      },
      "source": [
        "is_balanced('((()(()){([()])}))')"
      ],
      "execution_count": null,
      "outputs": [
        {
          "output_type": "execute_result",
          "data": {
            "text/plain": [
              "True"
            ]
          },
          "metadata": {
            "tags": []
          },
          "execution_count": 56
        }
      ]
    },
    {
      "cell_type": "code",
      "metadata": {
        "id": "brdic_A1rbJg",
        "colab_type": "code",
        "colab": {
          "base_uri": "https://localhost:8080/",
          "height": 34
        },
        "outputId": "482aeee4-f9d9-453d-8b21-776d40da6fa6"
      },
      "source": [
        "is_balanced('[(5+x)-(y+z)]')"
      ],
      "execution_count": null,
      "outputs": [
        {
          "output_type": "execute_result",
          "data": {
            "text/plain": [
              "True"
            ]
          },
          "metadata": {
            "tags": []
          },
          "execution_count": 61
        }
      ]
    },
    {
      "cell_type": "markdown",
      "metadata": {
        "id": "osgUcSLQqf3y",
        "colab_type": "text"
      },
      "source": [
        "Test incorrect expressions"
      ]
    },
    {
      "cell_type": "code",
      "metadata": {
        "id": "DdSjE2z_qX2S",
        "colab_type": "code",
        "colab": {
          "base_uri": "https://localhost:8080/",
          "height": 34
        },
        "outputId": "1ac603c7-6497-4914-9c04-88530e320351"
      },
      "source": [
        "is_balanced('(')      # Missing closing ')'"
      ],
      "execution_count": null,
      "outputs": [
        {
          "output_type": "execute_result",
          "data": {
            "text/plain": [
              "False"
            ]
          },
          "metadata": {
            "tags": []
          },
          "execution_count": 58
        }
      ]
    },
    {
      "cell_type": "code",
      "metadata": {
        "id": "-i_9j5iJqj16",
        "colab_type": "code",
        "colab": {
          "base_uri": "https://localhost:8080/",
          "height": 34
        },
        "outputId": "631e38b9-0aec-478f-d708-9b0f8c3c8042"
      },
      "source": [
        "is_balanced('][')     # Incorrect order"
      ],
      "execution_count": null,
      "outputs": [
        {
          "output_type": "execute_result",
          "data": {
            "text/plain": [
              "False"
            ]
          },
          "metadata": {
            "tags": []
          },
          "execution_count": 59
        }
      ]
    },
    {
      "cell_type": "code",
      "metadata": {
        "id": "SigafzghqlOy",
        "colab_type": "code",
        "colab": {
          "base_uri": "https://localhost:8080/",
          "height": 34
        },
        "outputId": "a1d97268-e647-413f-e38a-0170e98e918b"
      },
      "source": [
        "is_balanced('({[])}') # Incorrect order"
      ],
      "execution_count": null,
      "outputs": [
        {
          "output_type": "execute_result",
          "data": {
            "text/plain": [
              "False"
            ]
          },
          "metadata": {
            "tags": []
          },
          "execution_count": 60
        }
      ]
    },
    {
      "cell_type": "markdown",
      "metadata": {
        "id": "woccDdvU6q46",
        "colab_type": "text"
      },
      "source": [
        "# Recursion"
      ]
    },
    {
      "cell_type": "markdown",
      "metadata": {
        "id": "xhUS1TG5LKjx",
        "colab_type": "text"
      },
      "source": [
        "## Summation"
      ]
    },
    {
      "cell_type": "code",
      "metadata": {
        "id": "aXBmlh5UMLRV",
        "colab_type": "code",
        "colab": {}
      },
      "source": [
        "def getSum(data):\n",
        "  \"\"\" Return the sum of the first n numbers of sequence data.\"\"\"\n",
        "  if len(data)==0:\n",
        "      return 0\n",
        "  else:\n",
        "      return data[0] + getSum(data[1:])"
      ],
      "execution_count": null,
      "outputs": []
    },
    {
      "cell_type": "code",
      "metadata": {
        "id": "g1RtqfRSLbZJ",
        "colab_type": "code",
        "colab": {
          "base_uri": "https://localhost:8080/",
          "height": 34
        },
        "outputId": "ae1b90e1-3e66-423b-9b62-d21dde102840"
      },
      "source": [
        "data_s = [1,2,3,4,5]\n",
        "print(getSum(data_s))"
      ],
      "execution_count": null,
      "outputs": [
        {
          "output_type": "stream",
          "text": [
            "15\n"
          ],
          "name": "stdout"
        }
      ]
    },
    {
      "cell_type": "markdown",
      "metadata": {
        "id": "cGtKZIC2OFul",
        "colab_type": "text"
      },
      "source": [
        "## Power function"
      ]
    },
    {
      "cell_type": "code",
      "metadata": {
        "id": "hv1rYKrOOFeV",
        "colab_type": "code",
        "colab": {}
      },
      "source": [
        "def getPower(base,exp):\n",
        "  \"\"\" Return the multiplciation of base with exp times. \"\"\"\n",
        "  if exp==0:\n",
        "    return 1\n",
        "  else:\n",
        "    return base*getPower(base, exp-1)"
      ],
      "execution_count": null,
      "outputs": []
    },
    {
      "cell_type": "code",
      "metadata": {
        "id": "jcN8Q0_mOhOT",
        "colab_type": "code",
        "colab": {
          "base_uri": "https://localhost:8080/",
          "height": 34
        },
        "outputId": "aa08af35-7d67-4c9a-f1b7-8922ecdc1838"
      },
      "source": [
        "print(getPower(2,10))"
      ],
      "execution_count": null,
      "outputs": [
        {
          "output_type": "stream",
          "text": [
            "1024\n"
          ],
          "name": "stdout"
        }
      ]
    },
    {
      "cell_type": "markdown",
      "metadata": {
        "id": "bjE1R8IsD7Xh",
        "colab_type": "text"
      },
      "source": [
        "## Factorial"
      ]
    },
    {
      "cell_type": "code",
      "metadata": {
        "id": "hfcEsvEy6s9z",
        "colab_type": "code",
        "colab": {}
      },
      "source": [
        "# Factorial loop version\n",
        "def factorial1(n):\n",
        "  if n == 0:\n",
        "    return 1\n",
        "  else:\n",
        "    total = 1\n",
        "    for num in range(2,n+1):\n",
        "      total *= num\n",
        "    return total"
      ],
      "execution_count": null,
      "outputs": []
    },
    {
      "cell_type": "code",
      "metadata": {
        "id": "B-MxVczY671V",
        "colab_type": "code",
        "colab": {
          "base_uri": "https://localhost:8080/",
          "height": 102
        },
        "outputId": "1752d08b-d240-41cb-f725-24a6f1cf7c58"
      },
      "source": [
        "print(factorial1(5))\n",
        "print(factorial1(4))\n",
        "print(factorial1(3))\n",
        "print(factorial1(2))\n",
        "print(factorial1(1))"
      ],
      "execution_count": null,
      "outputs": [
        {
          "output_type": "stream",
          "text": [
            "120\n",
            "24\n",
            "6\n",
            "2\n",
            "1\n"
          ],
          "name": "stdout"
        }
      ]
    },
    {
      "cell_type": "code",
      "metadata": {
        "id": "8nqVzcV56slo",
        "colab_type": "code",
        "colab": {}
      },
      "source": [
        "# Factorial recursive version\n",
        "def factorial2(n):\n",
        "  if n == 0:\n",
        "    return 1\n",
        "  else:\n",
        "    return n*factorial2(n-1)"
      ],
      "execution_count": null,
      "outputs": []
    },
    {
      "cell_type": "code",
      "metadata": {
        "id": "lBD5KF1W67FI",
        "colab_type": "code",
        "colab": {
          "base_uri": "https://localhost:8080/",
          "height": 102
        },
        "outputId": "311dc21e-3036-4ace-8c45-d6ed46bf471c"
      },
      "source": [
        "print(factorial2(5))\n",
        "print(factorial2(4))\n",
        "print(factorial2(3))\n",
        "print(factorial2(2))\n",
        "print(factorial2(1))"
      ],
      "execution_count": null,
      "outputs": [
        {
          "output_type": "stream",
          "text": [
            "120\n",
            "24\n",
            "6\n",
            "2\n",
            "1\n"
          ],
          "name": "stdout"
        }
      ]
    },
    {
      "cell_type": "markdown",
      "metadata": {
        "id": "gmhL-nhkD889",
        "colab_type": "text"
      },
      "source": [
        "## Binary Search"
      ]
    },
    {
      "cell_type": "code",
      "metadata": {
        "id": "KORsVGTHH9jW",
        "colab_type": "code",
        "colab": {}
      },
      "source": [
        "# Non-recursive version\n",
        "def binary_search_iterative(data, target):\n",
        "  \"\"\" Return True if target is found in the given Python list.\"\"\"\n",
        "  low = 0\n",
        "  high = len(data)-1\n",
        "  while low <= high:\n",
        "    mid = (low + high) // 2\n",
        "    if target == data[mid]:\n",
        "      return True\n",
        "    elif target < data[mid]:\n",
        "      # only consider the left portion left of the middle\n",
        "      high = mid - 1\n",
        "    else:\n",
        "      # only consider the right portion of the middle\n",
        "      low = mid + 1\n",
        "  return False\n"
      ],
      "execution_count": null,
      "outputs": []
    },
    {
      "cell_type": "code",
      "metadata": {
        "id": "S9XWH0R_6_UY",
        "colab_type": "code",
        "colab": {}
      },
      "source": [
        "# Recursive version\n",
        "def binary_search(data, target, low, high):\n",
        "  \"\"\" Return True if target is found in indicated portion of a Python list.\n",
        "\n",
        "  The search only considers the portion from data[low] to data[high] inclusive. \n",
        "  :param data: input sequence\n",
        "  :param target: value to find\n",
        "  :param low: lower bound of sequence's index\n",
        "  :param high: upper bound of sequence's index\n",
        "  \"\"\"\n",
        "  if low > high:\n",
        "    return False      # interval is empty; no match\n",
        "  else:\n",
        "    mid = (low + high) // 2   # divide without remaining decimals\n",
        "    if target == data[mid]:\n",
        "      return True\n",
        "    elif target < data[mid]:\n",
        "      # recur on the left portion of the middle\n",
        "      return binary_search(data, target, low, mid-1)\n",
        "    else:\n",
        "      # recur on the right portion of the middle\n",
        "      return binary_search(data, target, mid+1, high)\n"
      ],
      "execution_count": null,
      "outputs": []
    },
    {
      "cell_type": "code",
      "metadata": {
        "id": "RQC13o0eEouQ",
        "colab_type": "code",
        "colab": {
          "base_uri": "https://localhost:8080/",
          "height": 34
        },
        "outputId": "4c5c9963-be2f-4bec-fbec-8a18ea898c60"
      },
      "source": [
        "data = [1,4,8,10,20,30,50,90,100]\n",
        "target = 20\n",
        "\n",
        "print(binary_search(data, target, 0, len(data)-1))"
      ],
      "execution_count": null,
      "outputs": [
        {
          "output_type": "stream",
          "text": [
            "True\n"
          ],
          "name": "stdout"
        }
      ]
    },
    {
      "cell_type": "code",
      "metadata": {
        "id": "DG7HiIiCFTE2",
        "colab_type": "code",
        "colab": {
          "base_uri": "https://localhost:8080/",
          "height": 34
        },
        "outputId": "38e03e04-ddc3-451c-b849-f2ce5d12b02c"
      },
      "source": [
        "target = 89\n",
        "print(binary_search(data, target, 0, len(data)-1))"
      ],
      "execution_count": null,
      "outputs": [
        {
          "output_type": "stream",
          "text": [
            "False\n"
          ],
          "name": "stdout"
        }
      ]
    },
    {
      "cell_type": "markdown",
      "metadata": {
        "id": "y58TbHpZr4TC",
        "colab_type": "text"
      },
      "source": [
        "# Tower of Hanoi"
      ]
    },
    {
      "cell_type": "code",
      "metadata": {
        "id": "IkLfchB6FY-c",
        "colab_type": "code",
        "colab": {}
      },
      "source": [
        "def move(n, source, auxiliary, target):\n",
        "    if n > 0:\n",
        "        # Move n - 1 disks from source to auxiliary, so they are out of the way\n",
        "        move(n - 1, source, target, auxiliary)\n",
        "\n",
        "        # Move the nth disk from source to target\n",
        "        target.append(source.pop())\n",
        "\n",
        "        # Display our progress \n",
        "        print(\"[A]: {}\".format(A), \"[B]: {}\".format(B), \"[C]: {}\".format(C), '##############', sep='\\n')\n",
        "\n",
        "        # Move the n - 1 disks that we left on auxiliary onto target\n",
        "        move(n - 1, auxiliary, source, target)\n"
      ],
      "execution_count": null,
      "outputs": []
    },
    {
      "cell_type": "code",
      "metadata": {
        "id": "sJPxL8eVr3pc",
        "colab_type": "code",
        "colab": {
          "base_uri": "https://localhost:8080/",
          "height": 493
        },
        "outputId": "e9725db4-f16b-4d60-aa63-178cc8136ae8"
      },
      "source": [
        "A = [3, 2, 1]\n",
        "B = []\n",
        "C = []\n",
        "# Initiate call from source A to target C with auxiliary B\n",
        "move(3, A, B, C)"
      ],
      "execution_count": null,
      "outputs": [
        {
          "output_type": "stream",
          "text": [
            "[A]: [3, 2]\n",
            "[B]: []\n",
            "[C]: [1]\n",
            "##############\n",
            "[A]: [3]\n",
            "[B]: [2]\n",
            "[C]: [1]\n",
            "##############\n",
            "[A]: [3]\n",
            "[B]: [2, 1]\n",
            "[C]: []\n",
            "##############\n",
            "[A]: []\n",
            "[B]: [2, 1]\n",
            "[C]: [3]\n",
            "##############\n",
            "[A]: [1]\n",
            "[B]: [2]\n",
            "[C]: [3]\n",
            "##############\n",
            "[A]: [1]\n",
            "[B]: []\n",
            "[C]: [3, 2]\n",
            "##############\n",
            "[A]: []\n",
            "[B]: []\n",
            "[C]: [3, 2, 1]\n",
            "##############\n"
          ],
          "name": "stdout"
        }
      ]
    }
  ]
}