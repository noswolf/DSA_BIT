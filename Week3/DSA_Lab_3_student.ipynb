{
  "nbformat": 4,
  "nbformat_minor": 0,
  "metadata": {
    "colab": {
      "provenance": []
    },
    "kernelspec": {
      "name": "python3",
      "display_name": "Python 3"
    },
    "language_info": {
      "name": "python"
    }
  },
  "cells": [
    {
      "cell_type": "markdown",
      "source": [
        "# Lab 3: OOP Revision and Arrays"
      ],
      "metadata": {
        "id": "c0wjI87ZaG4r"
      }
    },
    {
      "cell_type": "markdown",
      "source": [
        "Instructor: Sirasit Lochanachit\n",
        "\n",
        "Course: 01526102 Data Sturctures and Algorithms"
      ],
      "metadata": {
        "id": "T9XQ87WvaNWW"
      }
    },
    {
      "cell_type": "markdown",
      "source": [
        "# Required Libraries"
      ],
      "metadata": {
        "id": "yyk1qw1ZaTSm"
      }
    },
    {
      "cell_type": "code",
      "execution_count": null,
      "metadata": {
        "id": "-Wtbh5U6Z4Sb"
      },
      "outputs": [],
      "source": [
        "import numpy as np\n",
        "import timeit\n",
        "import matplotlib.pyplot as plt"
      ]
    },
    {
      "cell_type": "markdown",
      "source": [
        "# Basic OOP"
      ],
      "metadata": {
        "id": "XeoWM2HyaYUr"
      }
    },
    {
      "cell_type": "markdown",
      "source": [
        "## Define a Class\n",
        "\n"
      ],
      "metadata": {
        "id": "ZcMivTkLap1U"
      }
    },
    {
      "cell_type": "code",
      "source": [
        "class Foo:\n",
        "  pass"
      ],
      "metadata": {
        "id": "kY7RT83QaWre"
      },
      "execution_count": null,
      "outputs": []
    },
    {
      "cell_type": "code",
      "source": [
        "type(Foo)"
      ],
      "metadata": {
        "id": "ryXE3ksWaXkp"
      },
      "execution_count": null,
      "outputs": []
    },
    {
      "cell_type": "code",
      "source": [
        "type(1)"
      ],
      "metadata": {
        "id": "yr71NaDraySt"
      },
      "execution_count": null,
      "outputs": []
    },
    {
      "cell_type": "code",
      "source": [
        "type(Foo())"
      ],
      "metadata": {
        "id": "Fgb5M2QYay7o"
      },
      "execution_count": null,
      "outputs": []
    },
    {
      "cell_type": "code",
      "source": [
        "__name__ # name of the current \"module\" (for this notebook)"
      ],
      "metadata": {
        "id": "cN1EhAy1a062"
      },
      "execution_count": null,
      "outputs": []
    },
    {
      "cell_type": "markdown",
      "source": [
        "Can you find Foo() in this global variables and symbols list of the current module/program?"
      ],
      "metadata": {
        "id": "KBbbRBSYa5Qb"
      }
    },
    {
      "cell_type": "code",
      "source": [
        "globals().keys() # symbol table of the current module"
      ],
      "metadata": {
        "id": "zjj7U3IMa1hh"
      },
      "execution_count": null,
      "outputs": []
    },
    {
      "cell_type": "code",
      "source": [
        "Foo()"
      ],
      "metadata": {
        "id": "H08GRj9nbNKq"
      },
      "execution_count": null,
      "outputs": []
    },
    {
      "cell_type": "markdown",
      "source": [
        "## Create an Instance of a class"
      ],
      "metadata": {
        "id": "odRr32dDa3YA"
      }
    },
    {
      "cell_type": "code",
      "source": [
        "f = Foo()"
      ],
      "metadata": {
        "id": "aVJcswwibPfV"
      },
      "execution_count": null,
      "outputs": []
    },
    {
      "cell_type": "code",
      "source": [
        "f.x = 100\n",
        "f.y = 50\n",
        "f.x + f.y"
      ],
      "metadata": {
        "id": "fHQGcmqGbP_L"
      },
      "execution_count": null,
      "outputs": []
    },
    {
      "cell_type": "code",
      "source": [
        "g = Foo()"
      ],
      "metadata": {
        "id": "x0KEQ-iqbRuw"
      },
      "execution_count": null,
      "outputs": []
    },
    {
      "cell_type": "code",
      "source": [
        "g.x"
      ],
      "metadata": {
        "id": "zFrsD7vIbSSl"
      },
      "execution_count": null,
      "outputs": []
    },
    {
      "cell_type": "markdown",
      "source": [
        "We defined `x` & `y` variables for `f` instance only"
      ],
      "metadata": {
        "id": "rxVGJReTbUL_"
      }
    },
    {
      "cell_type": "markdown",
      "source": [
        "## Instance namespace"
      ],
      "metadata": {
        "id": "UOfYT7iqbkmp"
      }
    },
    {
      "cell_type": "markdown",
      "source": [
        "Attributes/Data that are shared by all instances of a class"
      ],
      "metadata": {
        "id": "FnpPPGPqblpH"
      }
    },
    {
      "cell_type": "code",
      "source": [
        "class Foo:\n",
        "  bar = 100"
      ],
      "metadata": {
        "id": "vf_j4VOSbaRn"
      },
      "execution_count": null,
      "outputs": []
    },
    {
      "cell_type": "code",
      "source": [
        "Foo.bar"
      ],
      "metadata": {
        "id": "tcrsNjOubnEl"
      },
      "execution_count": null,
      "outputs": []
    },
    {
      "cell_type": "code",
      "source": [
        "f = Foo()\n",
        "f.bar"
      ],
      "metadata": {
        "id": "ei8Qu5Z9bn9m"
      },
      "execution_count": null,
      "outputs": []
    },
    {
      "cell_type": "code",
      "source": [
        "Foo.bar = 50\n",
        "f.bar"
      ],
      "metadata": {
        "id": "9NvR-xj2bpf1"
      },
      "execution_count": null,
      "outputs": []
    },
    {
      "cell_type": "code",
      "source": [
        "g = Foo()\n",
        "g.bar"
      ],
      "metadata": {
        "id": "tpfU4mvAbqCb"
      },
      "execution_count": null,
      "outputs": []
    },
    {
      "cell_type": "markdown",
      "source": [
        "Currently,\n",
        "\n",
        "Foo.bar = 50\n",
        "\n",
        "f.bar = 50\n",
        "\n",
        "g.bar = 50"
      ],
      "metadata": {
        "id": "PNaZO2-nbq5E"
      }
    },
    {
      "cell_type": "code",
      "source": [
        "f.bar = 20\n",
        "g.bar = 30"
      ],
      "metadata": {
        "id": "UgCYdbOmbrsT"
      },
      "execution_count": null,
      "outputs": []
    },
    {
      "cell_type": "code",
      "source": [
        "f.bar, g.bar, Foo.bar"
      ],
      "metadata": {
        "id": "9vm7lBOubu1l"
      },
      "execution_count": null,
      "outputs": []
    },
    {
      "cell_type": "markdown",
      "source": [
        "## Class Namespace"
      ],
      "metadata": {
        "id": "Wkah2fx1bvsd"
      }
    },
    {
      "cell_type": "markdown",
      "source": [
        "Method that are shared by all instances of a class"
      ],
      "metadata": {
        "id": "iFR9_3K8bwrA"
      }
    },
    {
      "cell_type": "code",
      "source": [
        "class Foo:\n",
        "    def bar():\n",
        "        print('Bar called')"
      ],
      "metadata": {
        "id": "TC0EsoChbxNz"
      },
      "execution_count": null,
      "outputs": []
    },
    {
      "cell_type": "code",
      "source": [
        "type(Foo.bar)"
      ],
      "metadata": {
        "id": "CM9Dl0CTbxxF"
      },
      "execution_count": null,
      "outputs": []
    },
    {
      "cell_type": "code",
      "source": [
        "f = Foo()"
      ],
      "metadata": {
        "id": "oXTiu70ZbyOx"
      },
      "execution_count": null,
      "outputs": []
    },
    {
      "cell_type": "code",
      "source": [
        "type(f.bar)"
      ],
      "metadata": {
        "id": "04QOkfQTbyyt"
      },
      "execution_count": null,
      "outputs": []
    },
    {
      "cell_type": "code",
      "source": [
        "Foo.bar()"
      ],
      "metadata": {
        "id": "eHj46eWmbzgk"
      },
      "execution_count": null,
      "outputs": []
    },
    {
      "cell_type": "markdown",
      "source": [
        "A method expect at least 1 argument"
      ],
      "metadata": {
        "id": "YCQm_uSeb9BX"
      }
    },
    {
      "cell_type": "code",
      "source": [
        "f.bar()"
      ],
      "metadata": {
        "id": "draYjuhlb0UL"
      },
      "execution_count": null,
      "outputs": []
    },
    {
      "cell_type": "code",
      "source": [
        "class Foo:\n",
        "    def bar(x):\n",
        "        print('Bar called with', x)"
      ],
      "metadata": {
        "id": "jvQoXPohb4EQ"
      },
      "execution_count": null,
      "outputs": []
    },
    {
      "cell_type": "code",
      "source": [
        "Foo.bar()"
      ],
      "metadata": {
        "id": "0HR-6yDWb4p2"
      },
      "execution_count": null,
      "outputs": []
    },
    {
      "cell_type": "code",
      "source": [
        "f = Foo()\n",
        "f.bar()"
      ],
      "metadata": {
        "id": "ngeI7wAdb5bm"
      },
      "execution_count": null,
      "outputs": []
    },
    {
      "cell_type": "markdown",
      "source": [
        "When a method is called, a special parameter (`self`) identify the particular instance upon which a member is invoked."
      ],
      "metadata": {
        "id": "L6QaIvumcqNj"
      }
    },
    {
      "cell_type": "code",
      "source": [
        "class Foo:\n",
        "    def bar(self):\n",
        "        self.x = 'Some value'"
      ],
      "metadata": {
        "id": "EUliI-Ogb6MK"
      },
      "execution_count": null,
      "outputs": []
    },
    {
      "cell_type": "markdown",
      "source": [
        "## Abstract Base Class"
      ],
      "metadata": {
        "id": "A9-nJHXMctAe"
      }
    },
    {
      "cell_type": "code",
      "source": [
        "class Shape:\n",
        "    def __init__(self, name):\n",
        "        self.name = name\n",
        "\n",
        "    def __repr__(self):\n",
        "        return self.name\n",
        "\n",
        "    def __str__(self):\n",
        "        return self.name.upper() #uppercase\n",
        "\n",
        "    def area(self):\n",
        "        raise NotImplementedError()"
      ],
      "metadata": {
        "id": "TTkOFQpzctUv"
      },
      "execution_count": null,
      "outputs": []
    },
    {
      "cell_type": "markdown",
      "source": [
        "Create an instance of the Shape class by calling `__init__` method that serves as the **constructor** of the class\n",
        "\n",
        "`__init__` method establish the state of a newly created shape object with instance variables (in this case, `name` variable)\n",
        "\n"
      ],
      "metadata": {
        "id": "EwTe0Z4cc0wH"
      }
    },
    {
      "cell_type": "code",
      "source": [
        "s = Shape('circle')"
      ],
      "metadata": {
        "id": "1soDmCAqcvRX"
      },
      "execution_count": null,
      "outputs": []
    },
    {
      "cell_type": "code",
      "source": [
        "s"
      ],
      "metadata": {
        "id": "BLzRQZp6cv65"
      },
      "execution_count": null,
      "outputs": []
    },
    {
      "cell_type": "code",
      "source": [
        "s.name"
      ],
      "metadata": {
        "id": "u0ai-SkrcwtU"
      },
      "execution_count": null,
      "outputs": []
    },
    {
      "cell_type": "code",
      "source": [
        "str(s)"
      ],
      "metadata": {
        "id": "XAz-LgrAdS-t"
      },
      "execution_count": null,
      "outputs": []
    },
    {
      "cell_type": "code",
      "source": [
        "s.area()"
      ],
      "metadata": {
        "id": "xXdxcEZXdTnr"
      },
      "execution_count": null,
      "outputs": []
    },
    {
      "cell_type": "markdown",
      "source": [
        "## Inheritance"
      ],
      "metadata": {
        "id": "On6ECoVsdUpg"
      }
    },
    {
      "cell_type": "code",
      "source": [
        "class Circle(Shape):\n",
        "    def __init__(self, radius):\n",
        "        super().__init__('circle')\n",
        "        self.radius = radius\n",
        "\n",
        "    def area(self):\n",
        "        return 3.14 * self.radius ** 2"
      ],
      "metadata": {
        "id": "ccGR1c4NdVRr"
      },
      "execution_count": null,
      "outputs": []
    },
    {
      "cell_type": "code",
      "source": [
        "c = Circle(5.0)\n",
        "c"
      ],
      "metadata": {
        "id": "HV0IVbRXdV-9"
      },
      "execution_count": null,
      "outputs": []
    },
    {
      "cell_type": "code",
      "source": [
        "c.name"
      ],
      "metadata": {
        "id": "WzI9yBcGdWqx"
      },
      "execution_count": null,
      "outputs": []
    },
    {
      "cell_type": "code",
      "source": [
        "c.area()"
      ],
      "metadata": {
        "id": "XuKEuJT6dXET"
      },
      "execution_count": null,
      "outputs": []
    },
    {
      "cell_type": "markdown",
      "source": [
        "# Lab 3-1"
      ],
      "metadata": {
        "id": "RxW77__OdZny"
      }
    },
    {
      "cell_type": "markdown",
      "source": [
        "Given an empty list `data = []`, record the **average** running time of insert(k, 20) in seconds with three different inserting patterns for each of the `N` calls:\n",
        "\n",
        "*   Repeatedly insert at the beginning of a list\n",
        "*   Repeatedly insert near the middle of a list\n",
        "*   Repeatedly insert at the end of the list\n",
        "\n",
        "**This could run very long, so brace yourself**\n"
      ],
      "metadata": {
        "id": "ADFbjDmqkUjv"
      }
    },
    {
      "cell_type": "code",
      "source": [
        "# Beginning of a list\n",
        "data = []\n",
        "# Your code here"
      ],
      "metadata": {
        "id": "zyVwnqDlda0f"
      },
      "execution_count": null,
      "outputs": []
    },
    {
      "cell_type": "code",
      "source": [
        "# Middle of a list\n",
        "data = []\n",
        "# Your code here"
      ],
      "metadata": {
        "id": "n0NULyZrsUOI"
      },
      "execution_count": null,
      "outputs": []
    },
    {
      "cell_type": "code",
      "source": [
        "# End of the list\n",
        "data = []\n",
        "# Your code here"
      ],
      "metadata": {
        "id": "uCWS31QSsYU-"
      },
      "execution_count": null,
      "outputs": []
    },
    {
      "cell_type": "markdown",
      "source": [
        "### Edit table and fill your answer here\n",
        "\n",
        "| Patterns / N    | 10 | 20 | 50 | 100 | 200|\n",
        "| ----------- | ----------- | ----------- | ----------- | ----------- | ----------- |\n",
        "|  Beginning of a list    |   -    | -|- | -|- |\n",
        "| Middle of a list  |   -     |  -|- | -|- |\n",
        "| End of a list | - |  -|- | -|- |"
      ],
      "metadata": {
        "id": "c9DKpsQokwhL"
      }
    },
    {
      "cell_type": "markdown",
      "source": [
        "### 3-1.1 What do you learn from this result? Discuss amongst your friends and give the conclusion to a TA"
      ],
      "metadata": {
        "id": "7NIjb0RfyUCR"
      }
    },
    {
      "cell_type": "markdown",
      "source": [
        "For your notes"
      ],
      "metadata": {
        "id": "5gIrDSQNylp_"
      }
    },
    {
      "cell_type": "markdown",
      "source": [
        "# Lab 3-2"
      ],
      "metadata": {
        "id": "KG-6bwnxdbU3"
      }
    },
    {
      "cell_type": "markdown",
      "source": [
        "Given an incomplete implementation of a Dynamic Array using NumPy library\n",
        "\n",
        "This array will have a fixed initial size of 1, but as elements are added to the list it may become necessary to create a new, larger backing array and copy our elements over. Each time we create a new backing array, we will double the capacity of the original."
      ],
      "metadata": {
        "id": "NmULfZR-doS7"
      }
    },
    {
      "cell_type": "markdown",
      "source": [
        "Your task is to implement the `append()` method\n",
        "* It should check first whether the current array is full of elements\n",
        "  * If yes, then create a new array with a double capacity\n",
        "    * Use np.empty(x, dtpe=object) to create a new array where x is equals to length of an array\n",
        "    * Copy elements from old array to new array\n",
        "    * Reassign `self.data` to a new array\n",
        "  * Append the value\n",
        "  * Increase the size counter by 1"
      ],
      "metadata": {
        "id": "R2hlmmoWeC3y"
      }
    },
    {
      "cell_type": "code",
      "source": [
        "import numpy as np\n",
        "\n",
        "class ArrayList:\n",
        "    def __init__(self):\n",
        "        self.data = np.empty(1, dtype=object)\n",
        "        self.size = 0\n",
        "\n",
        "\n",
        "    def append(self, value):\n",
        "        ##################\n",
        "        # Your code here\n",
        "        ##################\n",
        "\n",
        "    def __getitem__(self, idx):\n",
        "        \"\"\"Implements `x = self[idx]`\"\"\"\n",
        "        assert isinstance(idx, int), 'Index must be an integer'\n",
        "        if idx < 0:\n",
        "            idx += self.size\n",
        "        if idx < 0 or idx >= self.size:\n",
        "            raise IndexError('list index out of range')\n",
        "        return self.data[idx]\n",
        "\n",
        "\n",
        "    def __setitem__(self, idx, value):\n",
        "        \"\"\"Implements `self[idx] = x`\"\"\"\n",
        "        assert isinstance(idx, int), 'Index must be an integer'\n",
        "        if idx < 0:\n",
        "            idx += self.size\n",
        "        if idx < 0 or idx >= self.size:\n",
        "            raise IndexError('list index out of range')\n",
        "        self.data[idx] = value\n",
        "\n",
        "\n",
        "    def __delitem__(self, idx):\n",
        "        \"\"\"Implements `del self[idx]`\"\"\"\n",
        "        assert isinstance(idx, int), 'Index must be an integer'\n",
        "        if idx < 0:\n",
        "            idx += self.size\n",
        "        if idx < 0 or idx >= self.size:\n",
        "            raise IndexError('list index out of range')\n",
        "        for i in range(idx, self.size-1):\n",
        "            self.data[i] = self.data[i+1]\n",
        "        self.size -= 1\n",
        "\n",
        "\n",
        "    def __len__(self):\n",
        "        \"\"\"Implements `len(self)`\"\"\"\n",
        "        return self.size\n",
        "\n",
        "\n",
        "    def __repr__(self):\n",
        "        \"\"\"Supports inspection\"\"\"\n",
        "        return '[' + ','.join(repr(self.data[i]) for i in range(self.size)) + ']'"
      ],
      "metadata": {
        "id": "W_HBjT3LdcDf"
      },
      "execution_count": null,
      "outputs": []
    },
    {
      "cell_type": "markdown",
      "source": [
        "### 3-2.1 Test your code by executing the following commands:"
      ],
      "metadata": {
        "id": "N0Hq_VVB18aW"
      }
    },
    {
      "cell_type": "code",
      "source": [
        "l1 = ArrayList()\n",
        "for x in range(10):\n",
        "    l1.append(x, doubling=True)\n",
        "    print(l1.data)\n"
      ],
      "metadata": {
        "colab": {
          "base_uri": "https://localhost:8080/"
        },
        "id": "eMfi_DCf2AzH",
        "outputId": "3b6b7f29-a091-40c2-f4dd-ae0efbdd38e0"
      },
      "execution_count": null,
      "outputs": [
        {
          "output_type": "stream",
          "name": "stdout",
          "text": [
            "[0]\n",
            "[0 1]\n",
            "[0 1 2 None]\n",
            "[0 1 2 3]\n",
            "[0 1 2 3 4 None None None]\n",
            "[0 1 2 3 4 5 None None]\n",
            "[0 1 2 3 4 5 6 None]\n",
            "[0 1 2 3 4 5 6 7]\n",
            "[0 1 2 3 4 5 6 7 8 None None None None None None None]\n",
            "[0 1 2 3 4 5 6 7 8 9 None None None None None None]\n"
          ]
        }
      ]
    },
    {
      "cell_type": "markdown",
      "source": [
        "# Lab 3-3"
      ],
      "metadata": {
        "id": "IS3q1ia6dcfX"
      }
    },
    {
      "cell_type": "markdown",
      "source": [
        "## Part 1"
      ],
      "metadata": {
        "id": "YzXT0f0Q5H4x"
      }
    },
    {
      "cell_type": "markdown",
      "source": [
        "Re-write append() method so that it accepts one more argument `doubling` which can only accept True or False\n",
        "\n",
        "If `doubling` is True, incrase an array size by double\n",
        "\n",
        "If `doubling` is False, increse an array size by 1000\n"
      ],
      "metadata": {
        "id": "8IN5HHUJoLdq"
      }
    },
    {
      "cell_type": "code",
      "source": [
        "import numpy as np\n",
        "\n",
        "class ArrayList:\n",
        "    def __init__(self):\n",
        "        self.data = np.empty(1, dtype=object)\n",
        "        self.size = 0\n",
        "\n",
        "\n",
        "    def append(self, value, doubling=True):\n",
        "        ##################\n",
        "        # Your code here\n",
        "        ##################"
      ],
      "metadata": {
        "id": "ByWU_awuddhn"
      },
      "execution_count": null,
      "outputs": []
    },
    {
      "cell_type": "markdown",
      "source": [
        "Test your code by executing the following commands:"
      ],
      "metadata": {
        "id": "OJsEigC92INn"
      }
    },
    {
      "cell_type": "code",
      "source": [
        "l1 = ArrayList()\n",
        "for x in range(10):\n",
        "    l1.append(x, doubling=True)\n",
        "    print(l1.data)\n",
        "\n"
      ],
      "metadata": {
        "id": "fZGs8VK72F6a"
      },
      "execution_count": null,
      "outputs": []
    },
    {
      "cell_type": "code",
      "source": [
        "l2 = ArrayList()\n",
        "for x in range(10):\n",
        "    l2.append(x, doubling=False)\n",
        "    print(l2.data)\n"
      ],
      "metadata": {
        "colab": {
          "base_uri": "https://localhost:8080/"
        },
        "id": "asSOygSv2Sg2",
        "outputId": "bcbd76be-a9b0-4bd0-e856-9568dc7eb377"
      },
      "execution_count": null,
      "outputs": [
        {
          "output_type": "stream",
          "name": "stdout",
          "text": [
            "[0]\n",
            "[0 1 None ... None None None]\n",
            "[0 1 2 ... None None None]\n",
            "[0 1 2 ... None None None]\n",
            "[0 1 2 ... None None None]\n",
            "[0 1 2 ... None None None]\n",
            "[0 1 2 ... None None None]\n",
            "[0 1 2 ... None None None]\n",
            "[0 1 2 ... None None None]\n",
            "[0 1 2 ... None None None]\n"
          ]
        }
      ]
    },
    {
      "cell_type": "markdown",
      "source": [
        "## Part 2"
      ],
      "metadata": {
        "id": "GvoxQcTD5JwO"
      }
    },
    {
      "cell_type": "markdown",
      "source": [
        "Given input size (n) that grows from 100 to 10,000"
      ],
      "metadata": {
        "id": "OrmorNClpqPA"
      }
    },
    {
      "cell_type": "code",
      "source": [
        "ns = np.linspace(10, 10000, 50, dtype=int)"
      ],
      "metadata": {
        "id": "Vk_8IvJUp1sm"
      },
      "execution_count": null,
      "outputs": []
    },
    {
      "cell_type": "markdown",
      "source": [
        "### 3-3.1 What is the runtime behaviour of append method with a double capacity when an array is full? Plot the graph to answer this.\n",
        "* Each test of `n` should execute 10 rounds"
      ],
      "metadata": {
        "id": "1wf7mLRxotFu"
      }
    },
    {
      "cell_type": "code",
      "source": [
        "##################\n",
        "# Your code here\n",
        "##################"
      ],
      "metadata": {
        "id": "Klci_GNtqO0g"
      },
      "execution_count": null,
      "outputs": []
    },
    {
      "cell_type": "markdown",
      "source": [
        "### 3-3.2 What is the runtime behaviour of append method with a fixed increase capacity of 100 when an array is full? Plot the graph to answer this.\n",
        "* Each test of `n` should execute 10 rounds"
      ],
      "metadata": {
        "id": "fIwfVpCSpSrB"
      }
    },
    {
      "cell_type": "code",
      "source": [
        "##################\n",
        "# Your code here\n",
        "##################"
      ],
      "metadata": {
        "id": "0Z3zjmoEqP3I"
      },
      "execution_count": null,
      "outputs": []
    },
    {
      "cell_type": "markdown",
      "source": [
        "### 3-3.3 Combine both plot to compare running time\n",
        "\n",
        "*   Your plot should include x and y label and a title and a legend\n",
        "\n"
      ],
      "metadata": {
        "id": "ApCnqka6pb7z"
      }
    },
    {
      "cell_type": "code",
      "source": [
        "##################\n",
        "# Your code here\n",
        "##################"
      ],
      "metadata": {
        "id": "ByU_xKKp1Nhu"
      },
      "execution_count": null,
      "outputs": []
    },
    {
      "cell_type": "markdown",
      "source": [
        "### 3-3.4 Why growing a new array by a constant amount has a slower runtime than by a double capacity? Discuss amongst your friends and give your conclusion to the TA"
      ],
      "metadata": {
        "id": "L3_Af7zbyp2I"
      }
    },
    {
      "cell_type": "markdown",
      "source": [
        "For your notes"
      ],
      "metadata": {
        "id": "im1U-K2HzwR8"
      }
    }
  ]
}