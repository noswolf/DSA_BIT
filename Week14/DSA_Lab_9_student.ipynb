{
 "cells": [
  {
   "cell_type": "markdown",
   "metadata": {},
   "source": [
    "# Lab 9: Greedy Algorithms"
   ]
  },
  {
   "cell_type": "markdown",
   "metadata": {},
   "source": [
    "Instructor: Sirasit Lochanachit\n",
    "\n",
    "Course: 01526102 Data Sturctures and Algorithms"
   ]
  },
  {
   "cell_type": "markdown",
   "metadata": {},
   "source": [
    "# Coin Exchange Algorithm - A bruteforce approach to find a global optimal solution"
   ]
  },
  {
   "cell_type": "markdown",
   "metadata": {},
   "source": [
    "Exchange for a value of 13, given a coin list of 10, 5, 2, and 1 THB coins"
   ]
  },
  {
   "cell_type": "code",
   "execution_count": 61,
   "metadata": {},
   "outputs": [],
   "source": [
    "def recMinCoin(coinValueList, change):\n",
    "    minCoins = change\n",
    "    if change in coinValueList:     # Base Case\n",
    "        return 1\n",
    "    else:                           # Recursive Case\n",
    "        for i in [c for c in coinValueList if c <= change]:\n",
    "            numCoins = 1 + recMinCoin(coinValueList, change-i)\n",
    "            if numCoins < minCoins:\n",
    "                minCoins = numCoins\n",
    "    return minCoins\n"
   ]
  },
  {
   "cell_type": "markdown",
   "metadata": {},
   "source": [
    "Return the minimum number of coins used"
   ]
  },
  {
   "cell_type": "code",
   "execution_count": null,
   "metadata": {},
   "outputs": [],
   "source": [
    "print(recMinCoin([1, 2, 5, 10], 13))"
   ]
  },
  {
   "cell_type": "markdown",
   "metadata": {},
   "source": [
    "How about the value of change is 50?"
   ]
  },
  {
   "cell_type": "code",
   "execution_count": null,
   "metadata": {},
   "outputs": [],
   "source": [
    "print(recMinCoin([1, 2, 5, 10], 50))"
   ]
  },
  {
   "cell_type": "markdown",
   "metadata": {},
   "source": [
    "Add a cache (knownResults) to reduce the number of recursions"
   ]
  },
  {
   "cell_type": "code",
   "execution_count": 64,
   "metadata": {},
   "outputs": [],
   "source": [
    "# Added Cache\n",
    "\n",
    "def recMinCoin_cache(coinValueList, change, knownResults):\n",
    "    minCoins = change\n",
    "    if change in coinValueList:     # Base Case\n",
    "        knownResults[change] = 1\n",
    "        return 1\n",
    "    elif knownResults[change] > 0:  # Case when the result in the table is found, so skip compute step\n",
    "        return knownResults[change]\n",
    "    else: #Recursive Case\n",
    "        for i in [c for c in coinValueList if c <= change]:\n",
    "            numCoins = 1 + recMinCoin_cache(coinValueList, change-i, knownResults)\n",
    "            if numCoins < minCoins:\n",
    "                minCoins = numCoins\n",
    "                knownResults[change] = minCoins\n",
    "    return minCoins\n"
   ]
  },
  {
   "cell_type": "code",
   "execution_count": null,
   "metadata": {},
   "outputs": [],
   "source": [
    "print(recMinCoin_cache([1, 2, 5, 10], 13, [0]*14))"
   ]
  },
  {
   "cell_type": "markdown",
   "metadata": {},
   "source": [
    "How about the value of change is 50?"
   ]
  },
  {
   "cell_type": "code",
   "execution_count": null,
   "metadata": {},
   "outputs": [],
   "source": [
    "print(recMinCoin_cache([1, 2, 5, 10], 50, [0]*51))"
   ]
  },
  {
   "cell_type": "markdown",
   "metadata": {},
   "source": [
    "# Lab 9-1 Coin Exchange Algorithm - Using Greedy approach to find a local optimal solution"
   ]
  },
  {
   "cell_type": "markdown",
   "metadata": {},
   "source": [
    "Write a function `coinExchange(amount, coinValueList, coinQuantityList)` to compute a solution for exchanging various coin(s) that matches the given `amount`.\n",
    "- Apply Greedy approach by aiming for minimum number of quantity of exchanged coins.\n",
    "- `coinValueList` lists the face value of each coin in THB.\n",
    "- `coinQuantityList` describes the available quantity of each coin.\n",
    "    - For instance, if `coinValueList = [10, 5, 2, 1]` and `coinQuanityList = [50, 60, 70, 100]`, \n",
    "        - this means there are 50 coins of 10-THB coin, 60 coins of 5-THB coin, 70 coins of 2-THB coin, and 100 coins of 1-THB coin. \n",
    "- `amount` is an integer representing the target total value of exchanged coins.\n",
    "- Return the quantity of each coin that is exchanged.\n",
    "    - If the quantity of coins are not sufficient to the input amount, then return \"Unable to exchange due to insufficient coins\""
   ]
  },
  {
   "cell_type": "code",
   "execution_count": 58,
   "metadata": {},
   "outputs": [],
   "source": [
    "def coinExchange(amount, coinValueList, coinQuantityList):\n",
    "    ######################\n",
    "    #   Add your code here\n",
    "    ######################\n",
    "    pass"
   ]
  },
  {
   "cell_type": "code",
   "execution_count": 59,
   "metadata": {},
   "outputs": [
    {
     "name": "stdout",
     "output_type": "stream",
     "text": [
      "Amount: 117\n",
      "Return 10 of 10 THB coins\n",
      "Return 3 of 5 THB coins\n",
      "Return 1 of 2 THB coins\n",
      "Total number of exchanged coins: 14\n"
     ]
    },
    {
     "data": {
      "text/plain": [
       "[10, 3, 1, 0]"
      ]
     },
     "execution_count": 59,
     "metadata": {},
     "output_type": "execute_result"
    }
   ],
   "source": [
    "coinDict = {10:10, 5:10, 2:10, 1:10}\n",
    "coinExchange(117, coinDict)"
   ]
  },
  {
   "cell_type": "code",
   "execution_count": 60,
   "metadata": {},
   "outputs": [
    {
     "name": "stdout",
     "output_type": "stream",
     "text": [
      "Amount: 249\n",
      "Coins are not enough.\n"
     ]
    },
    {
     "data": {
      "text/plain": [
       "[0, 0, 0, 0]"
      ]
     },
     "execution_count": 60,
     "metadata": {},
     "output_type": "execute_result"
    }
   ],
   "source": [
    "coinDict = {10:10, 5:10, 2:10, 1:10}\n",
    "coinExchange(249, coinDict)"
   ]
  },
  {
   "cell_type": "markdown",
   "metadata": {},
   "source": [
    "# Lab 9-2: 0-1 Knapsack"
   ]
  },
  {
   "cell_type": "markdown",
   "metadata": {},
   "source": [
    "Write a function `knapsack(amount, itemList)` to take an item from `itemList` and put in a knapsack that has a capacity of given `amount` kg.\n",
    "- Apply Greedy approach by aiming for maximised total **value-to-weight** ratio.\n",
    "- Each item has only one quantity.\n",
    "- Items have different values and weights.\n",
    "    - For example, a guitar costs 1,500 USD with a weight of 15 lbs.\n",
    "- `itemList` is an instance of an `Item` class describing attributes of name, price and weight.\n",
    "- `amount` is an integer representing a maximum capacity of a knapsack.\n",
    "- Return the item(s) that is taken and displays the total value.\n",
    "    - If there is not any item taken, return \"No item taken, knapsack remains empty\"\n",
    "\n",
    "Hint: Sorting algorithm might be helpful for sorting items from highest value to lowest value."
   ]
  },
  {
   "cell_type": "code",
   "execution_count": 4,
   "metadata": {},
   "outputs": [],
   "source": [
    "class Item:\n",
    "    def __init__(self, name, price, weight):\n",
    "        self.name = name\n",
    "        self.price = price\n",
    "        self.weight = weight\n",
    "\n",
    "    def getName(self):\n",
    "        return self.name\n",
    "    \n",
    "    def getPrice(self):\n",
    "        return self.price\n",
    "    \n",
    "    def getWeight(self):\n",
    "        return self.weight\n",
    "    \n",
    "    def getCost(self):\n",
    "        ######################\n",
    "         #   Add your code here\n",
    "        ######################\n",
    "        pass"
   ]
  },
  {
   "cell_type": "code",
   "execution_count": 27,
   "metadata": {},
   "outputs": [],
   "source": [
    "def knapsack(amount, itemList):\n",
    "    ######################\n",
    "    #   Add your code here\n",
    "    ######################\n",
    "    pass"
   ]
  },
  {
   "cell_type": "code",
   "execution_count": 28,
   "metadata": {},
   "outputs": [
    {
     "name": "stdout",
     "output_type": "stream",
     "text": [
      "Knapsack Size: 3.5 kg\n",
      "===============================\n",
      "Total: 3000 THB\n",
      "Total Capacity left: 0.5 kg\n",
      "===============================\n",
      "Selected item:\n",
      "stereo -> 3 kg -> 3000 THB\n"
     ]
    }
   ],
   "source": [
    "item1 = Item('stereo', 3000, 3)\n",
    "item2 = Item('laptop', 2000, 2)\n",
    "item3 = Item('guitar', 1500, 1.5)\n",
    "itemList = [item1, item2, item3]\n",
    "\n",
    "result = knapsack(3.5, itemList)\n",
    "\n",
    "print(\"Selected item:\")\n",
    "for i in result:\n",
    "    print(i.getName(), \"->\", i.getWeight(), \"kg\", \"->\", i.getPrice(), \"THB\")"
   ]
  },
  {
   "cell_type": "code",
   "execution_count": 29,
   "metadata": {},
   "outputs": [
    {
     "name": "stdout",
     "output_type": "stream",
     "text": [
      "Knapsack Size: 3.5 kg\n",
      "===============================\n",
      "Total: 30000 THB\n",
      "Total Capacity left: 1.0 kg\n",
      "===============================\n",
      "Selected item:\n",
      "watch -> 0.5 kg -> 8000 THB\n",
      "tablet -> 0.5 kg -> 7000 THB\n",
      "perfume -> 0.5 kg -> 6000 THB\n",
      "guitar -> 1 kg -> 9000 THB\n"
     ]
    }
   ],
   "source": [
    "item1 = Item('tablet', 7000, 0.5)\n",
    "item2 = Item('perfume', 6000, 0.5)\n",
    "item3 = Item('guitar', 9000, 1)\n",
    "item4 = Item('air purifier', 9000, 2)\n",
    "item5= Item('watch', 8000, 0.5)\n",
    "itemList = [item1, item2, item3, item4, item5]\n",
    "result = knapsack(3.5, itemList)\n",
    "\n",
    "print(\"Selected item:\")\n",
    "for i in result:\n",
    "    print(i.getName(), \"->\", i.getWeight(), \"kg\", \"->\", i.getPrice(), \"THB\")"
   ]
  }
 ],
 "metadata": {
  "kernelspec": {
   "display_name": "Python 3",
   "language": "python",
   "name": "python3"
  },
  "language_info": {
   "codemirror_mode": {
    "name": "ipython",
    "version": 3
   },
   "file_extension": ".py",
   "mimetype": "text/x-python",
   "name": "python",
   "nbconvert_exporter": "python",
   "pygments_lexer": "ipython3",
   "version": "3.10.2"
  },
  "orig_nbformat": 4
 },
 "nbformat": 4,
 "nbformat_minor": 2
}
